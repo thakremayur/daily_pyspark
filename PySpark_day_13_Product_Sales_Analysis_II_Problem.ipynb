{
  "nbformat": 4,
  "nbformat_minor": 0,
  "metadata": {
    "colab": {
      "provenance": []
    },
    "kernelspec": {
      "name": "python3",
      "display_name": "Python 3"
    },
    "language_info": {
      "name": "python"
    }
  },
  "cells": [
    {
      "cell_type": "code",
      "execution_count": 1,
      "metadata": {
        "colab": {
          "base_uri": "https://localhost:8080/"
        },
        "id": "2Fwt2dy8GvPA",
        "outputId": "c3515fb5-11fe-4717-bf47-71e5cec93900"
      },
      "outputs": [
        {
          "output_type": "stream",
          "name": "stdout",
          "text": [
            "Collecting pyspark\n",
            "  Downloading pyspark-3.5.3.tar.gz (317.3 MB)\n",
            "\u001b[2K     \u001b[90m━━━━━━━━━━━━━━━━━━━━━━━━━━━━━━━━━━━━━━━━\u001b[0m \u001b[32m317.3/317.3 MB\u001b[0m \u001b[31m4.3 MB/s\u001b[0m eta \u001b[36m0:00:00\u001b[0m\n",
            "\u001b[?25h  Preparing metadata (setup.py) ... \u001b[?25l\u001b[?25hdone\n",
            "Requirement already satisfied: py4j==0.10.9.7 in /usr/local/lib/python3.10/dist-packages (from pyspark) (0.10.9.7)\n",
            "Building wheels for collected packages: pyspark\n",
            "  Building wheel for pyspark (setup.py) ... \u001b[?25l\u001b[?25hdone\n",
            "  Created wheel for pyspark: filename=pyspark-3.5.3-py2.py3-none-any.whl size=317840625 sha256=5122ee77e776ce787b9b590394303461939fce74d6c720e1899b06d872188d0f\n",
            "  Stored in directory: /root/.cache/pip/wheels/1b/3a/92/28b93e2fbfdbb07509ca4d6f50c5e407f48dce4ddbda69a4ab\n",
            "Successfully built pyspark\n",
            "Installing collected packages: pyspark\n",
            "Successfully installed pyspark-3.5.3\n"
          ]
        }
      ],
      "source": [
        "# ps-43\n",
        "%pip install pyspark"
      ]
    },
    {
      "cell_type": "markdown",
      "source": [
        "🌟 𝐏𝐘𝐒𝐏𝐀𝐑𝐊 𝐏𝐫𝐚𝐜𝐭𝐢𝐜𝐞/𝐈𝐧𝐭𝐞𝐫𝐯𝐢𝐞𝐰 𝐏𝐫𝐨𝐛𝐥𝐞𝐦 📊\n",
        "========================================\n",
        "Product Sales Analysis II Problem\n",
        "Write an pyspark code that reports the total quantity sold for every product id.\n",
        "\n",
        "𝐒𝐜𝐡𝐞𝐦𝐚 𝐀𝐧𝐝 𝐃𝐚𝐭𝐚:\n",
        "================\n",
        " # Define the schema for the sales table\n",
        "sales_schema = StructType([\n",
        " StructField(\"sale_id\", IntegerType(), True),\n",
        " StructField(\"product_id\", IntegerType(), True),\n",
        " StructField(\"year\", IntegerType(), True),\n",
        " StructField(\"quantity\", IntegerType(), True),\n",
        " StructField(\"price\", IntegerType(), True)\n",
        "])\n",
        "# Data for the sales table\n",
        "sales_data = [(1, 100, 2008, 10, 5000),\n",
        " (2, 100, 2009, 12, 5000),\n",
        " (7, 200, 2011, 15, 9000)]\n",
        "\n",
        "# Data for the product table\n",
        "product_data = [(100, \"Nokia\"),\n",
        " (200, \"Apple\"),\n",
        " (300, \"Samsung\")]\n",
        "# Define the schema for the product table\n",
        "product_schema = StructType([\n",
        " StructField(\"product_id\", IntegerType(), True),\n",
        " StructField(\"product_name\", StringType(), True)\n",
        "])"
      ],
      "metadata": {
        "id": "8VRd0tKXKe5U"
      }
    },
    {
      "cell_type": "code",
      "source": [
        "# import all necessary module\n",
        "from pyspark.sql import *\n",
        "from pyspark.sql.types import *\n",
        "from pyspark.sql.functions import *"
      ],
      "metadata": {
        "id": "QE0IjoyKG_1_"
      },
      "execution_count": 2,
      "outputs": []
    },
    {
      "cell_type": "code",
      "source": [
        "# create spark session\n",
        "spark = SparkSession.builder.master('local').appName('pyspark-day-13').getOrCreate()\n",
        "spark"
      ],
      "metadata": {
        "colab": {
          "base_uri": "https://localhost:8080/",
          "height": 221
        },
        "id": "jkNVesh6Kkmq",
        "outputId": "b7d04c9f-6fec-4be1-ccec-34a93ea81b9d"
      },
      "execution_count": 3,
      "outputs": [
        {
          "output_type": "execute_result",
          "data": {
            "text/plain": [
              "<pyspark.sql.session.SparkSession at 0x7e49ac28d7e0>"
            ],
            "text/html": [
              "\n",
              "            <div>\n",
              "                <p><b>SparkSession - in-memory</b></p>\n",
              "                \n",
              "        <div>\n",
              "            <p><b>SparkContext</b></p>\n",
              "\n",
              "            <p><a href=\"http://29db3eacde0e:4040\">Spark UI</a></p>\n",
              "\n",
              "            <dl>\n",
              "              <dt>Version</dt>\n",
              "                <dd><code>v3.5.3</code></dd>\n",
              "              <dt>Master</dt>\n",
              "                <dd><code>local</code></dd>\n",
              "              <dt>AppName</dt>\n",
              "                <dd><code>pyspark-day-11</code></dd>\n",
              "            </dl>\n",
              "        </div>\n",
              "        \n",
              "            </div>\n",
              "        "
            ]
          },
          "metadata": {},
          "execution_count": 3
        }
      ]
    },
    {
      "cell_type": "code",
      "source": [
        " # Define the schema for the sales table\n",
        "sales_schema = StructType([\n",
        " StructField(\"sale_id\", IntegerType(), True),\n",
        " StructField(\"product_id\", IntegerType(), True),\n",
        " StructField(\"year\", IntegerType(), True),\n",
        " StructField(\"quantity\", IntegerType(), True),\n",
        " StructField(\"price\", IntegerType(), True)\n",
        "])\n",
        "# Data for the sales table\n",
        "sales_data = [(1, 100, 2008, 10, 5000),\n",
        " (2, 100, 2009, 12, 5000),\n",
        " (7, 200, 2011, 15, 9000)]"
      ],
      "metadata": {
        "id": "q03SJNtwKmwB"
      },
      "execution_count": 4,
      "outputs": []
    },
    {
      "cell_type": "code",
      "source": [
        "# Data for the product table\n",
        "product_data = [(100, \"Nokia\"),\n",
        " (200, \"Apple\"),\n",
        " (300, \"Samsung\")]\n",
        "# Define the schema for the product table\n",
        "product_schema = StructType([\n",
        " StructField(\"product_id\", IntegerType(), True),\n",
        " StructField(\"product_name\", StringType(), True)\n",
        "])"
      ],
      "metadata": {
        "id": "Y52arruzK0PR"
      },
      "execution_count": 5,
      "outputs": []
    },
    {
      "cell_type": "code",
      "source": [
        "# create sales df\n",
        "sale_df = spark.createDataFrame(schema = sales_schema, data = sales_data)\n",
        "sale_df.show()"
      ],
      "metadata": {
        "colab": {
          "base_uri": "https://localhost:8080/"
        },
        "id": "HNXarbhLK08v",
        "outputId": "ecba3276-3a6e-4917-dfb7-a6ff9fc4bc84"
      },
      "execution_count": 6,
      "outputs": [
        {
          "output_type": "stream",
          "name": "stdout",
          "text": [
            "+-------+----------+----+--------+-----+\n",
            "|sale_id|product_id|year|quantity|price|\n",
            "+-------+----------+----+--------+-----+\n",
            "|      1|       100|2008|      10| 5000|\n",
            "|      2|       100|2009|      12| 5000|\n",
            "|      7|       200|2011|      15| 9000|\n",
            "+-------+----------+----+--------+-----+\n",
            "\n"
          ]
        }
      ]
    },
    {
      "cell_type": "code",
      "source": [
        "sale_df.printSchema()"
      ],
      "metadata": {
        "colab": {
          "base_uri": "https://localhost:8080/"
        },
        "id": "6EddD58TLC3N",
        "outputId": "457944f3-f895-49d8-bd23-bb43f9b9100c"
      },
      "execution_count": 7,
      "outputs": [
        {
          "output_type": "stream",
          "name": "stdout",
          "text": [
            "root\n",
            " |-- sale_id: integer (nullable = true)\n",
            " |-- product_id: integer (nullable = true)\n",
            " |-- year: integer (nullable = true)\n",
            " |-- quantity: integer (nullable = true)\n",
            " |-- price: integer (nullable = true)\n",
            "\n"
          ]
        }
      ]
    },
    {
      "cell_type": "code",
      "source": [
        "# create product df\n",
        "product_df = spark.createDataFrame(schema = product_schema, data = product_data)\n",
        "product_df.show()"
      ],
      "metadata": {
        "colab": {
          "base_uri": "https://localhost:8080/"
        },
        "id": "rLlQsingLGQ9",
        "outputId": "d3918a32-82c9-4d1c-e5d8-e82de267196a"
      },
      "execution_count": 8,
      "outputs": [
        {
          "output_type": "stream",
          "name": "stdout",
          "text": [
            "+----------+------------+\n",
            "|product_id|product_name|\n",
            "+----------+------------+\n",
            "|       100|       Nokia|\n",
            "|       200|       Apple|\n",
            "|       300|     Samsung|\n",
            "+----------+------------+\n",
            "\n"
          ]
        }
      ]
    },
    {
      "cell_type": "code",
      "source": [
        "product_df.printSchema()"
      ],
      "metadata": {
        "colab": {
          "base_uri": "https://localhost:8080/"
        },
        "id": "hF7oEPVNLT8N",
        "outputId": "b44206d0-6945-43a8-d3b9-ac183a0ff385"
      },
      "execution_count": 9,
      "outputs": [
        {
          "output_type": "stream",
          "name": "stdout",
          "text": [
            "root\n",
            " |-- product_id: integer (nullable = true)\n",
            " |-- product_name: string (nullable = true)\n",
            "\n"
          ]
        }
      ]
    },
    {
      "cell_type": "code",
      "source": [
        "# join both df\n",
        "join_df = sale_df.join(product_df, on='product_id',  how='inner')\n",
        "join_df.show()"
      ],
      "metadata": {
        "colab": {
          "base_uri": "https://localhost:8080/"
        },
        "id": "xwYY8fFMLXL7",
        "outputId": "cdf0ad62-e9cf-4ee3-a360-fb09d00f16fc"
      },
      "execution_count": 10,
      "outputs": [
        {
          "output_type": "stream",
          "name": "stdout",
          "text": [
            "+----------+-------+----+--------+-----+------------+\n",
            "|product_id|sale_id|year|quantity|price|product_name|\n",
            "+----------+-------+----+--------+-----+------------+\n",
            "|       100|      1|2008|      10| 5000|       Nokia|\n",
            "|       100|      2|2009|      12| 5000|       Nokia|\n",
            "|       200|      7|2011|      15| 9000|       Apple|\n",
            "+----------+-------+----+--------+-----+------------+\n",
            "\n"
          ]
        }
      ]
    },
    {
      "cell_type": "code",
      "source": [
        "# group by product id and take sum of qty\n",
        "join_df.groupBy('product_id').agg(sum('quantity').alias('total_qta')).show()"
      ],
      "metadata": {
        "colab": {
          "base_uri": "https://localhost:8080/"
        },
        "id": "43O_YzMQMG5o",
        "outputId": "01f0eeb8-ac8f-4faf-ab3b-84293b5b9862"
      },
      "execution_count": 11,
      "outputs": [
        {
          "output_type": "stream",
          "name": "stdout",
          "text": [
            "+----------+---------+\n",
            "|product_id|total_qta|\n",
            "+----------+---------+\n",
            "|       100|       22|\n",
            "|       200|       15|\n",
            "+----------+---------+\n",
            "\n"
          ]
        }
      ]
    }
  ]
}