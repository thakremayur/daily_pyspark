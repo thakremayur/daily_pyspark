{
  "nbformat": 4,
  "nbformat_minor": 0,
  "metadata": {
    "colab": {
      "provenance": []
    },
    "kernelspec": {
      "name": "python3",
      "display_name": "Python 3"
    },
    "language_info": {
      "name": "python"
    }
  },
  "cells": [
    {
      "cell_type": "code",
      "execution_count": 1,
      "metadata": {
        "colab": {
          "base_uri": "https://localhost:8080/"
        },
        "id": "sK0O1iOdYBTl",
        "outputId": "a9beb717-7d83-4188-dfbe-3ce3ff4ce1d9"
      },
      "outputs": [
        {
          "output_type": "stream",
          "name": "stdout",
          "text": [
            "Collecting pyspark\n",
            "  Downloading pyspark-3.5.3.tar.gz (317.3 MB)\n",
            "\u001b[2K     \u001b[90m━━━━━━━━━━━━━━━━━━━━━━━━━━━━━━━━━━━━━━━━\u001b[0m \u001b[32m317.3/317.3 MB\u001b[0m \u001b[31m4.8 MB/s\u001b[0m eta \u001b[36m0:00:00\u001b[0m\n",
            "\u001b[?25h  Preparing metadata (setup.py) ... \u001b[?25l\u001b[?25hdone\n",
            "Requirement already satisfied: py4j==0.10.9.7 in /usr/local/lib/python3.10/dist-packages (from pyspark) (0.10.9.7)\n",
            "Building wheels for collected packages: pyspark\n",
            "  Building wheel for pyspark (setup.py) ... \u001b[?25l\u001b[?25hdone\n",
            "  Created wheel for pyspark: filename=pyspark-3.5.3-py2.py3-none-any.whl size=317840625 sha256=ff52f10b90dcb2f04aed32fb49932253956a1b56a531de8564e03c145ad8889c\n",
            "  Stored in directory: /root/.cache/pip/wheels/1b/3a/92/28b93e2fbfdbb07509ca4d6f50c5e407f48dce4ddbda69a4ab\n",
            "Successfully built pyspark\n",
            "Installing collected packages: pyspark\n",
            "Successfully installed pyspark-3.5.3\n"
          ]
        }
      ],
      "source": [
        "# ps-33\n",
        "%pip install pyspark"
      ]
    },
    {
      "cell_type": "markdown",
      "source": [
        "𝐇𝐨𝐛𝐛𝐢𝐞𝐬 𝐃𝐚𝐭𝐚 𝐓𝐫𝐚𝐧𝐬𝐟𝐨𝐫𝐦𝐚𝐭𝐢𝐨𝐧\n",
        "\n",
        "Problem Statement:\n",
        "Transform a dataset with individuals' names and associated hobbies into a new format using PySpark.\n",
        "Convert the comma-separated hobbies into separate rows, creating a DataFrame with individual rows\n",
        "for each person and their respective hobbies.\n",
        "\n",
        "𝐒𝐜𝐡𝐞𝐦𝐚 𝐀𝐧𝐝 𝐃𝐚𝐭𝐚:\n",
        "================\n",
        "\n",
        "# Sample input data\n",
        "data = [(\"Alice\", \"badminton,tennis\"),\n",
        " (\"Bob\", \"tennis,cricket\"),\n",
        " (\"Julie\", \"cricket,carroms\")]\n",
        "\n",
        "# Create a DataFrame\n",
        "df = spark.createDataFrame(data, [\"name\", \"hobbies\"])"
      ],
      "metadata": {
        "id": "e37vTKErYsQp"
      }
    },
    {
      "cell_type": "code",
      "source": [
        "# import all necessary module\n",
        "from pyspark.sql import *\n",
        "from pyspark.sql.types import *\n",
        "from pyspark.sql.functions import *"
      ],
      "metadata": {
        "id": "FnvGHiSqYX75"
      },
      "execution_count": 2,
      "outputs": []
    },
    {
      "cell_type": "code",
      "source": [
        "# create spark session\n",
        "spark = SparkSession.builder.master('local').appName('pyspark-day-23').getOrCreate()\n",
        "spark"
      ],
      "metadata": {
        "colab": {
          "base_uri": "https://localhost:8080/",
          "height": 221
        },
        "id": "zSpPtN2bYbsv",
        "outputId": "409a0ce2-5e5a-4ed7-e254-d62b66e0607b"
      },
      "execution_count": 3,
      "outputs": [
        {
          "output_type": "execute_result",
          "data": {
            "text/plain": [
              "<pyspark.sql.session.SparkSession at 0x7b2134185ea0>"
            ],
            "text/html": [
              "\n",
              "            <div>\n",
              "                <p><b>SparkSession - in-memory</b></p>\n",
              "                \n",
              "        <div>\n",
              "            <p><b>SparkContext</b></p>\n",
              "\n",
              "            <p><a href=\"http://5f4054006b6f:4040\">Spark UI</a></p>\n",
              "\n",
              "            <dl>\n",
              "              <dt>Version</dt>\n",
              "                <dd><code>v3.5.3</code></dd>\n",
              "              <dt>Master</dt>\n",
              "                <dd><code>local</code></dd>\n",
              "              <dt>AppName</dt>\n",
              "                <dd><code>pyspark-day-23</code></dd>\n",
              "            </dl>\n",
              "        </div>\n",
              "        \n",
              "            </div>\n",
              "        "
            ]
          },
          "metadata": {},
          "execution_count": 3
        }
      ]
    },
    {
      "cell_type": "code",
      "source": [
        "# Sample input data\n",
        "data = [(\"Alice\", \"badminton,tennis\"),\n",
        " (\"Bob\", \"tennis,cricket\"),\n",
        " (\"Julie\", \"cricket,carroms\")]\n",
        "\n",
        "# Create a DataFrame\n",
        "df = spark.createDataFrame(data, [\"name\", \"hobbies\"])\n",
        "df.show()"
      ],
      "metadata": {
        "colab": {
          "base_uri": "https://localhost:8080/"
        },
        "id": "xTomkIwJY3Ys",
        "outputId": "4b618122-360c-409a-e14e-036897a0cb2a"
      },
      "execution_count": 5,
      "outputs": [
        {
          "output_type": "stream",
          "name": "stdout",
          "text": [
            "+-----+----------------+\n",
            "| name|         hobbies|\n",
            "+-----+----------------+\n",
            "|Alice|badminton,tennis|\n",
            "|  Bob|  tennis,cricket|\n",
            "|Julie| cricket,carroms|\n",
            "+-----+----------------+\n",
            "\n"
          ]
        }
      ]
    },
    {
      "cell_type": "code",
      "source": [
        "# first split column on comm, then\n",
        "df_split = df.withColumn('hobbies',split(col('hobbies'),','))\n",
        "df_split.show()\n"
      ],
      "metadata": {
        "colab": {
          "base_uri": "https://localhost:8080/"
        },
        "id": "gDal8MnEY6S9",
        "outputId": "e0e061e1-11be-447b-f7da-1ec9c6196ff9"
      },
      "execution_count": 7,
      "outputs": [
        {
          "output_type": "stream",
          "name": "stdout",
          "text": [
            "+-----+-------------------+\n",
            "| name|            hobbies|\n",
            "+-----+-------------------+\n",
            "|Alice|[badminton, tennis]|\n",
            "|  Bob|  [tennis, cricket]|\n",
            "|Julie| [cricket, carroms]|\n",
            "+-----+-------------------+\n",
            "\n"
          ]
        }
      ]
    },
    {
      "cell_type": "code",
      "source": [
        "# now explode the list\n",
        "df_split.withColumn('hobby',explode('hobbies')).select('name', 'hobby').show()"
      ],
      "metadata": {
        "colab": {
          "base_uri": "https://localhost:8080/"
        },
        "id": "zP6DhV6RaKVI",
        "outputId": "7122db8e-8a09-4428-9387-01fc647f6ccf"
      },
      "execution_count": 8,
      "outputs": [
        {
          "output_type": "stream",
          "name": "stdout",
          "text": [
            "+-----+---------+\n",
            "| name|    hobby|\n",
            "+-----+---------+\n",
            "|Alice|badminton|\n",
            "|Alice|   tennis|\n",
            "|  Bob|   tennis|\n",
            "|  Bob|  cricket|\n",
            "|Julie|  cricket|\n",
            "|Julie|  carroms|\n",
            "+-----+---------+\n",
            "\n"
          ]
        }
      ]
    }
  ]
}