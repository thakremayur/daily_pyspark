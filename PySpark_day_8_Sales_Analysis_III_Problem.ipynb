{
  "nbformat": 4,
  "nbformat_minor": 0,
  "metadata": {
    "colab": {
      "provenance": []
    },
    "kernelspec": {
      "name": "python3",
      "display_name": "Python 3"
    },
    "language_info": {
      "name": "python"
    }
  },
  "cells": [
    {
      "cell_type": "code",
      "execution_count": 1,
      "metadata": {
        "colab": {
          "base_uri": "https://localhost:8080/"
        },
        "id": "xruqMToF9ibi",
        "outputId": "d797e13e-c3ef-4e4c-cd55-4c330dda7434"
      },
      "outputs": [
        {
          "output_type": "stream",
          "name": "stdout",
          "text": [
            "Collecting pyspark\n",
            "  Downloading pyspark-3.5.2.tar.gz (317.3 MB)\n",
            "\u001b[2K     \u001b[90m━━━━━━━━━━━━━━━━━━━━━━━━━━━━━━━━━━━━━━━━\u001b[0m \u001b[32m317.3/317.3 MB\u001b[0m \u001b[31m4.6 MB/s\u001b[0m eta \u001b[36m0:00:00\u001b[0m\n",
            "\u001b[?25h  Preparing metadata (setup.py) ... \u001b[?25l\u001b[?25hdone\n",
            "Requirement already satisfied: py4j==0.10.9.7 in /usr/local/lib/python3.10/dist-packages (from pyspark) (0.10.9.7)\n",
            "Building wheels for collected packages: pyspark\n",
            "  Building wheel for pyspark (setup.py) ... \u001b[?25l\u001b[?25hdone\n",
            "  Created wheel for pyspark: filename=pyspark-3.5.2-py2.py3-none-any.whl size=317812365 sha256=bc76ae24a7b2dffe9902b085dec5f20f97643f6d24c3c3215a3c453074d14ef9\n",
            "  Stored in directory: /root/.cache/pip/wheels/34/34/bd/03944534c44b677cd5859f248090daa9fb27b3c8f8e5f49574\n",
            "Successfully built pyspark\n",
            "Installing collected packages: pyspark\n",
            "Successfully installed pyspark-3.5.2\n"
          ]
        }
      ],
      "source": [
        "# ps48\n",
        "%pip install pyspark"
      ]
    },
    {
      "cell_type": "markdown",
      "source": [
        "🌟 𝐏𝐘𝐒𝐏𝐀𝐑𝐊 𝐏𝐫𝐚𝐜𝐭𝐢𝐜𝐞/𝐈𝐧𝐭𝐞𝐫𝐯𝐢𝐞𝐰 𝐏𝐫𝐨𝐛𝐥𝐞𝐦 📊\n",
        "========================================\n",
        "Sales Analysis III Problem\n",
        "\n",
        "Write an pyspark code that reports the products that were sold in spring 2019. That is, between 2019-01-01 and 2019-03-31 inclusive.\n",
        "\n",
        "𝐒𝐜𝐡𝐞𝐦𝐚 𝐀𝐧𝐝 𝐃𝐚𝐭𝐚:\n",
        "================\n",
        "\n",
        " # Define the schema for Product table\n",
        "product_schema = StructType([\n",
        " StructField(\"product_id\", IntegerType(), True),\n",
        " StructField(\"product_name\", StringType(), True),\n",
        " StructField(\"unit_price\", IntegerType(), True)\n",
        "])\n",
        "# Data for Product table\n",
        "product_data = [(1, \"S8\", 1000),\n",
        " (2, \"G4\", 800),\n",
        " (3, \"iPhone\", 1400)]\n",
        "\n",
        "# Define the schema for Sales table\n",
        "sales_schema = StructType([\n",
        " StructField(\"seller_id\", IntegerType(), True),\n",
        " StructField(\"product_id\", IntegerType(), True),\n",
        " StructField(\"buyer_id\", IntegerType(), True),\n",
        " StructField(\"sale_date\", StringType(), True),\n",
        " StructField(\"quantity\", IntegerType(), True),\n",
        " StructField(\"price\", IntegerType(), True)\n",
        "])\n",
        "# Data for Sales table\n",
        "sales_data = [(1, 1, 1, \"2019-01-21\", 2, 2000),\n",
        " (1, 2, 2, \"2019-02-17\", 1, 800),\n",
        " (2, 2, 3, \"2019-06-02\", 1, 800),\n",
        " (3, 3, 4, \"2019-05-13\", 2, 2800)]"
      ],
      "metadata": {
        "id": "i2s6pqUL97yv"
      }
    },
    {
      "cell_type": "code",
      "source": [
        "# import necessary module\n",
        "from pyspark.sql import *\n",
        "from pyspark.sql.types import *\n",
        "from pyspark.sql.functions import *"
      ],
      "metadata": {
        "id": "LBZdFWJZ-Ch6"
      },
      "execution_count": 2,
      "outputs": []
    },
    {
      "cell_type": "code",
      "source": [
        "# create spark session\n",
        "spark = SparkSession.builder.master('local').appName('pyspark-day-8').getOrCreate()\n",
        "spark"
      ],
      "metadata": {
        "colab": {
          "base_uri": "https://localhost:8080/",
          "height": 221
        },
        "id": "Vic4anlr-RdU",
        "outputId": "280fe094-067f-425a-b470-175a633d3f54"
      },
      "execution_count": 3,
      "outputs": [
        {
          "output_type": "execute_result",
          "data": {
            "text/plain": [
              "<pyspark.sql.session.SparkSession at 0x7b95c3ed5ae0>"
            ],
            "text/html": [
              "\n",
              "            <div>\n",
              "                <p><b>SparkSession - in-memory</b></p>\n",
              "                \n",
              "        <div>\n",
              "            <p><b>SparkContext</b></p>\n",
              "\n",
              "            <p><a href=\"http://cb5332d1b2fc:4040\">Spark UI</a></p>\n",
              "\n",
              "            <dl>\n",
              "              <dt>Version</dt>\n",
              "                <dd><code>v3.5.2</code></dd>\n",
              "              <dt>Master</dt>\n",
              "                <dd><code>local</code></dd>\n",
              "              <dt>AppName</dt>\n",
              "                <dd><code>pyspark-day-8</code></dd>\n",
              "            </dl>\n",
              "        </div>\n",
              "        \n",
              "            </div>\n",
              "        "
            ]
          },
          "metadata": {},
          "execution_count": 3
        }
      ]
    },
    {
      "cell_type": "code",
      "source": [
        "# define schema and data\n",
        " # Define the schema for Product table\n",
        "product_schema = StructType([\n",
        " StructField(\"product_id\", IntegerType(), True),\n",
        " StructField(\"product_name\", StringType(), True),\n",
        " StructField(\"unit_price\", IntegerType(), True)\n",
        "])\n",
        "# Data for Product table\n",
        "product_data = [(1, \"S8\", 1000),\n",
        " (2, \"G4\", 800),\n",
        " (3, \"iPhone\", 1400)]"
      ],
      "metadata": {
        "id": "pPWflLGW-kES"
      },
      "execution_count": 4,
      "outputs": []
    },
    {
      "cell_type": "code",
      "source": [
        "# Define the schema for Sales table\n",
        "sales_schema = StructType([\n",
        " StructField(\"seller_id\", IntegerType(), True),\n",
        " StructField(\"product_id\", IntegerType(), True),\n",
        " StructField(\"buyer_id\", IntegerType(), True),\n",
        " StructField(\"sale_date\", StringType(), True),\n",
        " StructField(\"quantity\", IntegerType(), True),\n",
        " StructField(\"price\", IntegerType(), True)\n",
        "])\n",
        "# Data for Sales table\n",
        "sales_data = [(1, 1, 1, \"2019-01-21\", 2, 2000),\n",
        " (1, 2, 2, \"2019-02-17\", 1, 800),\n",
        " (2, 2, 3, \"2019-06-02\", 1, 800),\n",
        " (3, 3, 4, \"2019-05-13\", 2, 2800)]"
      ],
      "metadata": {
        "id": "-iZGBbCQ_MFN"
      },
      "execution_count": 5,
      "outputs": []
    },
    {
      "cell_type": "code",
      "source": [
        "# create df for product\n",
        "product_df = spark.createDataFrame(schema = product_schema, data = product_data)\n",
        "product_df.show()"
      ],
      "metadata": {
        "colab": {
          "base_uri": "https://localhost:8080/"
        },
        "id": "A-FIe8e4_PxT",
        "outputId": "0990f2d4-132c-4c74-beb6-6fb9b74e21e1"
      },
      "execution_count": 6,
      "outputs": [
        {
          "output_type": "stream",
          "name": "stdout",
          "text": [
            "+----------+------------+----------+\n",
            "|product_id|product_name|unit_price|\n",
            "+----------+------------+----------+\n",
            "|         1|          S8|      1000|\n",
            "|         2|          G4|       800|\n",
            "|         3|      iPhone|      1400|\n",
            "+----------+------------+----------+\n",
            "\n"
          ]
        }
      ]
    },
    {
      "cell_type": "code",
      "source": [
        "# create df for sales\n",
        "sales_df = spark.createDataFrame(schema = sales_schema, data = sales_data)\n",
        "sales_df.show()"
      ],
      "metadata": {
        "colab": {
          "base_uri": "https://localhost:8080/"
        },
        "id": "fKt0fbSe_eP5",
        "outputId": "1b78fa96-b98e-4c71-ad5a-06d4aa8043cb"
      },
      "execution_count": 7,
      "outputs": [
        {
          "output_type": "stream",
          "name": "stdout",
          "text": [
            "+---------+----------+--------+----------+--------+-----+\n",
            "|seller_id|product_id|buyer_id| sale_date|quantity|price|\n",
            "+---------+----------+--------+----------+--------+-----+\n",
            "|        1|         1|       1|2019-01-21|       2| 2000|\n",
            "|        1|         2|       2|2019-02-17|       1|  800|\n",
            "|        2|         2|       3|2019-06-02|       1|  800|\n",
            "|        3|         3|       4|2019-05-13|       2| 2800|\n",
            "+---------+----------+--------+----------+--------+-----+\n",
            "\n"
          ]
        }
      ]
    },
    {
      "cell_type": "code",
      "source": [
        "product_df.printSchema()"
      ],
      "metadata": {
        "colab": {
          "base_uri": "https://localhost:8080/"
        },
        "id": "Lzkxnb7HAqSt",
        "outputId": "a533f4a7-e97b-4200-8976-4dd7edb7cda8"
      },
      "execution_count": 9,
      "outputs": [
        {
          "output_type": "stream",
          "name": "stdout",
          "text": [
            "root\n",
            " |-- product_id: integer (nullable = true)\n",
            " |-- product_name: string (nullable = true)\n",
            " |-- unit_price: integer (nullable = true)\n",
            "\n"
          ]
        }
      ]
    },
    {
      "cell_type": "code",
      "source": [
        "sales_df.printSchema()"
      ],
      "metadata": {
        "colab": {
          "base_uri": "https://localhost:8080/"
        },
        "id": "S4tCO38YApuN",
        "outputId": "a9a7dcd5-a7f5-42e1-8c2a-6fc0cc631a3c"
      },
      "execution_count": 10,
      "outputs": [
        {
          "output_type": "stream",
          "name": "stdout",
          "text": [
            "root\n",
            " |-- seller_id: integer (nullable = true)\n",
            " |-- product_id: integer (nullable = true)\n",
            " |-- buyer_id: integer (nullable = true)\n",
            " |-- sale_date: string (nullable = true)\n",
            " |-- quantity: integer (nullable = true)\n",
            " |-- price: integer (nullable = true)\n",
            "\n"
          ]
        }
      ]
    },
    {
      "cell_type": "code",
      "source": [
        "# filter data on sale_date col\n",
        "filter_sale = sales_df.filter(col('sale_date').between('2019-01-01','2019-03-31'))\n",
        "filter_sale.show()"
      ],
      "metadata": {
        "colab": {
          "base_uri": "https://localhost:8080/"
        },
        "id": "N882xvJJ_sA9",
        "outputId": "d4abc618-896c-41d7-9986-c1c521f3263b"
      },
      "execution_count": 12,
      "outputs": [
        {
          "output_type": "stream",
          "name": "stdout",
          "text": [
            "+---------+----------+--------+----------+--------+-----+\n",
            "|seller_id|product_id|buyer_id| sale_date|quantity|price|\n",
            "+---------+----------+--------+----------+--------+-----+\n",
            "|        1|         1|       1|2019-01-21|       2| 2000|\n",
            "|        1|         2|       2|2019-02-17|       1|  800|\n",
            "+---------+----------+--------+----------+--------+-----+\n",
            "\n"
          ]
        }
      ]
    },
    {
      "cell_type": "code",
      "source": [
        "# join filter_sale with product df\n",
        "result_df = product_df.join(filter_sale, on='product_id', how='inner')\n",
        "result_df.show()"
      ],
      "metadata": {
        "colab": {
          "base_uri": "https://localhost:8080/"
        },
        "id": "NIbJrA8WAa4o",
        "outputId": "99a73331-1cf1-4cf6-fc5e-158e3b57e9b7"
      },
      "execution_count": 13,
      "outputs": [
        {
          "output_type": "stream",
          "name": "stdout",
          "text": [
            "+----------+------------+----------+---------+--------+----------+--------+-----+\n",
            "|product_id|product_name|unit_price|seller_id|buyer_id| sale_date|quantity|price|\n",
            "+----------+------------+----------+---------+--------+----------+--------+-----+\n",
            "|         1|          S8|      1000|        1|       1|2019-01-21|       2| 2000|\n",
            "|         2|          G4|       800|        1|       2|2019-02-17|       1|  800|\n",
            "+----------+------------+----------+---------+--------+----------+--------+-----+\n",
            "\n"
          ]
        }
      ]
    },
    {
      "cell_type": "code",
      "source": [
        "# select only required column\n",
        "result_df.select('product_id','product_name','unit_price').show()"
      ],
      "metadata": {
        "colab": {
          "base_uri": "https://localhost:8080/"
        },
        "id": "MO6RrzoQ9stD",
        "outputId": "440d8e6f-071e-46ed-f84e-f52090b58949"
      },
      "execution_count": 14,
      "outputs": [
        {
          "output_type": "stream",
          "name": "stdout",
          "text": [
            "+----------+------------+----------+\n",
            "|product_id|product_name|unit_price|\n",
            "+----------+------------+----------+\n",
            "|         1|          S8|      1000|\n",
            "|         2|          G4|       800|\n",
            "+----------+------------+----------+\n",
            "\n"
          ]
        }
      ]
    }
  ]
}