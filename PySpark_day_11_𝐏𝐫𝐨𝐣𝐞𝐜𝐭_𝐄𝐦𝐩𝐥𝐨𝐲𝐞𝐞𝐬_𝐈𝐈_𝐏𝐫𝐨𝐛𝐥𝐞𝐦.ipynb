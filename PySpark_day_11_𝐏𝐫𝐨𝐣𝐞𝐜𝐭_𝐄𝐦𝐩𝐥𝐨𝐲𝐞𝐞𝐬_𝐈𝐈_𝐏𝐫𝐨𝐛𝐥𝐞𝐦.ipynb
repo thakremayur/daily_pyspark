{
  "nbformat": 4,
  "nbformat_minor": 0,
  "metadata": {
    "colab": {
      "provenance": []
    },
    "kernelspec": {
      "name": "python3",
      "display_name": "Python 3"
    },
    "language_info": {
      "name": "python"
    }
  },
  "cells": [
    {
      "cell_type": "code",
      "execution_count": 1,
      "metadata": {
        "colab": {
          "base_uri": "https://localhost:8080/"
        },
        "id": "tOhBh0GT4nye",
        "outputId": "242a44ed-7001-4549-abc7-690cd16830e7"
      },
      "outputs": [
        {
          "output_type": "stream",
          "name": "stdout",
          "text": [
            "Collecting pyspark\n",
            "  Downloading pyspark-3.5.2.tar.gz (317.3 MB)\n",
            "\u001b[2K     \u001b[90m━━━━━━━━━━━━━━━━━━━━━━━━━━━━━━━━━━━━━━━━\u001b[0m \u001b[32m317.3/317.3 MB\u001b[0m \u001b[31m4.4 MB/s\u001b[0m eta \u001b[36m0:00:00\u001b[0m\n",
            "\u001b[?25h  Preparing metadata (setup.py) ... \u001b[?25l\u001b[?25hdone\n",
            "Requirement already satisfied: py4j==0.10.9.7 in /usr/local/lib/python3.10/dist-packages (from pyspark) (0.10.9.7)\n",
            "Building wheels for collected packages: pyspark\n",
            "  Building wheel for pyspark (setup.py) ... \u001b[?25l\u001b[?25hdone\n",
            "  Created wheel for pyspark: filename=pyspark-3.5.2-py2.py3-none-any.whl size=317812365 sha256=cab3a6db804c7cba38ad207caeb28f93a6b4f9ac5fb36dfbbde0d0758474e801\n",
            "  Stored in directory: /root/.cache/pip/wheels/34/34/bd/03944534c44b677cd5859f248090daa9fb27b3c8f8e5f49574\n",
            "Successfully built pyspark\n",
            "Installing collected packages: pyspark\n",
            "Successfully installed pyspark-3.5.2\n"
          ]
        }
      ],
      "source": [
        "# ps-45\n",
        "%pip install pyspark"
      ]
    },
    {
      "cell_type": "markdown",
      "source": [
        "🌟 𝐏𝐘𝐒𝐏𝐀𝐑𝐊 𝐏𝐫𝐚𝐜𝐭𝐢𝐜𝐞/𝐈𝐧𝐭𝐞𝐫𝐯𝐢𝐞𝐰 𝐏𝐫𝐨𝐛𝐥𝐞𝐦 📊\n",
        "========================================\n",
        "𝐏𝐫𝐨𝐣𝐞𝐜𝐭 𝐄𝐦𝐩𝐥𝐨𝐲𝐞𝐞𝐬 𝐈𝐈 𝐏𝐫𝐨𝐛𝐥𝐞𝐦\n",
        "\n",
        "Write an Pyspark code that reports all the projects that have the most employees.\n",
        "\n",
        "𝐒𝐜𝐡𝐞𝐦𝐚 𝐀𝐧𝐝 𝐃𝐚𝐭𝐚:\n",
        "================\n",
        " # Define the Project table\n",
        "project_data = [\n",
        " (1, 1),\n",
        " (1, 2),\n",
        " (1, 3),\n",
        " (2, 1),\n",
        " (2, 4),\n",
        "]\n",
        "project_columns = [\"project_id\", \"employee_id\"]\n",
        "\n",
        " # Define the Employee table\n",
        "employee_data = [\n",
        " (1, \"Khaled\", 3),\n",
        " (2, \"Ali\", 2),\n",
        " (3, \"John\", 1),\n",
        " (4, \"Doe\", 2),\n",
        "]\n",
        "employee_columns = [\"employee_id\", \"name\", \"experience_years\"]"
      ],
      "metadata": {
        "id": "sOlrihGg46Xe"
      }
    },
    {
      "cell_type": "code",
      "source": [
        "# import all necessary module\n",
        "from pyspark.sql import *\n",
        "from pyspark.sql.types import *\n",
        "from pyspark.sql.functions import *"
      ],
      "metadata": {
        "id": "hBa_T0RJ42DF"
      },
      "execution_count": 2,
      "outputs": []
    },
    {
      "cell_type": "code",
      "source": [
        "# create spark session\n",
        "spark = SparkSession.builder.master('local').appName('pyspark-day-11').getOrCreate()\n",
        "spark"
      ],
      "metadata": {
        "colab": {
          "base_uri": "https://localhost:8080/",
          "height": 221
        },
        "id": "okCkkiVk5dUb",
        "outputId": "e9dbbe22-2d3b-47f2-cc06-b5d14cabd519"
      },
      "execution_count": 3,
      "outputs": [
        {
          "output_type": "execute_result",
          "data": {
            "text/plain": [
              "<pyspark.sql.session.SparkSession at 0x7f9db22eb550>"
            ],
            "text/html": [
              "\n",
              "            <div>\n",
              "                <p><b>SparkSession - in-memory</b></p>\n",
              "                \n",
              "        <div>\n",
              "            <p><b>SparkContext</b></p>\n",
              "\n",
              "            <p><a href=\"http://685b911ffeb6:4040\">Spark UI</a></p>\n",
              "\n",
              "            <dl>\n",
              "              <dt>Version</dt>\n",
              "                <dd><code>v3.5.2</code></dd>\n",
              "              <dt>Master</dt>\n",
              "                <dd><code>local</code></dd>\n",
              "              <dt>AppName</dt>\n",
              "                <dd><code>pyspark-day-11</code></dd>\n",
              "            </dl>\n",
              "        </div>\n",
              "        \n",
              "            </div>\n",
              "        "
            ]
          },
          "metadata": {},
          "execution_count": 3
        }
      ]
    },
    {
      "cell_type": "code",
      "source": [
        " # Define the Project table\n",
        "project_data = [\n",
        " (1, 1),\n",
        " (1, 2),\n",
        " (1, 3),\n",
        " (2, 1),\n",
        " (2, 4),\n",
        "]\n",
        "project_columns = [\"project_id\", \"employee_id\"]"
      ],
      "metadata": {
        "id": "WE1mGWwy5rtT"
      },
      "execution_count": 4,
      "outputs": []
    },
    {
      "cell_type": "code",
      "source": [
        "employee_data = [\n",
        " (1, \"Khaled\", 3),\n",
        " (2, \"Ali\", 2),\n",
        " (3, \"John\", 1),\n",
        " (4, \"Doe\", 2),\n",
        "]\n",
        "employee_columns = [\"employee_id\", \"name\", \"experience_years\"]"
      ],
      "metadata": {
        "id": "Fejt3bjA50p7"
      },
      "execution_count": 5,
      "outputs": []
    },
    {
      "cell_type": "code",
      "source": [
        "# create project df\n",
        "project_df = spark.createDataFrame(schema = project_columns, data = project_data)\n",
        "project_df.show()"
      ],
      "metadata": {
        "colab": {
          "base_uri": "https://localhost:8080/"
        },
        "id": "xfO0bL7q55HX",
        "outputId": "4f4688e0-42fe-48dc-8c66-c6368ea7540e"
      },
      "execution_count": 6,
      "outputs": [
        {
          "output_type": "stream",
          "name": "stdout",
          "text": [
            "+----------+-----------+\n",
            "|project_id|employee_id|\n",
            "+----------+-----------+\n",
            "|         1|          1|\n",
            "|         1|          2|\n",
            "|         1|          3|\n",
            "|         2|          1|\n",
            "|         2|          4|\n",
            "+----------+-----------+\n",
            "\n"
          ]
        }
      ]
    },
    {
      "cell_type": "code",
      "source": [
        "project_df.printSchema()"
      ],
      "metadata": {
        "colab": {
          "base_uri": "https://localhost:8080/"
        },
        "id": "UjTg9mi46Lmn",
        "outputId": "3e662ae4-7c7e-4583-b943-234ae4df3af3"
      },
      "execution_count": 7,
      "outputs": [
        {
          "output_type": "stream",
          "name": "stdout",
          "text": [
            "root\n",
            " |-- project_id: long (nullable = true)\n",
            " |-- employee_id: long (nullable = true)\n",
            "\n"
          ]
        }
      ]
    },
    {
      "cell_type": "code",
      "source": [
        "emp_df = spark.createDataFrame(schema = employee_columns, data = employee_data)\n",
        "emp_df.show()"
      ],
      "metadata": {
        "colab": {
          "base_uri": "https://localhost:8080/"
        },
        "id": "JibUN5jT6PTd",
        "outputId": "1ac8fdc7-eaa2-4cea-fbb0-608e9a1adfac"
      },
      "execution_count": 8,
      "outputs": [
        {
          "output_type": "stream",
          "name": "stdout",
          "text": [
            "+-----------+------+----------------+\n",
            "|employee_id|  name|experience_years|\n",
            "+-----------+------+----------------+\n",
            "|          1|Khaled|               3|\n",
            "|          2|   Ali|               2|\n",
            "|          3|  John|               1|\n",
            "|          4|   Doe|               2|\n",
            "+-----------+------+----------------+\n",
            "\n"
          ]
        }
      ]
    },
    {
      "cell_type": "code",
      "source": [
        "emp_df.printSchema()"
      ],
      "metadata": {
        "colab": {
          "base_uri": "https://localhost:8080/"
        },
        "id": "SYD4tbiK6gLH",
        "outputId": "921c175f-1a85-4f74-a127-014d5ca7af15"
      },
      "execution_count": 9,
      "outputs": [
        {
          "output_type": "stream",
          "name": "stdout",
          "text": [
            "root\n",
            " |-- employee_id: long (nullable = true)\n",
            " |-- name: string (nullable = true)\n",
            " |-- experience_years: long (nullable = true)\n",
            "\n"
          ]
        }
      ]
    },
    {
      "cell_type": "code",
      "source": [
        "# use groupby on project df calculate cnt then use col\n",
        "result_df = project_df.groupBy('project_id').agg(count('employee_id').alias('cnt')).orderBy(col('cnt').desc()).limit(1).select('project_id')\n",
        "result_df.show()"
      ],
      "metadata": {
        "colab": {
          "base_uri": "https://localhost:8080/"
        },
        "id": "ghgcdCy66eG9",
        "outputId": "9b0b8933-1d7d-4071-9186-c5c80b07c33e"
      },
      "execution_count": 13,
      "outputs": [
        {
          "output_type": "stream",
          "name": "stdout",
          "text": [
            "+----------+\n",
            "|project_id|\n",
            "+----------+\n",
            "|         1|\n",
            "+----------+\n",
            "\n"
          ]
        }
      ]
    }
  ]
}