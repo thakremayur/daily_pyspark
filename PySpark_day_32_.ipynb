{
  "nbformat": 4,
  "nbformat_minor": 0,
  "metadata": {
    "colab": {
      "provenance": []
    },
    "kernelspec": {
      "name": "python3",
      "display_name": "Python 3"
    },
    "language_info": {
      "name": "python"
    }
  },
  "cells": [
    {
      "cell_type": "code",
      "execution_count": 1,
      "metadata": {
        "colab": {
          "base_uri": "https://localhost:8080/"
        },
        "id": "crh2ra-EPT6U",
        "outputId": "965ecfa5-2f2a-4d9b-a3a9-bff0ab7cc142"
      },
      "outputs": [
        {
          "output_type": "stream",
          "name": "stdout",
          "text": [
            "Collecting pyspark\n",
            "  Downloading pyspark-3.5.3.tar.gz (317.3 MB)\n",
            "\u001b[2K     \u001b[90m━━━━━━━━━━━━━━━━━━━━━━━━━━━━━━━━━━━━━━━━\u001b[0m \u001b[32m317.3/317.3 MB\u001b[0m \u001b[31m3.4 MB/s\u001b[0m eta \u001b[36m0:00:00\u001b[0m\n",
            "\u001b[?25h  Preparing metadata (setup.py) ... \u001b[?25l\u001b[?25hdone\n",
            "Requirement already satisfied: py4j==0.10.9.7 in /usr/local/lib/python3.10/dist-packages (from pyspark) (0.10.9.7)\n",
            "Building wheels for collected packages: pyspark\n",
            "  Building wheel for pyspark (setup.py) ... \u001b[?25l\u001b[?25hdone\n",
            "  Created wheel for pyspark: filename=pyspark-3.5.3-py2.py3-none-any.whl size=317840625 sha256=762dfa4f45604ebf88daa0e9d36f9bd675cdea60f8d0c5fa4b026f1309208992\n",
            "  Stored in directory: /root/.cache/pip/wheels/1b/3a/92/28b93e2fbfdbb07509ca4d6f50c5e407f48dce4ddbda69a4ab\n",
            "Successfully built pyspark\n",
            "Installing collected packages: pyspark\n",
            "Successfully installed pyspark-3.5.3\n"
          ]
        }
      ],
      "source": [
        "# ps-23\n",
        "%pip install pyspark"
      ]
    },
    {
      "cell_type": "code",
      "source": [
        "# import all necessary module\n",
        "from pyspark.sql import *\n",
        "from pyspark.sql.types import *\n",
        "from pyspark.sql.functions import *"
      ],
      "metadata": {
        "id": "NiqXOCBiPeYU"
      },
      "execution_count": 2,
      "outputs": []
    },
    {
      "cell_type": "code",
      "source": [
        "# create spark session\n",
        "spark = SparkSession.builder.master('local').appName('pyspark-day-32').getOrCreate()\n",
        "spark"
      ],
      "metadata": {
        "colab": {
          "base_uri": "https://localhost:8080/",
          "height": 221
        },
        "id": "i93AmLHwPe-6",
        "outputId": "f6c2e7e6-6461-4da2-8b0a-b55f2850b89c"
      },
      "execution_count": 3,
      "outputs": [
        {
          "output_type": "execute_result",
          "data": {
            "text/plain": [
              "<pyspark.sql.session.SparkSession at 0x7ae0801858a0>"
            ],
            "text/html": [
              "\n",
              "            <div>\n",
              "                <p><b>SparkSession - in-memory</b></p>\n",
              "                \n",
              "        <div>\n",
              "            <p><b>SparkContext</b></p>\n",
              "\n",
              "            <p><a href=\"http://1a72f39462d9:4040\">Spark UI</a></p>\n",
              "\n",
              "            <dl>\n",
              "              <dt>Version</dt>\n",
              "                <dd><code>v3.5.3</code></dd>\n",
              "              <dt>Master</dt>\n",
              "                <dd><code>local</code></dd>\n",
              "              <dt>AppName</dt>\n",
              "                <dd><code>pyspark-day-32</code></dd>\n",
              "            </dl>\n",
              "        </div>\n",
              "        \n",
              "            </div>\n",
              "        "
            ]
          },
          "metadata": {},
          "execution_count": 3
        }
      ]
    },
    {
      "cell_type": "markdown",
      "source": [
        "🌟 PYSPARK Practice/Interview Problem 📊\n",
        "========================================\n",
        "Your mission, should you choose to accept it, is to showcase your PYSPARK prowess with the following tasks:\n",
        "\n",
        "1️⃣ Get all employee details from EmployeeDetail table whose joining month is Jan(1).\n",
        "2️⃣ Get all employee details from EmployeeDetail table whose joining date between 2013-01-01\" and \"2013-12-01\".\n",
        "3️⃣ Get how many employee exist in \"EmployeeDetail\" table.\n",
        "4️⃣ Select all employee detail with First name \"Vikas\",\"Ashish\", and \"Nikhil\".\n",
        "\n",
        "Schema And Data:\n",
        "================\n",
        "# Input Data:\n",
        "data = [\n",
        " [1, \"Vikas\", \"Ahlawat\", 600000.0, \"2013-02-15 11:16:28.290\", \"IT\", \"Male\"],\n",
        " [2, \"nikita\", \"Jain\", 530000.0, \"2014-01-09 17:31:07.793\", \"HR\", \"Female\"],\n",
        " [3, \"Ashish\", \"Kumar\", 1000000.0, \"2014-01-09 10:05:07.793\", \"IT\", \"Male\"],\n",
        " [4, \"Nikhil\", \"Sharma\", 480000.0, \"2014-01-09 09:00:07.793\", \"HR\", \"Male\"],\n",
        " [5, \"anish\", \"kadian\", 500000.0, \"2014-01-09 09:31:07.793\", \"Payroll\", \"Male\"],\n",
        "]\n",
        "\n",
        "# Create a schema for the DataFrame\n",
        "schema = StructType([\n",
        " StructField(\"EmployeeID\", IntegerType(), True),\n",
        " StructField(\"First_Name\", StringType(), True),\n",
        " StructField(\"Last_Name\", StringType(), True),\n",
        " StructField(\"Salary\", DoubleType(), True),\n",
        " StructField(\"Joining_Date\", StringType(), True),\n",
        " StructField(\"Department\", StringType(), True),\n",
        " StructField(\"Gender\", StringType(), True)\n",
        "])"
      ],
      "metadata": {
        "id": "hxPWF0m-PrKz"
      }
    },
    {
      "cell_type": "code",
      "source": [
        "# Input Data:\n",
        "data = [\n",
        " [1, \"Vikas\", \"Ahlawat\", 600000.0, \"2013-02-15 11:16:28.290\", \"IT\", \"Male\"],\n",
        " [2, \"nikita\", \"Jain\", 530000.0, \"2014-01-09 17:31:07.793\", \"HR\", \"Female\"],\n",
        " [3, \"Ashish\", \"Kumar\", 1000000.0, \"2014-01-09 10:05:07.793\", \"IT\", \"Male\"],\n",
        " [4, \"Nikhil\", \"Sharma\", 480000.0, \"2014-01-09 09:00:07.793\", \"HR\", \"Male\"],\n",
        " [5, \"anish\", \"kadian\", 500000.0, \"2014-01-09 09:31:07.793\", \"Payroll\", \"Male\"],\n",
        "]\n",
        "\n",
        "# Create a schema for the DataFrame\n",
        "schema = StructType([\n",
        " StructField(\"EmployeeID\", IntegerType(), True),\n",
        " StructField(\"First_Name\", StringType(), True),\n",
        " StructField(\"Last_Name\", StringType(), True),\n",
        " StructField(\"Salary\", DoubleType(), True),\n",
        " StructField(\"Joining_Date\", StringType(), True),\n",
        " StructField(\"Department\", StringType(), True),\n",
        " StructField(\"Gender\", StringType(), True)\n",
        "])"
      ],
      "metadata": {
        "id": "duXajt1mPjBa"
      },
      "execution_count": 4,
      "outputs": []
    },
    {
      "cell_type": "code",
      "source": [
        "# create df\n",
        "df = spark.createDataFrame(schema = schema, data = data)\n",
        "df.show()"
      ],
      "metadata": {
        "colab": {
          "base_uri": "https://localhost:8080/"
        },
        "id": "1PqXLukbPwJe",
        "outputId": "b113c260-a315-477d-f751-8b4b7a831b64"
      },
      "execution_count": 5,
      "outputs": [
        {
          "output_type": "stream",
          "name": "stdout",
          "text": [
            "+----------+----------+---------+---------+--------------------+----------+------+\n",
            "|EmployeeID|First_Name|Last_Name|   Salary|        Joining_Date|Department|Gender|\n",
            "+----------+----------+---------+---------+--------------------+----------+------+\n",
            "|         1|     Vikas|  Ahlawat| 600000.0|2013-02-15 11:16:...|        IT|  Male|\n",
            "|         2|    nikita|     Jain| 530000.0|2014-01-09 17:31:...|        HR|Female|\n",
            "|         3|    Ashish|    Kumar|1000000.0|2014-01-09 10:05:...|        IT|  Male|\n",
            "|         4|    Nikhil|   Sharma| 480000.0|2014-01-09 09:00:...|        HR|  Male|\n",
            "|         5|     anish|   kadian| 500000.0|2014-01-09 09:31:...|   Payroll|  Male|\n",
            "+----------+----------+---------+---------+--------------------+----------+------+\n",
            "\n"
          ]
        }
      ]
    },
    {
      "cell_type": "code",
      "source": [
        "df.filter(month(col('Joining_Date'))==1).show()"
      ],
      "metadata": {
        "colab": {
          "base_uri": "https://localhost:8080/"
        },
        "id": "70v-FhLYPyi7",
        "outputId": "38d8316c-037e-4de3-ccfc-45d8452f5bb3"
      },
      "execution_count": 7,
      "outputs": [
        {
          "output_type": "stream",
          "name": "stdout",
          "text": [
            "+----------+----------+---------+---------+--------------------+----------+------+\n",
            "|EmployeeID|First_Name|Last_Name|   Salary|        Joining_Date|Department|Gender|\n",
            "+----------+----------+---------+---------+--------------------+----------+------+\n",
            "|         2|    nikita|     Jain| 530000.0|2014-01-09 17:31:...|        HR|Female|\n",
            "|         3|    Ashish|    Kumar|1000000.0|2014-01-09 10:05:...|        IT|  Male|\n",
            "|         4|    Nikhil|   Sharma| 480000.0|2014-01-09 09:00:...|        HR|  Male|\n",
            "|         5|     anish|   kadian| 500000.0|2014-01-09 09:31:...|   Payroll|  Male|\n",
            "+----------+----------+---------+---------+--------------------+----------+------+\n",
            "\n"
          ]
        }
      ]
    },
    {
      "cell_type": "code",
      "source": [
        "df.filter(col('Joining_Date').between(\"2013-01-01\",\"2013-12-01\")).show()"
      ],
      "metadata": {
        "colab": {
          "base_uri": "https://localhost:8080/"
        },
        "id": "YVWBTVJRQJlG",
        "outputId": "77353d0b-7788-4f08-85b1-cbf869726723"
      },
      "execution_count": 8,
      "outputs": [
        {
          "output_type": "stream",
          "name": "stdout",
          "text": [
            "+----------+----------+---------+--------+--------------------+----------+------+\n",
            "|EmployeeID|First_Name|Last_Name|  Salary|        Joining_Date|Department|Gender|\n",
            "+----------+----------+---------+--------+--------------------+----------+------+\n",
            "|         1|     Vikas|  Ahlawat|600000.0|2013-02-15 11:16:...|        IT|  Male|\n",
            "+----------+----------+---------+--------+--------------------+----------+------+\n",
            "\n"
          ]
        }
      ]
    },
    {
      "cell_type": "code",
      "source": [
        "df.count()"
      ],
      "metadata": {
        "colab": {
          "base_uri": "https://localhost:8080/"
        },
        "id": "P-fdIi52Qkrq",
        "outputId": "646345ad-7907-4b65-a84e-2288f1bd7d0a"
      },
      "execution_count": 9,
      "outputs": [
        {
          "output_type": "execute_result",
          "data": {
            "text/plain": [
              "5"
            ]
          },
          "metadata": {},
          "execution_count": 9
        }
      ]
    },
    {
      "cell_type": "code",
      "source": [
        "df.filter(lower(col(\"First_Name\")).isin('vikas','ashish','nikhil')).show()"
      ],
      "metadata": {
        "colab": {
          "base_uri": "https://localhost:8080/"
        },
        "id": "spmoc3ubQpfd",
        "outputId": "fd5a8f63-f964-4e6d-ac5e-631d1fe22b4c"
      },
      "execution_count": 10,
      "outputs": [
        {
          "output_type": "stream",
          "name": "stdout",
          "text": [
            "+----------+----------+---------+---------+--------------------+----------+------+\n",
            "|EmployeeID|First_Name|Last_Name|   Salary|        Joining_Date|Department|Gender|\n",
            "+----------+----------+---------+---------+--------------------+----------+------+\n",
            "|         1|     Vikas|  Ahlawat| 600000.0|2013-02-15 11:16:...|        IT|  Male|\n",
            "|         3|    Ashish|    Kumar|1000000.0|2014-01-09 10:05:...|        IT|  Male|\n",
            "|         4|    Nikhil|   Sharma| 480000.0|2014-01-09 09:00:...|        HR|  Male|\n",
            "+----------+----------+---------+---------+--------------------+----------+------+\n",
            "\n"
          ]
        }
      ]
    }
  ]
}