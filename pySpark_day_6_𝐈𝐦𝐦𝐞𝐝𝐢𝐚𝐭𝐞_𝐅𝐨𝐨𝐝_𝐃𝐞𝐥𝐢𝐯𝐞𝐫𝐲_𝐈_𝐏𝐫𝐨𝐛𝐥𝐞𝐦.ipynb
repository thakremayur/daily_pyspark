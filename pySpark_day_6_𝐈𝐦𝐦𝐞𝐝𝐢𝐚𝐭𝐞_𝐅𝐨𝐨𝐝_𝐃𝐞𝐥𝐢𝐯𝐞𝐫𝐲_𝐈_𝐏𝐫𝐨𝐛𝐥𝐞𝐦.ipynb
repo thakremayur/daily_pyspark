{
  "nbformat": 4,
  "nbformat_minor": 0,
  "metadata": {
    "colab": {
      "provenance": []
    },
    "kernelspec": {
      "name": "python3",
      "display_name": "Python 3"
    },
    "language_info": {
      "name": "python"
    }
  },
  "cells": [
    {
      "cell_type": "code",
      "execution_count": 1,
      "metadata": {
        "colab": {
          "base_uri": "https://localhost:8080/"
        },
        "id": "emuDUljVSw3F",
        "outputId": "6b551d73-43cb-455c-b984-292cf88fbe3d"
      },
      "outputs": [
        {
          "output_type": "stream",
          "name": "stdout",
          "text": [
            "Collecting pyspark\n",
            "  Downloading pyspark-3.5.2.tar.gz (317.3 MB)\n",
            "\u001b[2K     \u001b[90m━━━━━━━━━━━━━━━━━━━━━━━━━━━━━━━━━━━━━━━━\u001b[0m \u001b[32m317.3/317.3 MB\u001b[0m \u001b[31m4.6 MB/s\u001b[0m eta \u001b[36m0:00:00\u001b[0m\n",
            "\u001b[?25h  Preparing metadata (setup.py) ... \u001b[?25l\u001b[?25hdone\n",
            "Requirement already satisfied: py4j==0.10.9.7 in /usr/local/lib/python3.10/dist-packages (from pyspark) (0.10.9.7)\n",
            "Building wheels for collected packages: pyspark\n",
            "  Building wheel for pyspark (setup.py) ... \u001b[?25l\u001b[?25hdone\n",
            "  Created wheel for pyspark: filename=pyspark-3.5.2-py2.py3-none-any.whl size=317812365 sha256=9bfeda7aa499f77202895dd6d97bd743272f31d19c78181af5fd018f98b3fb51\n",
            "  Stored in directory: /root/.cache/pip/wheels/34/34/bd/03944534c44b677cd5859f248090daa9fb27b3c8f8e5f49574\n",
            "Successfully built pyspark\n",
            "Installing collected packages: pyspark\n",
            "Successfully installed pyspark-3.5.2\n"
          ]
        }
      ],
      "source": [
        "# ps51\n",
        "%pip install pyspark"
      ]
    },
    {
      "cell_type": "markdown",
      "source": [
        "🌟 𝐏𝐘𝐒𝐏𝐀𝐑𝐊 𝐏𝐫𝐚𝐜𝐭𝐢𝐜𝐞/𝐈𝐧𝐭𝐞𝐫𝐯𝐢𝐞𝐰 𝐏𝐫𝐨𝐛𝐥𝐞𝐦 📊\n",
        "========================================\n",
        "𝐈𝐦𝐦𝐞𝐝𝐢𝐚𝐭𝐞 𝐅𝐨𝐨𝐝 𝐃𝐞𝐥𝐢𝐯𝐞𝐫𝐲 𝐈 𝐏𝐫𝐨𝐛𝐥𝐞𝐦\n",
        "\n",
        "Write an Pyspark code to find the percentage of immediate orders in the table, rounded to 2 decimal places.\n",
        "If the preferred delivery date of the customer is the same as the order date then the order is called immediate otherwise it’s called scheduled.\n",
        "\n",
        "Schema And Data:\n",
        "================\n",
        " # Define the schema for the DataFrame\n",
        "schema = StructType([\n",
        " StructField(\"delivery_id\", IntegerType(), True),\n",
        " StructField(\"customer_id\", IntegerType(), True),\n",
        " StructField(\"order_date\", StringType(), True),\n",
        " StructField(\"customer_pref_delivery_date\", StringType(), True),\n",
        "])\n",
        "# Create the data\n",
        "data = [\n",
        " (1, 1, \"2019-08-01\", \"2019-08-02\"),\n",
        " (2, 5, \"2019-08-02\", \"2019-08-02\"),\n",
        " (3, 1, \"2019-08-11\", \"2019-08-11\"),\n",
        " (4, 3, \"2019-08-24\", \"2019-08-26\"),\n",
        " (5, 4, \"2019-08-21\", \"2019-08-22\"),\n",
        " (6, 2, \"2019-08-11\", \"2019-08-13\"),\n",
        "]"
      ],
      "metadata": {
        "id": "ebUQGW27buOl"
      }
    },
    {
      "cell_type": "code",
      "source": [
        "# import all necessary module\n",
        "from pyspark.sql import *\n",
        "from pyspark.sql.types import *\n",
        "from pyspark.sql.functions import *"
      ],
      "metadata": {
        "id": "0Gmv2W0db1xq"
      },
      "execution_count": 2,
      "outputs": []
    },
    {
      "cell_type": "code",
      "source": [
        "# make spark session\n",
        "spark = SparkSession.builder.master('local').appName('pyspark-day-6').getOrCreate()"
      ],
      "metadata": {
        "id": "wqtjDBhocD8o"
      },
      "execution_count": 3,
      "outputs": []
    },
    {
      "cell_type": "code",
      "source": [
        "spark"
      ],
      "metadata": {
        "colab": {
          "base_uri": "https://localhost:8080/",
          "height": 221
        },
        "id": "OECbiRmDcfA7",
        "outputId": "af746f39-ddae-48f3-bada-110a25353c05"
      },
      "execution_count": 4,
      "outputs": [
        {
          "output_type": "execute_result",
          "data": {
            "text/plain": [
              "<pyspark.sql.session.SparkSession at 0x7fea394d1720>"
            ],
            "text/html": [
              "\n",
              "            <div>\n",
              "                <p><b>SparkSession - in-memory</b></p>\n",
              "                \n",
              "        <div>\n",
              "            <p><b>SparkContext</b></p>\n",
              "\n",
              "            <p><a href=\"http://0ca6875f650f:4040\">Spark UI</a></p>\n",
              "\n",
              "            <dl>\n",
              "              <dt>Version</dt>\n",
              "                <dd><code>v3.5.2</code></dd>\n",
              "              <dt>Master</dt>\n",
              "                <dd><code>local</code></dd>\n",
              "              <dt>AppName</dt>\n",
              "                <dd><code>pyspark-day-6</code></dd>\n",
              "            </dl>\n",
              "        </div>\n",
              "        \n",
              "            </div>\n",
              "        "
            ]
          },
          "metadata": {},
          "execution_count": 4
        }
      ]
    },
    {
      "cell_type": "code",
      "source": [
        "# define schema and data for df\n",
        "schema = StructType([\n",
        " StructField(\"delivery_id\", IntegerType(), True),\n",
        " StructField(\"customer_id\", IntegerType(), True),\n",
        " StructField(\"order_date\", StringType(), True),\n",
        " StructField(\"customer_pref_delivery_date\", StringType(), True),\n",
        "])\n",
        "data = [\n",
        " (1, 1, \"2019-08-01\", \"2019-08-02\"),\n",
        " (2, 5, \"2019-08-02\", \"2019-08-02\"),\n",
        " (3, 1, \"2019-08-11\", \"2019-08-11\"),\n",
        " (4, 3, \"2019-08-24\", \"2019-08-26\"),\n",
        " (5, 4, \"2019-08-21\", \"2019-08-22\"),\n",
        " (6, 2, \"2019-08-11\", \"2019-08-13\"),\n",
        "]"
      ],
      "metadata": {
        "id": "p_9fCEMscfyr"
      },
      "execution_count": 5,
      "outputs": []
    },
    {
      "cell_type": "code",
      "source": [
        "# create df\n",
        "order_df = spark.createDataFrame(schema = schema, data = data)\n",
        "order_df.show()"
      ],
      "metadata": {
        "colab": {
          "base_uri": "https://localhost:8080/"
        },
        "id": "Fr7o71Q6cxxY",
        "outputId": "e6fe260c-a339-4e1d-8bfa-6d7b123f5e66"
      },
      "execution_count": 6,
      "outputs": [
        {
          "output_type": "stream",
          "name": "stdout",
          "text": [
            "+-----------+-----------+----------+---------------------------+\n",
            "|delivery_id|customer_id|order_date|customer_pref_delivery_date|\n",
            "+-----------+-----------+----------+---------------------------+\n",
            "|          1|          1|2019-08-01|                 2019-08-02|\n",
            "|          2|          5|2019-08-02|                 2019-08-02|\n",
            "|          3|          1|2019-08-11|                 2019-08-11|\n",
            "|          4|          3|2019-08-24|                 2019-08-26|\n",
            "|          5|          4|2019-08-21|                 2019-08-22|\n",
            "|          6|          2|2019-08-11|                 2019-08-13|\n",
            "+-----------+-----------+----------+---------------------------+\n",
            "\n"
          ]
        }
      ]
    },
    {
      "cell_type": "code",
      "source": [
        "order_df.printSchema()"
      ],
      "metadata": {
        "colab": {
          "base_uri": "https://localhost:8080/"
        },
        "id": "s_h-m4-Ic9Wk",
        "outputId": "c7119fbb-a46a-4b98-e10b-2af1012166c9"
      },
      "execution_count": 7,
      "outputs": [
        {
          "output_type": "stream",
          "name": "stdout",
          "text": [
            "root\n",
            " |-- delivery_id: integer (nullable = true)\n",
            " |-- customer_id: integer (nullable = true)\n",
            " |-- order_date: string (nullable = true)\n",
            " |-- customer_pref_delivery_date: string (nullable = true)\n",
            "\n"
          ]
        }
      ]
    },
    {
      "cell_type": "code",
      "source": [
        "# add col as is_immediate\n",
        "order_df = order_df.withColumn('is_immediate', when(col('order_date') == col('customer_pref_delivery_date'), 1).otherwise(0))\n",
        "order_df.show()"
      ],
      "metadata": {
        "colab": {
          "base_uri": "https://localhost:8080/"
        },
        "id": "gceNVRphdCKI",
        "outputId": "5f2f957a-4884-4caf-ff48-cc2243db3dcb"
      },
      "execution_count": 8,
      "outputs": [
        {
          "output_type": "stream",
          "name": "stdout",
          "text": [
            "+-----------+-----------+----------+---------------------------+------------+\n",
            "|delivery_id|customer_id|order_date|customer_pref_delivery_date|is_immediate|\n",
            "+-----------+-----------+----------+---------------------------+------------+\n",
            "|          1|          1|2019-08-01|                 2019-08-02|           0|\n",
            "|          2|          5|2019-08-02|                 2019-08-02|           1|\n",
            "|          3|          1|2019-08-11|                 2019-08-11|           1|\n",
            "|          4|          3|2019-08-24|                 2019-08-26|           0|\n",
            "|          5|          4|2019-08-21|                 2019-08-22|           0|\n",
            "|          6|          2|2019-08-11|                 2019-08-13|           0|\n",
            "+-----------+-----------+----------+---------------------------+------------+\n",
            "\n"
          ]
        }
      ]
    },
    {
      "cell_type": "code",
      "source": [
        "# apply agg\n",
        "order_df.agg(round((sum('is_immediate')/ count(\"*\")*100),2).alias('immediate_%')).show()"
      ],
      "metadata": {
        "colab": {
          "base_uri": "https://localhost:8080/"
        },
        "id": "SwJU4j40fAHZ",
        "outputId": "46142613-ce19-4655-e740-18ce1af32a28"
      },
      "execution_count": 12,
      "outputs": [
        {
          "output_type": "stream",
          "name": "stdout",
          "text": [
            "+-----------+\n",
            "|immediate_%|\n",
            "+-----------+\n",
            "|      33.33|\n",
            "+-----------+\n",
            "\n"
          ]
        }
      ]
    }
  ]
}