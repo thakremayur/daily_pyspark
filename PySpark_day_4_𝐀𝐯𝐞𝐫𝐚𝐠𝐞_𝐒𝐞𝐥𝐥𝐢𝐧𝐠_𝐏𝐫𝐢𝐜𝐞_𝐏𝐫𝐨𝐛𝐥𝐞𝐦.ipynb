{
  "nbformat": 4,
  "nbformat_minor": 0,
  "metadata": {
    "colab": {
      "provenance": []
    },
    "kernelspec": {
      "name": "python3",
      "display_name": "Python 3"
    },
    "language_info": {
      "name": "python"
    }
  },
  "cells": [
    {
      "cell_type": "code",
      "execution_count": 2,
      "metadata": {
        "colab": {
          "base_uri": "https://localhost:8080/"
        },
        "id": "X7u3DfA1GEe4",
        "outputId": "f28d27b8-4d4d-4229-a006-3e7781473c98"
      },
      "outputs": [
        {
          "output_type": "stream",
          "name": "stdout",
          "text": [
            "Collecting pyspark\n",
            "  Downloading pyspark-3.5.2.tar.gz (317.3 MB)\n",
            "\u001b[2K     \u001b[90m━━━━━━━━━━━━━━━━━━━━━━━━━━━━━━━━━━━━━━━━\u001b[0m \u001b[32m317.3/317.3 MB\u001b[0m \u001b[31m1.4 MB/s\u001b[0m eta \u001b[36m0:00:00\u001b[0m\n",
            "\u001b[?25h  Preparing metadata (setup.py) ... \u001b[?25l\u001b[?25hdone\n",
            "Requirement already satisfied: py4j==0.10.9.7 in /usr/local/lib/python3.10/dist-packages (from pyspark) (0.10.9.7)\n",
            "Building wheels for collected packages: pyspark\n",
            "  Building wheel for pyspark (setup.py) ... \u001b[?25l\u001b[?25hdone\n",
            "  Created wheel for pyspark: filename=pyspark-3.5.2-py2.py3-none-any.whl size=317812365 sha256=a3245682c7d11c975b63f850be770f0bfe5ac46523ce05f0113c8d1f52bde85b\n",
            "  Stored in directory: /root/.cache/pip/wheels/34/34/bd/03944534c44b677cd5859f248090daa9fb27b3c8f8e5f49574\n",
            "Successfully built pyspark\n",
            "Installing collected packages: pyspark\n",
            "Successfully installed pyspark-3.5.2\n"
          ]
        }
      ],
      "source": [
        "# ps53\n",
        "%pip install pyspark"
      ]
    },
    {
      "cell_type": "markdown",
      "source": [
        "🌟 𝐏𝐘𝐒𝐏𝐀𝐑𝐊 𝐏𝐫𝐚𝐜𝐭𝐢𝐜𝐞/𝐈𝐧𝐭𝐞𝐫𝐯𝐢𝐞𝐰 𝐏𝐫𝐨𝐛𝐥𝐞𝐦 📊\n",
        "========================================\n",
        "𝐀𝐯𝐞𝐫𝐚𝐠𝐞 𝐒𝐞𝐥𝐥𝐢𝐧𝐠 𝐏𝐫𝐢𝐜𝐞 𝐏𝐫𝐨𝐛𝐥𝐞𝐦\n",
        "\n",
        "Write an pyspark code to find the average selling price for each product.\n",
        "average_price should be rounded to 2 decimal places.\n",
        "\n",
        "\n",
        "𝐒𝐜𝐡𝐞𝐦𝐚 𝐀𝐧𝐝 𝐃𝐚𝐭𝐚:\n",
        "================\n",
        " # Prices table data\n",
        "prices_data = [\n",
        " (1, '2019-02-17', '2019-02-28', 5),\n",
        " (1, '2019-03-01', '2019-03-22', 20),\n",
        " (2, '2019-02-01', '2019-02-20', 15),\n",
        " (2, '2019-02-21', '2019-03-31', 30)\n",
        "]\n",
        "# Define schema for Prices table\n",
        "prices_schema = StructType([\n",
        " StructField(\"product_id\", IntegerType(), True),\n",
        " StructField(\"start_date\", StringType(), True),\n",
        " StructField(\"end_date\", StringType(), True),\n",
        " StructField(\"price\", IntegerType(), True)\n",
        "])\n",
        "\n",
        " # UnitsSold table data\n",
        "units_sold_data = [\n",
        " (1, '2019-02-25', 100),\n",
        " (1, '2019-03-01', 15),\n",
        " (2, '2019-02-10', 200),\n",
        " (2, '2019-03-22', 30)\n",
        "]\n",
        "# Define schema for UnitsSold table\n",
        "units_sold_schema = StructType([\n",
        " StructField(\"product_id\", IntegerType(), True),\n",
        " StructField(\"purchase_date\", StringType(), True),\n",
        " StructField(\"units\", IntegerType(), True)\n",
        "])"
      ],
      "metadata": {
        "id": "0dQqy0syGFh7"
      }
    },
    {
      "cell_type": "code",
      "source": [
        "# import all necessary module\n",
        "from pyspark.sql import *\n",
        "from pyspark.sql.types import *\n",
        "from pyspark.sql.functions import *"
      ],
      "metadata": {
        "id": "R5QaGmePGXY_"
      },
      "execution_count": 3,
      "outputs": []
    },
    {
      "cell_type": "code",
      "source": [
        "# Initialize spark session\n",
        "spark = SparkSession.builder.master('local').appName('PySpark-day4').getOrCreate()"
      ],
      "metadata": {
        "id": "ZEW_eq1PHWZT"
      },
      "execution_count": 4,
      "outputs": []
    },
    {
      "cell_type": "code",
      "source": [
        "spark"
      ],
      "metadata": {
        "colab": {
          "base_uri": "https://localhost:8080/",
          "height": 221
        },
        "id": "-Wxm8woHHncO",
        "outputId": "b5bbf19b-1188-44eb-927e-272c236c6572"
      },
      "execution_count": 5,
      "outputs": [
        {
          "output_type": "execute_result",
          "data": {
            "text/plain": [
              "<pyspark.sql.session.SparkSession at 0x7f80b750ba90>"
            ],
            "text/html": [
              "\n",
              "            <div>\n",
              "                <p><b>SparkSession - in-memory</b></p>\n",
              "                \n",
              "        <div>\n",
              "            <p><b>SparkContext</b></p>\n",
              "\n",
              "            <p><a href=\"http://6cb299e82d7e:4040\">Spark UI</a></p>\n",
              "\n",
              "            <dl>\n",
              "              <dt>Version</dt>\n",
              "                <dd><code>v3.5.2</code></dd>\n",
              "              <dt>Master</dt>\n",
              "                <dd><code>local</code></dd>\n",
              "              <dt>AppName</dt>\n",
              "                <dd><code>PySpark-day4</code></dd>\n",
              "            </dl>\n",
              "        </div>\n",
              "        \n",
              "            </div>\n",
              "        "
            ]
          },
          "metadata": {},
          "execution_count": 5
        }
      ]
    },
    {
      "cell_type": "code",
      "source": [
        "# define schema and data for price tbl\n",
        "prices_schema = StructType([\n",
        " StructField(\"product_id\", IntegerType(), True),\n",
        " StructField(\"start_date\", StringType(), True),\n",
        " StructField(\"end_date\", StringType(), True),\n",
        " StructField(\"price\", IntegerType(), True)\n",
        "])\n",
        " # Prices table data\n",
        "prices_data = [\n",
        " (1, '2019-02-17', '2019-02-28', 5),\n",
        " (1, '2019-03-01', '2019-03-22', 20),\n",
        " (2, '2019-02-01', '2019-02-20', 15),\n",
        " (2, '2019-02-21', '2019-03-31', 30)\n",
        "]"
      ],
      "metadata": {
        "id": "H4HD9h10HrsH"
      },
      "execution_count": 6,
      "outputs": []
    },
    {
      "cell_type": "code",
      "source": [
        "# define schema and data for units sold\n",
        "units_sold_schema = StructType([\n",
        " StructField(\"product_id\", IntegerType(), True),\n",
        " StructField(\"purchase_date\", StringType(), True),\n",
        " StructField(\"units\", IntegerType(), True)\n",
        "])\n",
        "# data\n",
        "units_sold_data = [\n",
        " (1, '2019-02-25', 100),\n",
        " (1, '2019-03-01', 15),\n",
        " (2, '2019-02-10', 200),\n",
        " (2, '2019-03-22', 30)\n",
        "]"
      ],
      "metadata": {
        "id": "73UUa5UyH-Lz"
      },
      "execution_count": 7,
      "outputs": []
    },
    {
      "cell_type": "code",
      "source": [
        "# create df for prices\n",
        "price_df = spark.createDataFrame(schema = prices_schema, data = prices_data)\n",
        "price_df.show()"
      ],
      "metadata": {
        "colab": {
          "base_uri": "https://localhost:8080/"
        },
        "id": "jwdtB-diIJn8",
        "outputId": "12d6bb33-2a73-4377-a003-cabd3728e23a"
      },
      "execution_count": 8,
      "outputs": [
        {
          "output_type": "stream",
          "name": "stdout",
          "text": [
            "+----------+----------+----------+-----+\n",
            "|product_id|start_date|  end_date|price|\n",
            "+----------+----------+----------+-----+\n",
            "|         1|2019-02-17|2019-02-28|    5|\n",
            "|         1|2019-03-01|2019-03-22|   20|\n",
            "|         2|2019-02-01|2019-02-20|   15|\n",
            "|         2|2019-02-21|2019-03-31|   30|\n",
            "+----------+----------+----------+-----+\n",
            "\n"
          ]
        }
      ]
    },
    {
      "cell_type": "code",
      "source": [
        "# create df for units sold\n",
        "units_df = spark.createDataFrame(schema = units_sold_schema, data = units_sold_data)\n",
        "units_df.show()"
      ],
      "metadata": {
        "colab": {
          "base_uri": "https://localhost:8080/"
        },
        "id": "CqZg_l0iIZE6",
        "outputId": "313857f6-ae4a-44d4-dab6-3822fb043d8a"
      },
      "execution_count": 9,
      "outputs": [
        {
          "output_type": "stream",
          "name": "stdout",
          "text": [
            "+----------+-------------+-----+\n",
            "|product_id|purchase_date|units|\n",
            "+----------+-------------+-----+\n",
            "|         1|   2019-02-25|  100|\n",
            "|         1|   2019-03-01|   15|\n",
            "|         2|   2019-02-10|  200|\n",
            "|         2|   2019-03-22|   30|\n",
            "+----------+-------------+-----+\n",
            "\n"
          ]
        }
      ]
    },
    {
      "cell_type": "code",
      "source": [
        "# join both df then filter out data based on purchase data between start and end date\n",
        "join_df = price_df.join(units_df, on='product_id', how='inner')\n",
        "result_df = join_df.filter(col('purchase_date').between(col('start_date'),col('end_date')))\n",
        "result_df.show()"
      ],
      "metadata": {
        "colab": {
          "base_uri": "https://localhost:8080/"
        },
        "id": "FDmwXhU5IrpM",
        "outputId": "a03f9951-26d1-472d-a757-cb06c7f56f81"
      },
      "execution_count": 19,
      "outputs": [
        {
          "output_type": "stream",
          "name": "stdout",
          "text": [
            "+----------+----------+----------+-----+-------------+-----+\n",
            "|product_id|start_date|  end_date|price|purchase_date|units|\n",
            "+----------+----------+----------+-----+-------------+-----+\n",
            "|         1|2019-02-17|2019-02-28|    5|   2019-02-25|  100|\n",
            "|         1|2019-03-01|2019-03-22|   20|   2019-03-01|   15|\n",
            "|         2|2019-02-01|2019-02-20|   15|   2019-02-10|  200|\n",
            "|         2|2019-02-21|2019-03-31|   30|   2019-03-22|   30|\n",
            "+----------+----------+----------+-----+-------------+-----+\n",
            "\n"
          ]
        }
      ]
    },
    {
      "cell_type": "code",
      "source": [
        "# create new col of price*units as total\n",
        "result_df = result_df.withColumn('total', col('price')*col('units'))\n",
        "result_df.show()"
      ],
      "metadata": {
        "colab": {
          "base_uri": "https://localhost:8080/"
        },
        "id": "4I3TEyy3MVLM",
        "outputId": "1b47b78f-70c1-4a4d-af66-b44edf328dd9"
      },
      "execution_count": 21,
      "outputs": [
        {
          "output_type": "stream",
          "name": "stdout",
          "text": [
            "+----------+----------+----------+-----+-------------+-----+-----+\n",
            "|product_id|start_date|  end_date|price|purchase_date|units|total|\n",
            "+----------+----------+----------+-----+-------------+-----+-----+\n",
            "|         1|2019-02-17|2019-02-28|    5|   2019-02-25|  100|  500|\n",
            "|         1|2019-03-01|2019-03-22|   20|   2019-03-01|   15|  300|\n",
            "|         2|2019-02-01|2019-02-20|   15|   2019-02-10|  200| 3000|\n",
            "|         2|2019-02-21|2019-03-31|   30|   2019-03-22|   30|  900|\n",
            "+----------+----------+----------+-----+-------------+-----+-----+\n",
            "\n"
          ]
        }
      ]
    },
    {
      "cell_type": "code",
      "source": [
        "# group by product_id\n",
        "result_df.groupBy('product_id').agg(round(sum('total')/sum('units'),2).alias('average_price')).show()"
      ],
      "metadata": {
        "colab": {
          "base_uri": "https://localhost:8080/"
        },
        "id": "z4u4dCF1RC-5",
        "outputId": "0ed40aa6-5351-45cd-f8df-bbe1fcd18f32"
      },
      "execution_count": 22,
      "outputs": [
        {
          "output_type": "stream",
          "name": "stdout",
          "text": [
            "+----------+-------------+\n",
            "|product_id|average_price|\n",
            "+----------+-------------+\n",
            "|         1|         6.96|\n",
            "|         2|        16.96|\n",
            "+----------+-------------+\n",
            "\n"
          ]
        }
      ]
    }
  ]
}