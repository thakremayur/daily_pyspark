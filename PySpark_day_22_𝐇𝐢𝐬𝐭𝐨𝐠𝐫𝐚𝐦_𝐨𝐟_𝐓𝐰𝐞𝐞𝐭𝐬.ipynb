{
  "nbformat": 4,
  "nbformat_minor": 0,
  "metadata": {
    "colab": {
      "provenance": []
    },
    "kernelspec": {
      "name": "python3",
      "display_name": "Python 3"
    },
    "language_info": {
      "name": "python"
    }
  },
  "cells": [
    {
      "cell_type": "code",
      "execution_count": 1,
      "metadata": {
        "colab": {
          "base_uri": "https://localhost:8080/"
        },
        "id": "bBbj9Qq3BIWd",
        "outputId": "942b5a37-81ed-4e89-9594-8ca90f555600"
      },
      "outputs": [
        {
          "output_type": "stream",
          "name": "stdout",
          "text": [
            "Collecting pyspark\n",
            "  Downloading pyspark-3.5.3.tar.gz (317.3 MB)\n",
            "\u001b[2K     \u001b[90m━━━━━━━━━━━━━━━━━━━━━━━━━━━━━━━━━━━━━━━━\u001b[0m \u001b[32m317.3/317.3 MB\u001b[0m \u001b[31m4.2 MB/s\u001b[0m eta \u001b[36m0:00:00\u001b[0m\n",
            "\u001b[?25h  Preparing metadata (setup.py) ... \u001b[?25l\u001b[?25hdone\n",
            "Requirement already satisfied: py4j==0.10.9.7 in /usr/local/lib/python3.10/dist-packages (from pyspark) (0.10.9.7)\n",
            "Building wheels for collected packages: pyspark\n",
            "  Building wheel for pyspark (setup.py) ... \u001b[?25l\u001b[?25hdone\n",
            "  Created wheel for pyspark: filename=pyspark-3.5.3-py2.py3-none-any.whl size=317840625 sha256=2413a9be099a844db5b5fb1d7628ae4e7e1ee171b7751da1fd1ca5f1641c191d\n",
            "  Stored in directory: /root/.cache/pip/wheels/1b/3a/92/28b93e2fbfdbb07509ca4d6f50c5e407f48dce4ddbda69a4ab\n",
            "Successfully built pyspark\n",
            "Installing collected packages: pyspark\n",
            "Successfully installed pyspark-3.5.3\n"
          ]
        }
      ],
      "source": [
        "# ps-34\n",
        "%pip install pyspark"
      ]
    },
    {
      "cell_type": "markdown",
      "source": [
        "𝐇𝐢𝐬𝐭𝐨𝐠𝐫𝐚𝐦 𝐨𝐟 𝐓𝐰𝐞𝐞𝐭𝐬\n",
        "\n",
        " write a pyspark code to obtain a histogram of tweets posted per user in 2022.\n",
        "Output the tweet count per user as the bucket and the number of Twitter users who fall into that bucket.In other words,\n",
        " group the users by the number of tweets they posted in 2022 and count the number of users in each group.\n",
        "\n",
        "\n",
        "𝐒𝐜𝐡𝐞𝐦𝐚 𝐀𝐧𝐝 𝐃𝐚𝐭𝐚:\n",
        "================\n",
        "\n",
        "# Define the schema for the tweets DataFrame\n",
        "schema = StructType([\n",
        "StructField(\"tweet_id\", IntegerType(), True),\n",
        "StructField(\"user_id\", IntegerType(), True),\n",
        "StructField(\"msg\", StringType(), True),\n",
        "StructField(\"tweet_date\", StringType(), True)\n",
        "])\n",
        "\n",
        "# Create the tweets DataFrame\n",
        "data = [\n",
        "(214252, 111, 'Am considering taking Tesla private at $420. Funding secured.', '2021-12-30 00:00:00'),\n",
        "(739252, 111, 'Despite the constant negative press covfefe', '2022-01-01 00:00:00'),\n",
        "(846402, 111, 'Following @NickSinghTech on Twitter changed my life!', '2022-02-14 00:00:00'),\n",
        "(241425, 254, 'If the salary is so competitive why won’t you tell me what it is?', '2022-03-01 00:00:00'),\n",
        "(231574, 148, 'I no longer have a manager. I can\\'t be managed', '2022-03-23 00:00:00')\n",
        "]"
      ],
      "metadata": {
        "id": "H8lR8HbzFgAO"
      }
    },
    {
      "cell_type": "code",
      "source": [
        "# import all necessary module\n",
        "from pyspark.sql import *\n",
        "from pyspark.sql.types import *\n",
        "from pyspark.sql.functions import *"
      ],
      "metadata": {
        "id": "9LZkcrPAFE-H"
      },
      "execution_count": 2,
      "outputs": []
    },
    {
      "cell_type": "code",
      "source": [
        "# create spark session\n",
        "spark = SparkSession.builder.master('local').appName('pyspark-day-22').getOrCreate()\n",
        "spark"
      ],
      "metadata": {
        "colab": {
          "base_uri": "https://localhost:8080/",
          "height": 221
        },
        "id": "qOqJhYpRFI_G",
        "outputId": "7dcb9073-b1af-48f2-ca67-4280f3638f88"
      },
      "execution_count": 3,
      "outputs": [
        {
          "output_type": "execute_result",
          "data": {
            "text/plain": [
              "<pyspark.sql.session.SparkSession at 0x7a1e2f6917b0>"
            ],
            "text/html": [
              "\n",
              "            <div>\n",
              "                <p><b>SparkSession - in-memory</b></p>\n",
              "                \n",
              "        <div>\n",
              "            <p><b>SparkContext</b></p>\n",
              "\n",
              "            <p><a href=\"http://404a6f92ef9a:4040\">Spark UI</a></p>\n",
              "\n",
              "            <dl>\n",
              "              <dt>Version</dt>\n",
              "                <dd><code>v3.5.3</code></dd>\n",
              "              <dt>Master</dt>\n",
              "                <dd><code>local</code></dd>\n",
              "              <dt>AppName</dt>\n",
              "                <dd><code>pyspark-day-22</code></dd>\n",
              "            </dl>\n",
              "        </div>\n",
              "        \n",
              "            </div>\n",
              "        "
            ]
          },
          "metadata": {},
          "execution_count": 3
        }
      ]
    },
    {
      "cell_type": "code",
      "source": [
        "# # Define the schema for the tweets DataFrame\n",
        "schema = StructType([\n",
        "StructField(\"tweet_id\", IntegerType(), True),\n",
        "StructField(\"user_id\", IntegerType(), True),\n",
        "StructField(\"msg\", StringType(), True),\n",
        "StructField(\"tweet_date\", StringType(), True)\n",
        "])\n",
        "\n",
        "# Create the tweets DataFrame\n",
        "data = [\n",
        "(214252, 111, 'Am considering taking Tesla private at $420. Funding secured.', '2021-12-30 00:00:00'),\n",
        "(739252, 111, 'Despite the constant negative press covfefe', '2022-01-01 00:00:00'),\n",
        "(846402, 111, 'Following @NickSinghTech on Twitter changed my life!', '2022-02-14 00:00:00'),\n",
        "(241425, 254, 'If the salary is so competitive why won’t you tell me what it is?', '2022-03-01 00:00:00'),\n",
        "(231574, 148, 'I no longer have a manager. I can\\'t be managed', '2022-03-23 00:00:00')\n",
        "]"
      ],
      "metadata": {
        "id": "KYX8X-AAFNY0"
      },
      "execution_count": 4,
      "outputs": []
    },
    {
      "cell_type": "code",
      "source": [
        "# create df\n",
        "tweet = spark.createDataFrame(schema = schema, data = data)\n",
        "tweet.show()"
      ],
      "metadata": {
        "colab": {
          "base_uri": "https://localhost:8080/"
        },
        "id": "tbbbptGUFlfv",
        "outputId": "15a0ab12-a41b-42f0-e45e-ccfe413fc235"
      },
      "execution_count": 5,
      "outputs": [
        {
          "output_type": "stream",
          "name": "stdout",
          "text": [
            "+--------+-------+--------------------+-------------------+\n",
            "|tweet_id|user_id|                 msg|         tweet_date|\n",
            "+--------+-------+--------------------+-------------------+\n",
            "|  214252|    111|Am considering ta...|2021-12-30 00:00:00|\n",
            "|  739252|    111|Despite the const...|2022-01-01 00:00:00|\n",
            "|  846402|    111|Following @NickSi...|2022-02-14 00:00:00|\n",
            "|  241425|    254|If the salary is ...|2022-03-01 00:00:00|\n",
            "|  231574|    148|I no longer have ...|2022-03-23 00:00:00|\n",
            "+--------+-------+--------------------+-------------------+\n",
            "\n"
          ]
        }
      ]
    },
    {
      "cell_type": "code",
      "source": [
        "tweet_2022 = tweet.filter(col('tweet_date').like('2022-%'))\n",
        "tweet_2022.show()"
      ],
      "metadata": {
        "colab": {
          "base_uri": "https://localhost:8080/"
        },
        "id": "JNjcXWHmFslK",
        "outputId": "02ac09a9-7def-4f69-b54d-525fcddb6de0"
      },
      "execution_count": 7,
      "outputs": [
        {
          "output_type": "stream",
          "name": "stdout",
          "text": [
            "+--------+-------+--------------------+-------------------+\n",
            "|tweet_id|user_id|                 msg|         tweet_date|\n",
            "+--------+-------+--------------------+-------------------+\n",
            "|  739252|    111|Despite the const...|2022-01-01 00:00:00|\n",
            "|  846402|    111|Following @NickSi...|2022-02-14 00:00:00|\n",
            "|  241425|    254|If the salary is ...|2022-03-01 00:00:00|\n",
            "|  231574|    148|I no longer have ...|2022-03-23 00:00:00|\n",
            "+--------+-------+--------------------+-------------------+\n",
            "\n"
          ]
        }
      ]
    },
    {
      "cell_type": "code",
      "source": [
        "tweet_bucket = tweet_2022.groupBy('user_id').agg(count('user_id').alias('bucket'))\n",
        "tweet_bucket.show()"
      ],
      "metadata": {
        "colab": {
          "base_uri": "https://localhost:8080/"
        },
        "id": "WDpZqPUKGX6G",
        "outputId": "667fa56a-f567-471d-b60a-94342c187bd7"
      },
      "execution_count": 10,
      "outputs": [
        {
          "output_type": "stream",
          "name": "stdout",
          "text": [
            "+-------+------+\n",
            "|user_id|bucket|\n",
            "+-------+------+\n",
            "|    148|     1|\n",
            "|    111|     2|\n",
            "|    254|     1|\n",
            "+-------+------+\n",
            "\n"
          ]
        }
      ]
    },
    {
      "cell_type": "code",
      "source": [
        "tweet_bucket.groupBy('bucket').agg(count('bucket').alias('user_num')).show()"
      ],
      "metadata": {
        "colab": {
          "base_uri": "https://localhost:8080/"
        },
        "id": "a3XdSQ9fGvzn",
        "outputId": "325be73f-c134-4e43-b774-04d3555e18f4"
      },
      "execution_count": 11,
      "outputs": [
        {
          "output_type": "stream",
          "name": "stdout",
          "text": [
            "+------+--------+\n",
            "|bucket|user_num|\n",
            "+------+--------+\n",
            "|     1|       2|\n",
            "|     2|       1|\n",
            "+------+--------+\n",
            "\n"
          ]
        }
      ]
    }
  ]
}