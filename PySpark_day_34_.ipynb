{
  "nbformat": 4,
  "nbformat_minor": 0,
  "metadata": {
    "colab": {
      "provenance": []
    },
    "kernelspec": {
      "name": "python3",
      "display_name": "Python 3"
    },
    "language_info": {
      "name": "python"
    }
  },
  "cells": [
    {
      "cell_type": "code",
      "execution_count": 1,
      "metadata": {
        "colab": {
          "base_uri": "https://localhost:8080/"
        },
        "id": "9e3pZILwCnvA",
        "outputId": "8a53be61-137f-4a6f-a2c0-bf428e427928"
      },
      "outputs": [
        {
          "output_type": "stream",
          "name": "stdout",
          "text": [
            "Collecting pyspark\n",
            "  Downloading pyspark-3.5.3.tar.gz (317.3 MB)\n",
            "\u001b[2K     \u001b[90m━━━━━━━━━━━━━━━━━━━━━━━━━━━━━━━━━━━━━━━━\u001b[0m \u001b[32m317.3/317.3 MB\u001b[0m \u001b[31m4.4 MB/s\u001b[0m eta \u001b[36m0:00:00\u001b[0m\n",
            "\u001b[?25h  Preparing metadata (setup.py) ... \u001b[?25l\u001b[?25hdone\n",
            "Requirement already satisfied: py4j==0.10.9.7 in /usr/local/lib/python3.10/dist-packages (from pyspark) (0.10.9.7)\n",
            "Building wheels for collected packages: pyspark\n",
            "  Building wheel for pyspark (setup.py) ... \u001b[?25l\u001b[?25hdone\n",
            "  Created wheel for pyspark: filename=pyspark-3.5.3-py2.py3-none-any.whl size=317840625 sha256=e60f969f5bebc690f629f484addbcd3072eac6276efe22b53e7d9a8db23c1993\n",
            "  Stored in directory: /root/.cache/pip/wheels/1b/3a/92/28b93e2fbfdbb07509ca4d6f50c5e407f48dce4ddbda69a4ab\n",
            "Successfully built pyspark\n",
            "Installing collected packages: pyspark\n",
            "Successfully installed pyspark-3.5.3\n"
          ]
        }
      ],
      "source": [
        "# ps-21\n",
        "%pip install pyspark"
      ]
    },
    {
      "cell_type": "code",
      "source": [
        "# import all necessary module\n",
        "from pyspark.sql import *\n",
        "from pyspark.sql.types import *\n",
        "from pyspark.sql.functions import *"
      ],
      "metadata": {
        "id": "pyb-UFHxCtnm"
      },
      "execution_count": 2,
      "outputs": []
    },
    {
      "cell_type": "code",
      "source": [
        "# create spark session\n",
        "spark = SparkSession.builder.master('local').appName('pyspark-day-34').getOrCreate()\n",
        "spark"
      ],
      "metadata": {
        "colab": {
          "base_uri": "https://localhost:8080/",
          "height": 219
        },
        "id": "WN1k3DbACvti",
        "outputId": "e0cf67d9-4bc7-4a4d-e53e-76da1ebcc559"
      },
      "execution_count": 3,
      "outputs": [
        {
          "output_type": "execute_result",
          "data": {
            "text/plain": [
              "<pyspark.sql.session.SparkSession at 0x7961c1ca30d0>"
            ],
            "text/html": [
              "\n",
              "            <div>\n",
              "                <p><b>SparkSession - in-memory</b></p>\n",
              "                \n",
              "        <div>\n",
              "            <p><b>SparkContext</b></p>\n",
              "\n",
              "            <p><a href=\"http://993187c63fa2:4040\">Spark UI</a></p>\n",
              "\n",
              "            <dl>\n",
              "              <dt>Version</dt>\n",
              "                <dd><code>v3.5.3</code></dd>\n",
              "              <dt>Master</dt>\n",
              "                <dd><code>local</code></dd>\n",
              "              <dt>AppName</dt>\n",
              "                <dd><code>pyspark-day-34</code></dd>\n",
              "            </dl>\n",
              "        </div>\n",
              "        \n",
              "            </div>\n",
              "        "
            ]
          },
          "metadata": {},
          "execution_count": 3
        }
      ]
    },
    {
      "cell_type": "markdown",
      "source": [
        "𝐘𝐨𝐮𝐫 𝐦𝐢𝐬𝐬𝐢𝐨𝐧, 𝐬𝐡𝐨𝐮𝐥𝐝 𝐲𝐨𝐮 𝐜𝐡𝐨𝐨𝐬𝐞 𝐭𝐨 𝐚𝐜𝐜𝐞𝐩𝐭 𝐢𝐭, 𝐢𝐬 𝐭𝐨 𝐬𝐡𝐨𝐰𝐜𝐚𝐬𝐞 𝐲𝐨𝐮𝐫 𝐏𝐘𝐒𝐏𝐀𝐑𝐊 𝐩𝐫𝐨𝐰𝐞𝐬𝐬 𝐰𝐢𝐭𝐡 𝐭𝐡𝐞 𝐟𝐨𝐥𝐥𝐨𝐰𝐢𝐧𝐠 𝐭𝐚𝐬𝐤𝐬:\n",
        "\n",
        "1️⃣ Get only Year part of \"JoiningDate\"\n",
        "2️⃣ Get only Month part of \"JoiningDate\".\n",
        "3️⃣ Get only date part of \"JoiningDate\".\n",
        "4️⃣Get the current system date using DataFrame API\n",
        "5️⃣Get the current UTC date and time using DataFrame API\n",
        "\n",
        " ================================\n",
        "𝐒𝐜𝐡𝐞𝐦𝐚 𝐀𝐧𝐝 𝐃𝐚𝐭𝐚:\n",
        "================================\n",
        "\n",
        "data = [\n",
        " [1, \"Vikas\", \"Ahlawat\", 600000.0, \"2013-02-15 11:16:28.290\", \"IT\", \"Male\"],\n",
        " [2, \"nikita\", \"Jain\", 530000.0, \"2014-01-09 17:31:07.793\", \"HR\", \"Female\"],\n",
        " [3, \"Ashish\", \"Kumar\", 1000000.0, \"2014-01-09 10:05:07.793\", \"IT\", \"Male\"],\n",
        " [4, \"Nikhil\", \"Sharma\", 480000.0, \"2014-01-09 09:00:07.793\", \"HR\", \"Male\"],\n",
        " [5, \"anish\", \"kadian\", 500000.0, \"2014-01-09 09:31:07.793\", \"Payroll\", \"Male\"],\n",
        "]\n",
        "\n",
        "schema = StructType([\n",
        " StructField(\"EmployeeID\", IntegerType(), True),\n",
        " StructField(\"First_Name\", StringType(), True),\n",
        " StructField(\"Last_Name\", StringType(), True),\n",
        " StructField(\"Salary\", DoubleType(), True),\n",
        " StructField(\"Joining_Date\", StringType(), True),\n",
        " StructField(\"Department\", StringType(), True),\n",
        " StructField(\"Gender\", StringType(), True)\n",
        "])"
      ],
      "metadata": {
        "id": "2LgPhDZBDErt"
      }
    },
    {
      "cell_type": "code",
      "source": [
        "data = [\n",
        " [1, \"Vikas\", \"Ahlawat\", 600000.0, \"2013-02-15 11:16:28.290\", \"IT\", \"Male\"],\n",
        " [2, \"nikita\", \"Jain\", 530000.0, \"2014-01-09 17:31:07.793\", \"HR\", \"Female\"],\n",
        " [3, \"Ashish\", \"Kumar\", 1000000.0, \"2014-01-09 10:05:07.793\", \"IT\", \"Male\"],\n",
        " [4, \"Nikhil\", \"Sharma\", 480000.0, \"2014-01-09 09:00:07.793\", \"HR\", \"Male\"],\n",
        " [5, \"anish\", \"kadian\", 500000.0, \"2014-01-09 09:31:07.793\", \"Payroll\", \"Male\"],\n",
        "]\n",
        "\n",
        "schema = StructType([\n",
        " StructField(\"EmployeeID\", IntegerType(), True),\n",
        " StructField(\"First_Name\", StringType(), True),\n",
        " StructField(\"Last_Name\", StringType(), True),\n",
        " StructField(\"Salary\", DoubleType(), True),\n",
        " StructField(\"Joining_Date\", StringType(), True),\n",
        " StructField(\"Department\", StringType(), True),\n",
        " StructField(\"Gender\", StringType(), True)\n",
        "])"
      ],
      "metadata": {
        "id": "vdgi5LloCyrO"
      },
      "execution_count": 4,
      "outputs": []
    },
    {
      "cell_type": "code",
      "source": [
        "df = spark.createDataFrame(data = data, schema = schema)\n",
        "df.show()"
      ],
      "metadata": {
        "colab": {
          "base_uri": "https://localhost:8080/"
        },
        "id": "R1yOOiTnDHPW",
        "outputId": "06d6159a-dba1-4c9c-b0c6-32859aab09fe"
      },
      "execution_count": 5,
      "outputs": [
        {
          "output_type": "stream",
          "name": "stdout",
          "text": [
            "+----------+----------+---------+---------+--------------------+----------+------+\n",
            "|EmployeeID|First_Name|Last_Name|   Salary|        Joining_Date|Department|Gender|\n",
            "+----------+----------+---------+---------+--------------------+----------+------+\n",
            "|         1|     Vikas|  Ahlawat| 600000.0|2013-02-15 11:16:...|        IT|  Male|\n",
            "|         2|    nikita|     Jain| 530000.0|2014-01-09 17:31:...|        HR|Female|\n",
            "|         3|    Ashish|    Kumar|1000000.0|2014-01-09 10:05:...|        IT|  Male|\n",
            "|         4|    Nikhil|   Sharma| 480000.0|2014-01-09 09:00:...|        HR|  Male|\n",
            "|         5|     anish|   kadian| 500000.0|2014-01-09 09:31:...|   Payroll|  Male|\n",
            "+----------+----------+---------+---------+--------------------+----------+------+\n",
            "\n"
          ]
        }
      ]
    },
    {
      "cell_type": "code",
      "source": [
        "df.select(date_format(to_timestamp(col(\"Joining_Date\")),'yyyy')).show()"
      ],
      "metadata": {
        "colab": {
          "base_uri": "https://localhost:8080/"
        },
        "id": "YeyuMvGzDNoS",
        "outputId": "dffbdf5e-a56f-431b-a014-d613677d0517"
      },
      "execution_count": 6,
      "outputs": [
        {
          "output_type": "stream",
          "name": "stdout",
          "text": [
            "+---------------------------------------------+\n",
            "|date_format(to_timestamp(Joining_Date), yyyy)|\n",
            "+---------------------------------------------+\n",
            "|                                         2013|\n",
            "|                                         2014|\n",
            "|                                         2014|\n",
            "|                                         2014|\n",
            "|                                         2014|\n",
            "+---------------------------------------------+\n",
            "\n"
          ]
        }
      ]
    },
    {
      "cell_type": "code",
      "source": [
        "df.select(date_format(to_timestamp(col(\"Joining_Date\")),'MM')).show()\n",
        "df.select(date_format(to_timestamp(col(\"Joining_Date\")),'MMM')).show()"
      ],
      "metadata": {
        "colab": {
          "base_uri": "https://localhost:8080/"
        },
        "id": "NqSyEvReEBNh",
        "outputId": "cc979c14-4d92-4cee-dcd2-144d1d781765"
      },
      "execution_count": 7,
      "outputs": [
        {
          "output_type": "stream",
          "name": "stdout",
          "text": [
            "+-------------------------------------------+\n",
            "|date_format(to_timestamp(Joining_Date), MM)|\n",
            "+-------------------------------------------+\n",
            "|                                         02|\n",
            "|                                         01|\n",
            "|                                         01|\n",
            "|                                         01|\n",
            "|                                         01|\n",
            "+-------------------------------------------+\n",
            "\n",
            "+--------------------------------------------+\n",
            "|date_format(to_timestamp(Joining_Date), MMM)|\n",
            "+--------------------------------------------+\n",
            "|                                         Feb|\n",
            "|                                         Jan|\n",
            "|                                         Jan|\n",
            "|                                         Jan|\n",
            "|                                         Jan|\n",
            "+--------------------------------------------+\n",
            "\n"
          ]
        }
      ]
    },
    {
      "cell_type": "code",
      "source": [
        "df.select(date_format(to_timestamp(col(\"Joining_Date\")),'dd')).show()"
      ],
      "metadata": {
        "colab": {
          "base_uri": "https://localhost:8080/"
        },
        "id": "8ATskTnIEJxm",
        "outputId": "8c274c0f-7dc8-4733-c3ef-33c1799b4784"
      },
      "execution_count": 8,
      "outputs": [
        {
          "output_type": "stream",
          "name": "stdout",
          "text": [
            "+-------------------------------------------+\n",
            "|date_format(to_timestamp(Joining_Date), dd)|\n",
            "+-------------------------------------------+\n",
            "|                                         15|\n",
            "|                                         09|\n",
            "|                                         09|\n",
            "|                                         09|\n",
            "|                                         09|\n",
            "+-------------------------------------------+\n",
            "\n"
          ]
        }
      ]
    },
    {
      "cell_type": "code",
      "source": [
        "sys_date_df = spark.range(1).select(current_date().alias('sys-date'))\n",
        "sys_date_df.show()"
      ],
      "metadata": {
        "colab": {
          "base_uri": "https://localhost:8080/"
        },
        "id": "LZnr4kGREPqN",
        "outputId": "5269b2e0-7887-4a45-9ca6-f44680f7bc50"
      },
      "execution_count": 9,
      "outputs": [
        {
          "output_type": "stream",
          "name": "stdout",
          "text": [
            "+----------+\n",
            "|  sys-date|\n",
            "+----------+\n",
            "|2024-10-17|\n",
            "+----------+\n",
            "\n"
          ]
        }
      ]
    },
    {
      "cell_type": "code",
      "source": [
        "from os import truncate\n",
        "sys_date_df = spark.range(1).select(current_timestamp().alias('sys-date'))\n",
        "sys_date_df.show(truncate = False)"
      ],
      "metadata": {
        "colab": {
          "base_uri": "https://localhost:8080/"
        },
        "id": "Okms3fR-EgmZ",
        "outputId": "4e88fda1-62b0-4270-da71-bd9b76b78e1b"
      },
      "execution_count": 11,
      "outputs": [
        {
          "output_type": "stream",
          "name": "stdout",
          "text": [
            "+--------------------------+\n",
            "|sys-date                  |\n",
            "+--------------------------+\n",
            "|2024-10-17 06:03:25.788537|\n",
            "+--------------------------+\n",
            "\n"
          ]
        }
      ]
    }
  ]
}