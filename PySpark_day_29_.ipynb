{
  "nbformat": 4,
  "nbformat_minor": 0,
  "metadata": {
    "colab": {
      "provenance": []
    },
    "kernelspec": {
      "name": "python3",
      "display_name": "Python 3"
    },
    "language_info": {
      "name": "python"
    }
  },
  "cells": [
    {
      "cell_type": "code",
      "execution_count": 1,
      "metadata": {
        "colab": {
          "base_uri": "https://localhost:8080/"
        },
        "id": "EyrHg8uOwePe",
        "outputId": "af803898-86dc-40a1-8afc-721c5c2d7098"
      },
      "outputs": [
        {
          "output_type": "stream",
          "name": "stdout",
          "text": [
            "Collecting pyspark\n",
            "  Downloading pyspark-3.5.3.tar.gz (317.3 MB)\n",
            "\u001b[2K     \u001b[90m━━━━━━━━━━━━━━━━━━━━━━━━━━━━━━━━━━━━━━━━\u001b[0m \u001b[32m317.3/317.3 MB\u001b[0m \u001b[31m4.6 MB/s\u001b[0m eta \u001b[36m0:00:00\u001b[0m\n",
            "\u001b[?25h  Preparing metadata (setup.py) ... \u001b[?25l\u001b[?25hdone\n",
            "Requirement already satisfied: py4j==0.10.9.7 in /usr/local/lib/python3.10/dist-packages (from pyspark) (0.10.9.7)\n",
            "Building wheels for collected packages: pyspark\n",
            "  Building wheel for pyspark (setup.py) ... \u001b[?25l\u001b[?25hdone\n",
            "  Created wheel for pyspark: filename=pyspark-3.5.3-py2.py3-none-any.whl size=317840625 sha256=eb3a891d6c17a86b865d60dd464c54aaf73ed86fe4bf9a2baa4919ef6fe9adea\n",
            "  Stored in directory: /root/.cache/pip/wheels/1b/3a/92/28b93e2fbfdbb07509ca4d6f50c5e407f48dce4ddbda69a4ab\n",
            "Successfully built pyspark\n",
            "Installing collected packages: pyspark\n",
            "Successfully installed pyspark-3.5.3\n"
          ]
        }
      ],
      "source": [
        "# ps-26\n",
        "%pip install pyspark"
      ]
    },
    {
      "cell_type": "code",
      "source": [
        "# import all necessary module\n",
        "from pyspark.sql import *\n",
        "from pyspark.sql.types import *\n",
        "from pyspark.sql.functions import *"
      ],
      "metadata": {
        "id": "Fc9ssmCHzSr8"
      },
      "execution_count": 2,
      "outputs": []
    },
    {
      "cell_type": "code",
      "source": [
        "# create spark session\n",
        "spark = SparkSession.builder.master('local').appName('pyspark-day-29').getOrCreate()\n",
        "spark"
      ],
      "metadata": {
        "colab": {
          "base_uri": "https://localhost:8080/",
          "height": 221
        },
        "id": "FNQNkjoMzVKJ",
        "outputId": "4bcfd728-f365-4315-c361-0270655d8132"
      },
      "execution_count": 3,
      "outputs": [
        {
          "output_type": "execute_result",
          "data": {
            "text/plain": [
              "<pyspark.sql.session.SparkSession at 0x7f4e5838d990>"
            ],
            "text/html": [
              "\n",
              "            <div>\n",
              "                <p><b>SparkSession - in-memory</b></p>\n",
              "                \n",
              "        <div>\n",
              "            <p><b>SparkContext</b></p>\n",
              "\n",
              "            <p><a href=\"http://8ad08a7647a4:4040\">Spark UI</a></p>\n",
              "\n",
              "            <dl>\n",
              "              <dt>Version</dt>\n",
              "                <dd><code>v3.5.3</code></dd>\n",
              "              <dt>Master</dt>\n",
              "                <dd><code>local</code></dd>\n",
              "              <dt>AppName</dt>\n",
              "                <dd><code>pyspark-day-28</code></dd>\n",
              "            </dl>\n",
              "        </div>\n",
              "        \n",
              "            </div>\n",
              "        "
            ]
          },
          "metadata": {},
          "execution_count": 3
        }
      ]
    },
    {
      "cell_type": "markdown",
      "source": [
        "Your mission, should you choose to accept it, is to showcase your PYSPARK prowess with the following tasks:\n",
        "\n",
        "1️⃣ Write the query to get the department and department wise\n",
        " total(sum) salary from \"EmployeeDetail\" table.\n",
        "2️⃣ Write the query to get the department and department wise total(sum) salary, display it in ascending order according to salary.\n",
        "3️⃣ Write the query to get the department and department wise total(sum) salary, display it in descending order according to salary.\n",
        "4️⃣ Write the query to get the department, total no. of departments, total(sum) salary with respect to department from \"EmployeeDetail\" table.\n",
        "\n",
        "\n",
        "Schema And Data:\n",
        "================\n",
        "# Input Data:\n",
        "data = [\n",
        " [1, \"Vikas\", \"Ahlawat\", 600000.0, \"2013-02-15 11:16:28.290\", \"IT\", \"Male\"],\n",
        " [2, \"nikita\", \"Jain\", 530000.0, \"2014-01-09 17:31:07.793\", \"HR\", \"Female\"],\n",
        " [3, \"Ashish\", \"Kumar\", 1000000.0, \"2014-01-09 10:05:07.793\", \"IT\", \"Male\"],\n",
        " [4, \"Nikhil\", \"Sharma\", 480000.0, \"2014-01-09 09:00:07.793\", \"HR\", \"Male\"],\n",
        " [5, \"anish\", \"kadian\", 500000.0, \"2014-01-09 09:31:07.793\", \"Payroll\", \"Male\"],\n",
        "]\n",
        "\n",
        "# Create a schema for the DataFrame\n",
        "schema = StructType([\n",
        " StructField(\"EmployeeID\", IntegerType(), True),\n",
        " StructField(\"First_Name\", StringType(), True),\n",
        " StructField(\"Last_Name\", StringType(), True),\n",
        " StructField(\"Salary\", DoubleType(), True),\n",
        " StructField(\"Joining_Date\", StringType(), True),\n",
        " StructField(\"Department\", StringType(), True),\n",
        " StructField(\"Gender\", StringType(), True)\n",
        "])"
      ],
      "metadata": {
        "id": "HRq9dsFBzh2n"
      }
    },
    {
      "cell_type": "code",
      "source": [
        "# Input Data:\n",
        "data = [\n",
        " [1, \"Vikas\", \"Ahlawat\", 600000.0, \"2013-02-15 11:16:28.290\", \"IT\", \"Male\"],\n",
        " [2, \"nikita\", \"Jain\", 530000.0, \"2014-01-09 17:31:07.793\", \"HR\", \"Female\"],\n",
        " [3, \"Ashish\", \"Kumar\", 1000000.0, \"2014-01-09 10:05:07.793\", \"IT\", \"Male\"],\n",
        " [4, \"Nikhil\", \"Sharma\", 480000.0, \"2014-01-09 09:00:07.793\", \"HR\", \"Male\"],\n",
        " [5, \"anish\", \"kadian\", 500000.0, \"2014-01-09 09:31:07.793\", \"Payroll\", \"Male\"],\n",
        "]\n",
        "\n",
        "# Create a schema for the DataFrame\n",
        "schema = StructType([\n",
        " StructField(\"EmployeeID\", IntegerType(), True),\n",
        " StructField(\"First_Name\", StringType(), True),\n",
        " StructField(\"Last_Name\", StringType(), True),\n",
        " StructField(\"Salary\", DoubleType(), True),\n",
        " StructField(\"Joining_Date\", StringType(), True),\n",
        " StructField(\"Department\", StringType(), True),\n",
        " StructField(\"Gender\", StringType(), True)\n",
        "])"
      ],
      "metadata": {
        "id": "c6gOdbz_z5bn"
      },
      "execution_count": 5,
      "outputs": []
    },
    {
      "cell_type": "code",
      "source": [
        "# create df\n",
        "df = spark.createDataFrame(schema = schema , data=data)\n",
        "df.show()"
      ],
      "metadata": {
        "colab": {
          "base_uri": "https://localhost:8080/"
        },
        "id": "nu6_oz70zXKV",
        "outputId": "57b6d58d-5e70-42b4-aa8e-4453036c44da"
      },
      "execution_count": 6,
      "outputs": [
        {
          "output_type": "stream",
          "name": "stdout",
          "text": [
            "+----------+----------+---------+---------+--------------------+----------+------+\n",
            "|EmployeeID|First_Name|Last_Name|   Salary|        Joining_Date|Department|Gender|\n",
            "+----------+----------+---------+---------+--------------------+----------+------+\n",
            "|         1|     Vikas|  Ahlawat| 600000.0|2013-02-15 11:16:...|        IT|  Male|\n",
            "|         2|    nikita|     Jain| 530000.0|2014-01-09 17:31:...|        HR|Female|\n",
            "|         3|    Ashish|    Kumar|1000000.0|2014-01-09 10:05:...|        IT|  Male|\n",
            "|         4|    Nikhil|   Sharma| 480000.0|2014-01-09 09:00:...|        HR|  Male|\n",
            "|         5|     anish|   kadian| 500000.0|2014-01-09 09:31:...|   Payroll|  Male|\n",
            "+----------+----------+---------+---------+--------------------+----------+------+\n",
            "\n"
          ]
        }
      ]
    },
    {
      "cell_type": "code",
      "source": [
        "# calculate total sal dept wise\n",
        "df.groupBy('Department').agg(sum('Salary').alias('total_sal')).show()"
      ],
      "metadata": {
        "colab": {
          "base_uri": "https://localhost:8080/"
        },
        "id": "2NKXfWzNz0hE",
        "outputId": "49c436a9-c157-4e16-97fa-bfac7005595d"
      },
      "execution_count": 7,
      "outputs": [
        {
          "output_type": "stream",
          "name": "stdout",
          "text": [
            "+----------+---------+\n",
            "|Department|total_sal|\n",
            "+----------+---------+\n",
            "|        HR|1010000.0|\n",
            "|   Payroll| 500000.0|\n",
            "|        IT|1600000.0|\n",
            "+----------+---------+\n",
            "\n"
          ]
        }
      ]
    },
    {
      "cell_type": "code",
      "source": [
        "# order it in asc on total sal\n",
        "df.groupBy('Department').agg(sum('Salary').alias('total_sal')).orderBy(col('total_sal').asc()).show()"
      ],
      "metadata": {
        "colab": {
          "base_uri": "https://localhost:8080/"
        },
        "id": "tU6tLWAf0ald",
        "outputId": "d14757a8-caf9-416c-d911-5d95f128c96f"
      },
      "execution_count": 8,
      "outputs": [
        {
          "output_type": "stream",
          "name": "stdout",
          "text": [
            "+----------+---------+\n",
            "|Department|total_sal|\n",
            "+----------+---------+\n",
            "|   Payroll| 500000.0|\n",
            "|        HR|1010000.0|\n",
            "|        IT|1600000.0|\n",
            "+----------+---------+\n",
            "\n"
          ]
        }
      ]
    },
    {
      "cell_type": "code",
      "source": [
        "# order it in desc on total sal\n",
        "df.groupBy('Department').agg(sum('Salary').alias('total_sal')).orderBy(col('total_sal').desc()).show()"
      ],
      "metadata": {
        "colab": {
          "base_uri": "https://localhost:8080/"
        },
        "id": "IORdwOmv0ngS",
        "outputId": "d8ee40bd-9149-44a2-eeb5-448bcace8a85"
      },
      "execution_count": 9,
      "outputs": [
        {
          "output_type": "stream",
          "name": "stdout",
          "text": [
            "+----------+---------+\n",
            "|Department|total_sal|\n",
            "+----------+---------+\n",
            "|        IT|1600000.0|\n",
            "|        HR|1010000.0|\n",
            "|   Payroll| 500000.0|\n",
            "+----------+---------+\n",
            "\n"
          ]
        }
      ]
    },
    {
      "cell_type": "code",
      "source": [
        "# calculate total sal dept wise\n",
        "df.groupBy('Department').agg(count('Salary').alias('count'),sum('Salary').alias('total_sal')).show()"
      ],
      "metadata": {
        "colab": {
          "base_uri": "https://localhost:8080/"
        },
        "id": "ZbAOCeut1Hit",
        "outputId": "821e89bb-aa0f-4fbc-eaf0-163d1042436c"
      },
      "execution_count": 10,
      "outputs": [
        {
          "output_type": "stream",
          "name": "stdout",
          "text": [
            "+----------+-----+---------+\n",
            "|Department|count|total_sal|\n",
            "+----------+-----+---------+\n",
            "|        HR|    2|1010000.0|\n",
            "|   Payroll|    1| 500000.0|\n",
            "|        IT|    2|1600000.0|\n",
            "+----------+-----+---------+\n",
            "\n"
          ]
        }
      ]
    }
  ]
}