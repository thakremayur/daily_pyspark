{
  "nbformat": 4,
  "nbformat_minor": 0,
  "metadata": {
    "colab": {
      "provenance": []
    },
    "kernelspec": {
      "name": "python3",
      "display_name": "Python 3"
    },
    "language_info": {
      "name": "python"
    }
  },
  "cells": [
    {
      "cell_type": "code",
      "execution_count": 1,
      "metadata": {
        "colab": {
          "base_uri": "https://localhost:8080/"
        },
        "id": "gQmBGugLONxq",
        "outputId": "213a0545-a493-4977-c866-324713185055"
      },
      "outputs": [
        {
          "output_type": "stream",
          "name": "stdout",
          "text": [
            "Collecting pyspark\n",
            "  Downloading pyspark-3.5.3.tar.gz (317.3 MB)\n",
            "\u001b[2K     \u001b[90m━━━━━━━━━━━━━━━━━━━━━━━━━━━━━━━━━━━━━━━━\u001b[0m \u001b[32m317.3/317.3 MB\u001b[0m \u001b[31m4.4 MB/s\u001b[0m eta \u001b[36m0:00:00\u001b[0m\n",
            "\u001b[?25h  Preparing metadata (setup.py) ... \u001b[?25l\u001b[?25hdone\n",
            "Requirement already satisfied: py4j==0.10.9.7 in /usr/local/lib/python3.10/dist-packages (from pyspark) (0.10.9.7)\n",
            "Building wheels for collected packages: pyspark\n",
            "  Building wheel for pyspark (setup.py) ... \u001b[?25l\u001b[?25hdone\n",
            "  Created wheel for pyspark: filename=pyspark-3.5.3-py2.py3-none-any.whl size=317840625 sha256=b73cd3e48224082636abd8e348ac8c455cf539c1de9031a96e6aa5fc35794def\n",
            "  Stored in directory: /root/.cache/pip/wheels/1b/3a/92/28b93e2fbfdbb07509ca4d6f50c5e407f48dce4ddbda69a4ab\n",
            "Successfully built pyspark\n",
            "Installing collected packages: pyspark\n",
            "Successfully installed pyspark-3.5.3\n"
          ]
        }
      ],
      "source": [
        "# ps-37\n",
        "%pip install pyspark"
      ]
    },
    {
      "cell_type": "markdown",
      "source": [
        "🌟 𝐏𝐘𝐒𝐏𝐀𝐑𝐊 𝐏𝐫𝐚𝐜𝐭𝐢𝐜𝐞/𝐈𝐧𝐭𝐞𝐫𝐯𝐢𝐞𝐰 𝐏𝐫𝐨𝐛𝐥𝐞𝐦 📊\n",
        "========================================\n",
        "Triangle Judgement Problem\n",
        "A pupil Tim gets homework to identify whether three line segments could possibly form a triangle.\n",
        "However, this assignment is very heavy because there are hundreds of records to calculate.\n",
        "\n",
        "Could you help Tim by writing a pyspark code to judge whether these three sides can form a triangle,\n",
        "assuming df triangle holds the length of the three sides x, y and z.\n",
        "\n",
        "𝐒𝐜𝐡𝐞𝐦𝐚 𝐀𝐧𝐝 𝐃𝐚𝐭𝐚:\n",
        "================\n",
        " # Define the schema for the DataFrame\n",
        "schema = StructType([\n",
        " StructField(\"x\", IntegerType(), True),\n",
        " StructField(\"y\", IntegerType(), True),\n",
        " StructField(\"z\", IntegerType(), True)\n",
        "])\n",
        "\n",
        "# Data to be inserted into the DataFrame\n",
        "data = [\n",
        " (13, 15, 30),\n",
        " (10, 20, 15)\n",
        "]"
      ],
      "metadata": {
        "id": "DJYRhmgzPBh8"
      }
    },
    {
      "cell_type": "code",
      "source": [
        "# import all necessary module\n",
        "from pyspark.sql import *\n",
        "from pyspark.sql.types import *\n",
        "from pyspark.sql.functions import *"
      ],
      "metadata": {
        "id": "vCRXWoQKOdXr"
      },
      "execution_count": 2,
      "outputs": []
    },
    {
      "cell_type": "code",
      "source": [
        "# create spark session\n",
        "spark = SparkSession.builder.master('local').appName('pyspark-day-19').getOrCreate()\n",
        "spark"
      ],
      "metadata": {
        "colab": {
          "base_uri": "https://localhost:8080/",
          "height": 221
        },
        "id": "wDy0_D2QOe2G",
        "outputId": "9c352a5d-ebea-46c3-dc7f-2acf576b2d57"
      },
      "execution_count": 5,
      "outputs": [
        {
          "output_type": "execute_result",
          "data": {
            "text/plain": [
              "<pyspark.sql.session.SparkSession at 0x7a3da899d930>"
            ],
            "text/html": [
              "\n",
              "            <div>\n",
              "                <p><b>SparkSession - in-memory</b></p>\n",
              "                \n",
              "        <div>\n",
              "            <p><b>SparkContext</b></p>\n",
              "\n",
              "            <p><a href=\"http://28c7af3e8b93:4040\">Spark UI</a></p>\n",
              "\n",
              "            <dl>\n",
              "              <dt>Version</dt>\n",
              "                <dd><code>v3.5.3</code></dd>\n",
              "              <dt>Master</dt>\n",
              "                <dd><code>local</code></dd>\n",
              "              <dt>AppName</dt>\n",
              "                <dd><code>pyspark-day-17</code></dd>\n",
              "            </dl>\n",
              "        </div>\n",
              "        \n",
              "            </div>\n",
              "        "
            ]
          },
          "metadata": {},
          "execution_count": 5
        }
      ]
    },
    {
      "cell_type": "code",
      "source": [
        " # Define the schema for the DataFrame\n",
        "schema = StructType([\n",
        " StructField(\"x\", IntegerType(), True),\n",
        " StructField(\"y\", IntegerType(), True),\n",
        " StructField(\"z\", IntegerType(), True)\n",
        "])\n",
        "\n",
        "# Data to be inserted into the DataFrame\n",
        "data = [\n",
        " (13, 15, 30),\n",
        " (10, 20, 15)\n",
        "]"
      ],
      "metadata": {
        "id": "6WHH6JWDOir8"
      },
      "execution_count": 6,
      "outputs": []
    },
    {
      "cell_type": "code",
      "source": [
        "# create df\n",
        "triangle = spark.createDataFrame(schema=schema, data=data)\n",
        "triangle.show()"
      ],
      "metadata": {
        "colab": {
          "base_uri": "https://localhost:8080/"
        },
        "id": "ht_6-uW6Osvb",
        "outputId": "9a04cc79-54a2-4a11-d826-fae2ea0df9f8"
      },
      "execution_count": 7,
      "outputs": [
        {
          "output_type": "stream",
          "name": "stdout",
          "text": [
            "+---+---+---+\n",
            "|  x|  y|  z|\n",
            "+---+---+---+\n",
            "| 13| 15| 30|\n",
            "| 10| 20| 15|\n",
            "+---+---+---+\n",
            "\n"
          ]
        }
      ]
    },
    {
      "cell_type": "code",
      "source": [
        "triangle.printSchema()"
      ],
      "metadata": {
        "colab": {
          "base_uri": "https://localhost:8080/"
        },
        "id": "5nruagjCO14o",
        "outputId": "b7d5c28f-b0a5-4d6c-da38-4a91db78aa95"
      },
      "execution_count": 9,
      "outputs": [
        {
          "output_type": "stream",
          "name": "stdout",
          "text": [
            "root\n",
            " |-- x: integer (nullable = true)\n",
            " |-- y: integer (nullable = true)\n",
            " |-- z: integer (nullable = true)\n",
            "\n"
          ]
        }
      ]
    },
    {
      "cell_type": "code",
      "source": [
        "triangle.withColumn(\n",
        "    'triangle',\n",
        "    when(\n",
        "        ((col('x')+col('y'))>col('z')) &\n",
        "        ((col('x')+col('z'))>col('y')) &\n",
        "        ((col('z')+col('y'))>col('x')),\n",
        "        'Yes'\n",
        "        ).otherwise('No')\n",
        "      ).show()"
      ],
      "metadata": {
        "colab": {
          "base_uri": "https://localhost:8080/"
        },
        "id": "cKIFIxb1O8az",
        "outputId": "1cd5da3c-bc8d-4989-fad6-df61dc11c175"
      },
      "execution_count": 13,
      "outputs": [
        {
          "output_type": "stream",
          "name": "stdout",
          "text": [
            "+---+---+---+--------+\n",
            "|  x|  y|  z|triangle|\n",
            "+---+---+---+--------+\n",
            "| 13| 15| 30|      No|\n",
            "| 10| 20| 15|     Yes|\n",
            "+---+---+---+--------+\n",
            "\n"
          ]
        }
      ]
    }
  ]
}