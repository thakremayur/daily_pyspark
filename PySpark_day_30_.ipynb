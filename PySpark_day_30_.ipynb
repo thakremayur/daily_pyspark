{
  "nbformat": 4,
  "nbformat_minor": 0,
  "metadata": {
    "colab": {
      "provenance": []
    },
    "kernelspec": {
      "name": "python3",
      "display_name": "Python 3"
    },
    "language_info": {
      "name": "python"
    }
  },
  "cells": [
    {
      "cell_type": "code",
      "execution_count": 1,
      "metadata": {
        "colab": {
          "base_uri": "https://localhost:8080/"
        },
        "id": "ACkJmHCYZxxx",
        "outputId": "9749a791-132e-486c-a2e0-1810a9d25a60"
      },
      "outputs": [
        {
          "output_type": "stream",
          "name": "stdout",
          "text": [
            "Collecting pyspark\n",
            "  Downloading pyspark-3.5.3.tar.gz (317.3 MB)\n",
            "\u001b[2K     \u001b[90m━━━━━━━━━━━━━━━━━━━━━━━━━━━━━━━━━━━━━━━━\u001b[0m \u001b[32m317.3/317.3 MB\u001b[0m \u001b[31m5.0 MB/s\u001b[0m eta \u001b[36m0:00:00\u001b[0m\n",
            "\u001b[?25h  Preparing metadata (setup.py) ... \u001b[?25l\u001b[?25hdone\n",
            "Requirement already satisfied: py4j==0.10.9.7 in /usr/local/lib/python3.10/dist-packages (from pyspark) (0.10.9.7)\n",
            "Building wheels for collected packages: pyspark\n",
            "  Building wheel for pyspark (setup.py) ... \u001b[?25l\u001b[?25hdone\n",
            "  Created wheel for pyspark: filename=pyspark-3.5.3-py2.py3-none-any.whl size=317840625 sha256=25446510d7716465b3b331111baf90ea2da15240e494f5f92fe38dc1ae92f3c4\n",
            "  Stored in directory: /root/.cache/pip/wheels/1b/3a/92/28b93e2fbfdbb07509ca4d6f50c5e407f48dce4ddbda69a4ab\n",
            "Successfully built pyspark\n",
            "Installing collected packages: pyspark\n",
            "Successfully installed pyspark-3.5.3\n"
          ]
        }
      ],
      "source": [
        "# ps-25\n",
        "%pip install pyspark"
      ]
    },
    {
      "cell_type": "code",
      "source": [
        "# import all necessary module\n",
        "from pyspark.sql import *\n",
        "from pyspark.sql.types import *\n",
        "from pyspark.sql.functions import *"
      ],
      "metadata": {
        "id": "9ssCu9jgaA4k"
      },
      "execution_count": 2,
      "outputs": []
    },
    {
      "cell_type": "code",
      "source": [
        "# create spark session\n",
        "spark = SparkSession.builder.master('local').appName('pyspark-day-30').getOrCreate()\n",
        "spark"
      ],
      "metadata": {
        "colab": {
          "base_uri": "https://localhost:8080/",
          "height": 221
        },
        "id": "Ngg6FxuYaIcx",
        "outputId": "fd14088f-bd10-4964-c8b1-99c7f04a8cf3"
      },
      "execution_count": 3,
      "outputs": [
        {
          "output_type": "execute_result",
          "data": {
            "text/plain": [
              "<pyspark.sql.session.SparkSession at 0x79fbc5a75ab0>"
            ],
            "text/html": [
              "\n",
              "            <div>\n",
              "                <p><b>SparkSession - in-memory</b></p>\n",
              "                \n",
              "        <div>\n",
              "            <p><b>SparkContext</b></p>\n",
              "\n",
              "            <p><a href=\"http://b6c38c0f9b0d:4040\">Spark UI</a></p>\n",
              "\n",
              "            <dl>\n",
              "              <dt>Version</dt>\n",
              "                <dd><code>v3.5.3</code></dd>\n",
              "              <dt>Master</dt>\n",
              "                <dd><code>local</code></dd>\n",
              "              <dt>AppName</dt>\n",
              "                <dd><code>pyspark-day-30</code></dd>\n",
              "            </dl>\n",
              "        </div>\n",
              "        \n",
              "            </div>\n",
              "        "
            ]
          },
          "metadata": {},
          "execution_count": 3
        }
      ]
    },
    {
      "cell_type": "markdown",
      "source": [
        "Your mission, should you choose to accept it, is to showcase your PYSPARK prowess with the following tasks:\n",
        "\n",
        "1️⃣ Select first name from \"EmployeeDetail\" table prifixed with \"Hello \"\n",
        "2️⃣ Get employee details from \"EmployeeDetail\" table whose Salary greater than 600000\n",
        "3️⃣ Get employee details from \"EmployeeDetail\" table whose Salary less than 700000\n",
        "4️⃣Get employee details from \"EmployeeDetail\" table whose Salary between 500000 than 600000\n",
        "5️⃣Select second highest salary from \"EmployeeDetail\" table\n",
        "\n",
        "Schema And Data:\n",
        "================\n",
        "# Input Data:\n",
        "data = [\n",
        " [1, \"Vikas\", \"Ahlawat\", 600000.0, \"2013-02-15 11:16:28.290\", \"IT\", \"Male\"],\n",
        " [2, \"nikita\", \"Jain\", 530000.0, \"2014-01-09 17:31:07.793\", \"HR\", \"Female\"],\n",
        " [3, \"Ashish\", \"Kumar\", 1000000.0, \"2014-01-09 10:05:07.793\", \"IT\", \"Male\"],\n",
        " [4, \"Nikhil\", \"Sharma\", 480000.0, \"2014-01-09 09:00:07.793\", \"HR\", \"Male\"],\n",
        " [5, \"anish\", \"kadian\", 500000.0, \"2014-01-09 09:31:07.793\", \"Payroll\", \"Male\"],\n",
        "]\n",
        "\n",
        "# Create a schema for the DataFrame\n",
        "schema = StructType([\n",
        " StructField(\"EmployeeID\", IntegerType(), True),\n",
        " StructField(\"First_Name\", StringType(), True),\n",
        " StructField(\"Last_Name\", StringType(), True),\n",
        " StructField(\"Salary\", DoubleType(), True),\n",
        " StructField(\"Joining_Date\", StringType(), True),\n",
        " StructField(\"Department\", StringType(), True),\n",
        " StructField(\"Gender\", StringType(), True)\n",
        "])"
      ],
      "metadata": {
        "id": "5ZOqKp4Laky4"
      }
    },
    {
      "cell_type": "code",
      "source": [
        "# Input Data:\n",
        "data = [\n",
        " [1, \"Vikas\", \"Ahlawat\", 600000.0, \"2013-02-15 11:16:28.290\", \"IT\", \"Male\"],\n",
        " [2, \"nikita\", \"Jain\", 530000.0, \"2014-01-09 17:31:07.793\", \"HR\", \"Female\"],\n",
        " [3, \"Ashish\", \"Kumar\", 1000000.0, \"2014-01-09 10:05:07.793\", \"IT\", \"Male\"],\n",
        " [4, \"Nikhil\", \"Sharma\", 480000.0, \"2014-01-09 09:00:07.793\", \"HR\", \"Male\"],\n",
        " [5, \"anish\", \"kadian\", 500000.0, \"2014-01-09 09:31:07.793\", \"Payroll\", \"Male\"],\n",
        "]\n",
        "\n",
        "# Create a schema for the DataFrame\n",
        "schema = StructType([\n",
        " StructField(\"EmployeeID\", IntegerType(), True),\n",
        " StructField(\"First_Name\", StringType(), True),\n",
        " StructField(\"Last_Name\", StringType(), True),\n",
        " StructField(\"Salary\", DoubleType(), True),\n",
        " StructField(\"Joining_Date\", StringType(), True),\n",
        " StructField(\"Department\", StringType(), True),\n",
        " StructField(\"Gender\", StringType(), True)\n",
        "])"
      ],
      "metadata": {
        "id": "L7C4N4IHanUe"
      },
      "execution_count": 4,
      "outputs": []
    },
    {
      "cell_type": "code",
      "source": [
        "# create df\n",
        "df = spark.createDataFrame(schema = schema, data = data)\n",
        "df.show()"
      ],
      "metadata": {
        "colab": {
          "base_uri": "https://localhost:8080/"
        },
        "id": "3a6hc74daohb",
        "outputId": "e0fc14e0-cc4e-4e3b-a64b-7d33f2e8d5f6"
      },
      "execution_count": 5,
      "outputs": [
        {
          "output_type": "stream",
          "name": "stdout",
          "text": [
            "+----------+----------+---------+---------+--------------------+----------+------+\n",
            "|EmployeeID|First_Name|Last_Name|   Salary|        Joining_Date|Department|Gender|\n",
            "+----------+----------+---------+---------+--------------------+----------+------+\n",
            "|         1|     Vikas|  Ahlawat| 600000.0|2013-02-15 11:16:...|        IT|  Male|\n",
            "|         2|    nikita|     Jain| 530000.0|2014-01-09 17:31:...|        HR|Female|\n",
            "|         3|    Ashish|    Kumar|1000000.0|2014-01-09 10:05:...|        IT|  Male|\n",
            "|         4|    Nikhil|   Sharma| 480000.0|2014-01-09 09:00:...|        HR|  Male|\n",
            "|         5|     anish|   kadian| 500000.0|2014-01-09 09:31:...|   Payroll|  Male|\n",
            "+----------+----------+---------+---------+--------------------+----------+------+\n",
            "\n"
          ]
        }
      ]
    },
    {
      "cell_type": "code",
      "source": [
        "df.withColumn('prefix_firstname', concat(lit('Hello '),col('First_Name'))).select('prefix_firstname').show()"
      ],
      "metadata": {
        "colab": {
          "base_uri": "https://localhost:8080/"
        },
        "id": "-4Iuvnk0avMa",
        "outputId": "91be464b-2c60-4d30-cae6-1a84d1465097"
      },
      "execution_count": 7,
      "outputs": [
        {
          "output_type": "stream",
          "name": "stdout",
          "text": [
            "+----------------+\n",
            "|prefix_firstname|\n",
            "+----------------+\n",
            "|     Hello Vikas|\n",
            "|    Hello nikita|\n",
            "|    Hello Ashish|\n",
            "|    Hello Nikhil|\n",
            "|     Hello anish|\n",
            "+----------------+\n",
            "\n"
          ]
        }
      ]
    },
    {
      "cell_type": "code",
      "source": [
        "df.filter(col('Salary')>600000).show()"
      ],
      "metadata": {
        "colab": {
          "base_uri": "https://localhost:8080/"
        },
        "id": "lDq5xnKybNmh",
        "outputId": "c61931a5-7318-4c26-d758-116976e43235"
      },
      "execution_count": 8,
      "outputs": [
        {
          "output_type": "stream",
          "name": "stdout",
          "text": [
            "+----------+----------+---------+---------+--------------------+----------+------+\n",
            "|EmployeeID|First_Name|Last_Name|   Salary|        Joining_Date|Department|Gender|\n",
            "+----------+----------+---------+---------+--------------------+----------+------+\n",
            "|         3|    Ashish|    Kumar|1000000.0|2014-01-09 10:05:...|        IT|  Male|\n",
            "+----------+----------+---------+---------+--------------------+----------+------+\n",
            "\n"
          ]
        }
      ]
    },
    {
      "cell_type": "code",
      "source": [
        "df.filter(col('Salary')<700000).show()"
      ],
      "metadata": {
        "colab": {
          "base_uri": "https://localhost:8080/"
        },
        "id": "EFPVYG5rbbCm",
        "outputId": "e018ac2c-a3dd-4747-f249-2281e4aadebc"
      },
      "execution_count": 12,
      "outputs": [
        {
          "output_type": "stream",
          "name": "stdout",
          "text": [
            "+----------+----------+---------+--------+--------------------+----------+------+\n",
            "|EmployeeID|First_Name|Last_Name|  Salary|        Joining_Date|Department|Gender|\n",
            "+----------+----------+---------+--------+--------------------+----------+------+\n",
            "|         1|     Vikas|  Ahlawat|600000.0|2013-02-15 11:16:...|        IT|  Male|\n",
            "|         2|    nikita|     Jain|530000.0|2014-01-09 17:31:...|        HR|Female|\n",
            "|         4|    Nikhil|   Sharma|480000.0|2014-01-09 09:00:...|        HR|  Male|\n",
            "|         5|     anish|   kadian|500000.0|2014-01-09 09:31:...|   Payroll|  Male|\n",
            "+----------+----------+---------+--------+--------------------+----------+------+\n",
            "\n"
          ]
        }
      ]
    },
    {
      "cell_type": "code",
      "source": [
        "df.filter(col('Salary').between(500000,600000)).show()"
      ],
      "metadata": {
        "colab": {
          "base_uri": "https://localhost:8080/"
        },
        "id": "-Uiui_72biw1",
        "outputId": "e491b230-471e-4408-dc06-e7540e88e558"
      },
      "execution_count": 13,
      "outputs": [
        {
          "output_type": "stream",
          "name": "stdout",
          "text": [
            "+----------+----------+---------+--------+--------------------+----------+------+\n",
            "|EmployeeID|First_Name|Last_Name|  Salary|        Joining_Date|Department|Gender|\n",
            "+----------+----------+---------+--------+--------------------+----------+------+\n",
            "|         1|     Vikas|  Ahlawat|600000.0|2013-02-15 11:16:...|        IT|  Male|\n",
            "|         2|    nikita|     Jain|530000.0|2014-01-09 17:31:...|        HR|Female|\n",
            "|         5|     anish|   kadian|500000.0|2014-01-09 09:31:...|   Payroll|  Male|\n",
            "+----------+----------+---------+--------+--------------------+----------+------+\n",
            "\n"
          ]
        }
      ]
    },
    {
      "cell_type": "code",
      "source": [
        "df.select('Salary').distinct().orderBy(col('Salary').desc()).limit(2).collect()[1][0]"
      ],
      "metadata": {
        "colab": {
          "base_uri": "https://localhost:8080/"
        },
        "id": "fO0ll47Lbv0D",
        "outputId": "72d9c80f-ae97-4dee-bda2-96185bb4e39f"
      },
      "execution_count": 17,
      "outputs": [
        {
          "output_type": "execute_result",
          "data": {
            "text/plain": [
              "600000.0"
            ]
          },
          "metadata": {},
          "execution_count": 17
        }
      ]
    }
  ]
}