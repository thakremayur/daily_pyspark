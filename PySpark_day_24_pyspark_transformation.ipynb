{
  "nbformat": 4,
  "nbformat_minor": 0,
  "metadata": {
    "colab": {
      "provenance": []
    },
    "kernelspec": {
      "name": "python3",
      "display_name": "Python 3"
    },
    "language_info": {
      "name": "python"
    }
  },
  "cells": [
    {
      "cell_type": "code",
      "execution_count": 1,
      "metadata": {
        "colab": {
          "base_uri": "https://localhost:8080/"
        },
        "id": "r2M4BsE4bfke",
        "outputId": "f8d06178-04d5-4eee-9389-44ed1697a18c"
      },
      "outputs": [
        {
          "output_type": "stream",
          "name": "stdout",
          "text": [
            "Collecting pyspark\n",
            "  Downloading pyspark-3.5.3.tar.gz (317.3 MB)\n",
            "\u001b[2K     \u001b[90m━━━━━━━━━━━━━━━━━━━━━━━━━━━━━━━━━━━━━━━━\u001b[0m \u001b[32m317.3/317.3 MB\u001b[0m \u001b[31m4.1 MB/s\u001b[0m eta \u001b[36m0:00:00\u001b[0m\n",
            "\u001b[?25h  Preparing metadata (setup.py) ... \u001b[?25l\u001b[?25hdone\n",
            "Requirement already satisfied: py4j==0.10.9.7 in /usr/local/lib/python3.10/dist-packages (from pyspark) (0.10.9.7)\n",
            "Building wheels for collected packages: pyspark\n",
            "  Building wheel for pyspark (setup.py) ... \u001b[?25l\u001b[?25hdone\n",
            "  Created wheel for pyspark: filename=pyspark-3.5.3-py2.py3-none-any.whl size=317840625 sha256=e7820784d8a230bec81baec39eb7220e20aa595682812cb87fc8053cc2ce341e\n",
            "  Stored in directory: /root/.cache/pip/wheels/1b/3a/92/28b93e2fbfdbb07509ca4d6f50c5e407f48dce4ddbda69a4ab\n",
            "Successfully built pyspark\n",
            "Installing collected packages: pyspark\n",
            "Successfully installed pyspark-3.5.3\n"
          ]
        }
      ],
      "source": [
        "# ps-32\n",
        "%pip install pyspark"
      ]
    },
    {
      "cell_type": "code",
      "source": [
        "# import all necessary module\n",
        "from pyspark.sql import *\n",
        "from pyspark.sql.types import *\n",
        "from pyspark.sql.functions import *"
      ],
      "metadata": {
        "id": "S2jJFL8cbg7u"
      },
      "execution_count": 2,
      "outputs": []
    },
    {
      "cell_type": "code",
      "source": [
        "# create spark session\n",
        "spark = SparkSession.builder.master('local').appName('pyspark-day-24').getOrCreate()\n",
        "spark"
      ],
      "metadata": {
        "colab": {
          "base_uri": "https://localhost:8080/",
          "height": 221
        },
        "id": "1Ss-oE2wbmbn",
        "outputId": "6e298504-64ed-4442-a4bb-c3ce3778cfaa"
      },
      "execution_count": 3,
      "outputs": [
        {
          "output_type": "execute_result",
          "data": {
            "text/plain": [
              "<pyspark.sql.session.SparkSession at 0x7d4240170df0>"
            ],
            "text/html": [
              "\n",
              "            <div>\n",
              "                <p><b>SparkSession - in-memory</b></p>\n",
              "                \n",
              "        <div>\n",
              "            <p><b>SparkContext</b></p>\n",
              "\n",
              "            <p><a href=\"http://076b8c9cc6e5:4040\">Spark UI</a></p>\n",
              "\n",
              "            <dl>\n",
              "              <dt>Version</dt>\n",
              "                <dd><code>v3.5.3</code></dd>\n",
              "              <dt>Master</dt>\n",
              "                <dd><code>local</code></dd>\n",
              "              <dt>AppName</dt>\n",
              "                <dd><code>pyspark-day-24</code></dd>\n",
              "            </dl>\n",
              "        </div>\n",
              "        \n",
              "            </div>\n",
              "        "
            ]
          },
          "metadata": {},
          "execution_count": 3
        }
      ]
    },
    {
      "cell_type": "markdown",
      "source": [
        "Write a pyspark code to transform the DataFrame to display each student's marks in Math and English as separate columns.\n",
        "\n",
        "𝐒𝐜𝐡𝐞𝐦𝐚 𝐀𝐧𝐝 𝐃𝐚𝐭𝐚:\n",
        "================\n",
        "\n",
        "data=[\n",
        "('Rudra','math',79),\n",
        "('Rudra','eng',60),\n",
        "('Shivu','math', 68),\n",
        "('Shivu','eng', 59),\n",
        "('Anu','math', 65),\n",
        "('Anu','eng',80)\n",
        "]\n",
        "\n",
        "schema = StructType([\n",
        " StructField(\"Name\", StringType(), True),\n",
        " StructField(\"Sub\", StringType(), True),\n",
        " StructField(\"Marks\", IntegerType(), True)\n",
        "])"
      ],
      "metadata": {
        "id": "3jWy1wdob3xF"
      }
    },
    {
      "cell_type": "code",
      "source": [
        "# schema and data\n",
        "data=[\n",
        "('Rudra','math',79),\n",
        "('Rudra','eng',60),\n",
        "('Shivu','math', 68),\n",
        "('Shivu','eng', 59),\n",
        "('Anu','math', 65),\n",
        "('Anu','eng',80)\n",
        "]\n",
        "\n",
        "schema = StructType([\n",
        " StructField(\"Name\", StringType(), True),\n",
        " StructField(\"Sub\", StringType(), True),\n",
        " StructField(\"Marks\", IntegerType(), True)\n",
        "])"
      ],
      "metadata": {
        "id": "SZ_geWq0cAi2"
      },
      "execution_count": 4,
      "outputs": []
    },
    {
      "cell_type": "code",
      "source": [
        "# create dataframe\n",
        "df = spark.createDataFrame(schema = schema, data = data)\n",
        "df.show()"
      ],
      "metadata": {
        "colab": {
          "base_uri": "https://localhost:8080/"
        },
        "id": "yOu3utYZcFK3",
        "outputId": "6fe73b43-4896-48da-f20b-dbd676738724"
      },
      "execution_count": 5,
      "outputs": [
        {
          "output_type": "stream",
          "name": "stdout",
          "text": [
            "+-----+----+-----+\n",
            "| Name| Sub|Marks|\n",
            "+-----+----+-----+\n",
            "|Rudra|math|   79|\n",
            "|Rudra| eng|   60|\n",
            "|Shivu|math|   68|\n",
            "|Shivu| eng|   59|\n",
            "|  Anu|math|   65|\n",
            "|  Anu| eng|   80|\n",
            "+-----+----+-----+\n",
            "\n"
          ]
        }
      ]
    },
    {
      "cell_type": "code",
      "source": [
        "# first use collect_list to make list of marks\n",
        "df = df.groupBy('Name').agg(collect_list('Marks').alias('new_marks'))\n",
        "df.show()"
      ],
      "metadata": {
        "colab": {
          "base_uri": "https://localhost:8080/"
        },
        "id": "bJZ_XusNcM86",
        "outputId": "f18674f5-c1ff-46ce-e194-508c254b494f"
      },
      "execution_count": 7,
      "outputs": [
        {
          "output_type": "stream",
          "name": "stdout",
          "text": [
            "+-----+---------+\n",
            "| Name|new_marks|\n",
            "+-----+---------+\n",
            "|Shivu| [68, 59]|\n",
            "|Rudra| [79, 60]|\n",
            "|  Anu| [65, 80]|\n",
            "+-----+---------+\n",
            "\n"
          ]
        }
      ]
    },
    {
      "cell_type": "code",
      "source": [
        "df = df.withColumn('Math',col('new_marks')[0]).withColumn('Eng',col('new_marks')[1]).select('name','math','eng')\n",
        "df.show()"
      ],
      "metadata": {
        "colab": {
          "base_uri": "https://localhost:8080/"
        },
        "id": "TqCWRaeOdheU",
        "outputId": "5cf8053f-6d2a-489b-bae3-fd5a25471fc7"
      },
      "execution_count": 9,
      "outputs": [
        {
          "output_type": "stream",
          "name": "stdout",
          "text": [
            "+-----+----+---+\n",
            "| name|math|eng|\n",
            "+-----+----+---+\n",
            "|Shivu|  68| 59|\n",
            "|Rudra|  79| 60|\n",
            "|  Anu|  65| 80|\n",
            "+-----+----+---+\n",
            "\n"
          ]
        }
      ]
    }
  ]
}