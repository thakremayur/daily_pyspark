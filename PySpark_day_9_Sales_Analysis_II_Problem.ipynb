{
  "nbformat": 4,
  "nbformat_minor": 0,
  "metadata": {
    "colab": {
      "provenance": []
    },
    "kernelspec": {
      "name": "python3",
      "display_name": "Python 3"
    },
    "language_info": {
      "name": "python"
    }
  },
  "cells": [
    {
      "cell_type": "code",
      "execution_count": 3,
      "metadata": {
        "colab": {
          "base_uri": "https://localhost:8080/"
        },
        "id": "4MzktBSyEqUk",
        "outputId": "c322dcff-e600-4e3f-e87d-8b413688a055"
      },
      "outputs": [
        {
          "output_type": "stream",
          "name": "stdout",
          "text": [
            "Collecting pyspark\n",
            "  Downloading pyspark-3.5.2.tar.gz (317.3 MB)\n",
            "\u001b[2K     \u001b[90m━━━━━━━━━━━━━━━━━━━━━━━━━━━━━━━━━━━━━━━━\u001b[0m \u001b[32m317.3/317.3 MB\u001b[0m \u001b[31m5.0 MB/s\u001b[0m eta \u001b[36m0:00:00\u001b[0m\n",
            "\u001b[?25h  Preparing metadata (setup.py) ... \u001b[?25l\u001b[?25hdone\n",
            "Requirement already satisfied: py4j==0.10.9.7 in /usr/local/lib/python3.10/dist-packages (from pyspark) (0.10.9.7)\n",
            "Building wheels for collected packages: pyspark\n",
            "  Building wheel for pyspark (setup.py) ... \u001b[?25l\u001b[?25hdone\n",
            "  Created wheel for pyspark: filename=pyspark-3.5.2-py2.py3-none-any.whl size=317812365 sha256=c1ccb5d1025f668bfa7b6f49748d027d433266f7ca604977cd31e2ec23fbf40e\n",
            "  Stored in directory: /root/.cache/pip/wheels/34/34/bd/03944534c44b677cd5859f248090daa9fb27b3c8f8e5f49574\n",
            "Successfully built pyspark\n",
            "Installing collected packages: pyspark\n",
            "Successfully installed pyspark-3.5.2\n"
          ]
        }
      ],
      "source": [
        "# ps47\n",
        "%pip install pyspark"
      ]
    },
    {
      "cell_type": "markdown",
      "source": [
        "🌟 𝐏𝐘𝐒𝐏𝐀𝐑𝐊 𝐏𝐫𝐚𝐜𝐭𝐢𝐜𝐞/𝐈𝐧𝐭𝐞𝐫𝐯𝐢𝐞𝐰 𝐏𝐫𝐨𝐛𝐥𝐞𝐦 📊\n",
        "========================================\n",
        "\n",
        "Write an Pyspark code that reports the buyers who have bought S8 but not iPhone. Note that S8 and iPhone are products present in the Product table.\n",
        "\n",
        "𝐒𝐜𝐡𝐞𝐦𝐚 𝐀𝐧𝐝 𝐃𝐚𝐭𝐚:\n",
        "================\n",
        "\n",
        " # Define the schema for Product table\n",
        "product_schema = StructType([\n",
        " StructField(\"product_id\", IntegerType(), True),\n",
        " StructField(\"product_name\", StringType(), True),\n",
        " StructField(\"unit_price\", IntegerType(), True)\n",
        "])\n",
        "# Data for Product table\n",
        "product_data = [(1, \"S8\", 1000),\n",
        " (2, \"G4\", 800),\n",
        " (3, \"iPhone\", 1400)]\n",
        "\n",
        "# Define the schema for Sales table\n",
        "sales_schema = StructType([\n",
        " StructField(\"seller_id\", IntegerType(), True),\n",
        " StructField(\"product_id\", IntegerType(), True),\n",
        " StructField(\"buyer_id\", IntegerType(), True),\n",
        " StructField(\"sale_date\", StringType(), True),\n",
        " StructField(\"quantity\", IntegerType(), True),\n",
        " StructField(\"price\", IntegerType(), True)\n",
        "])\n",
        "# Data for Sales table\n",
        "sales_data = [(1, 1, 1, \"2019-01-21\", 2, 2000),\n",
        " (1, 2, 2, \"2019-02-17\", 1, 800),\n",
        " (2, 2, 3, \"2019-06-02\", 1, 800),\n",
        " (3, 3, 4, \"2019-05-13\", 2, 2800)]"
      ],
      "metadata": {
        "id": "HNROVbVGFhfi"
      }
    },
    {
      "cell_type": "code",
      "source": [
        "# import necessary module\n",
        "from pyspark.sql import *\n",
        "from pyspark.sql.types import *\n",
        "from pyspark.sql.functions import *"
      ],
      "metadata": {
        "id": "G_PfR2g_E0pm"
      },
      "execution_count": 4,
      "outputs": []
    },
    {
      "cell_type": "code",
      "source": [
        "# create spark session\n",
        "spark = SparkSession.builder.master('local').appName('pyspark-day-9').getOrCreate()\n",
        "spark"
      ],
      "metadata": {
        "colab": {
          "base_uri": "https://localhost:8080/",
          "height": 221
        },
        "id": "4Px0V5HXFMMA",
        "outputId": "d6113e01-3581-4434-ec6c-f31404e30736"
      },
      "execution_count": 5,
      "outputs": [
        {
          "output_type": "execute_result",
          "data": {
            "text/plain": [
              "<pyspark.sql.session.SparkSession at 0x7be86cf118d0>"
            ],
            "text/html": [
              "\n",
              "            <div>\n",
              "                <p><b>SparkSession - in-memory</b></p>\n",
              "                \n",
              "        <div>\n",
              "            <p><b>SparkContext</b></p>\n",
              "\n",
              "            <p><a href=\"http://7b9feda26cb3:4040\">Spark UI</a></p>\n",
              "\n",
              "            <dl>\n",
              "              <dt>Version</dt>\n",
              "                <dd><code>v3.5.2</code></dd>\n",
              "              <dt>Master</dt>\n",
              "                <dd><code>local</code></dd>\n",
              "              <dt>AppName</dt>\n",
              "                <dd><code>pyspark-day-9</code></dd>\n",
              "            </dl>\n",
              "        </div>\n",
              "        \n",
              "            </div>\n",
              "        "
            ]
          },
          "metadata": {},
          "execution_count": 5
        }
      ]
    },
    {
      "cell_type": "code",
      "source": [
        " # Define the schema for Product table\n",
        "product_schema = StructType([\n",
        " StructField(\"product_id\", IntegerType(), True),\n",
        " StructField(\"product_name\", StringType(), True),\n",
        " StructField(\"unit_price\", IntegerType(), True)\n",
        "])\n",
        "# Data for Product table\n",
        "product_data = [(1, \"S8\", 1000),\n",
        " (2, \"G4\", 800),\n",
        " (3, \"iPhone\", 1400)]"
      ],
      "metadata": {
        "id": "4XAU0ZXOFdYJ"
      },
      "execution_count": 6,
      "outputs": []
    },
    {
      "cell_type": "code",
      "source": [
        "# Define the schema for Sales table\n",
        "sales_schema = StructType([\n",
        " StructField(\"seller_id\", IntegerType(), True),\n",
        " StructField(\"product_id\", IntegerType(), True),\n",
        " StructField(\"buyer_id\", IntegerType(), True),\n",
        " StructField(\"sale_date\", StringType(), True),\n",
        " StructField(\"quantity\", IntegerType(), True),\n",
        " StructField(\"price\", IntegerType(), True)\n",
        "])\n",
        "# Data for Sales table\n",
        "sales_data = [(1, 1, 1, \"2019-01-21\", 2, 2000),\n",
        " (1, 2, 2, \"2019-02-17\", 1, 800),\n",
        " (2, 2, 3, \"2019-06-02\", 1, 800),\n",
        " (3, 3, 4, \"2019-05-13\", 2, 2800)]"
      ],
      "metadata": {
        "id": "C8I5D-PeF60k"
      },
      "execution_count": 7,
      "outputs": []
    },
    {
      "cell_type": "code",
      "source": [
        "# create df for product\n",
        "product_df = spark.createDataFrame(schema = product_schema, data = product_data)\n",
        "product_df.show()"
      ],
      "metadata": {
        "colab": {
          "base_uri": "https://localhost:8080/"
        },
        "id": "hkmbKt5kF_eU",
        "outputId": "317da345-b554-4c64-f356-8d3efe6da93e"
      },
      "execution_count": 8,
      "outputs": [
        {
          "output_type": "stream",
          "name": "stdout",
          "text": [
            "+----------+------------+----------+\n",
            "|product_id|product_name|unit_price|\n",
            "+----------+------------+----------+\n",
            "|         1|          S8|      1000|\n",
            "|         2|          G4|       800|\n",
            "|         3|      iPhone|      1400|\n",
            "+----------+------------+----------+\n",
            "\n"
          ]
        }
      ]
    },
    {
      "cell_type": "code",
      "source": [
        "# create df for sales\n",
        "sales_df = spark.createDataFrame(schema = sales_schema, data = sales_data)\n",
        "sales_df.show()"
      ],
      "metadata": {
        "colab": {
          "base_uri": "https://localhost:8080/"
        },
        "id": "3ywulHFgGCmN",
        "outputId": "b7322aa0-f527-482d-f358-07b80b99ad29"
      },
      "execution_count": 9,
      "outputs": [
        {
          "output_type": "stream",
          "name": "stdout",
          "text": [
            "+---------+----------+--------+----------+--------+-----+\n",
            "|seller_id|product_id|buyer_id| sale_date|quantity|price|\n",
            "+---------+----------+--------+----------+--------+-----+\n",
            "|        1|         1|       1|2019-01-21|       2| 2000|\n",
            "|        1|         2|       2|2019-02-17|       1|  800|\n",
            "|        2|         2|       3|2019-06-02|       1|  800|\n",
            "|        3|         3|       4|2019-05-13|       2| 2800|\n",
            "+---------+----------+--------+----------+--------+-----+\n",
            "\n"
          ]
        }
      ]
    },
    {
      "cell_type": "code",
      "source": [
        "product_df.printSchema()"
      ],
      "metadata": {
        "colab": {
          "base_uri": "https://localhost:8080/"
        },
        "id": "0slg3XGfGG-l",
        "outputId": "d70a7d7f-3c1c-4f52-a5f5-59fa37bd9df3"
      },
      "execution_count": 10,
      "outputs": [
        {
          "output_type": "stream",
          "name": "stdout",
          "text": [
            "root\n",
            " |-- product_id: integer (nullable = true)\n",
            " |-- product_name: string (nullable = true)\n",
            " |-- unit_price: integer (nullable = true)\n",
            "\n"
          ]
        }
      ]
    },
    {
      "cell_type": "code",
      "source": [
        "sales_df.printSchema()"
      ],
      "metadata": {
        "colab": {
          "base_uri": "https://localhost:8080/"
        },
        "id": "7b8klgPJGOqu",
        "outputId": "d0b74880-bccf-44ad-8a3d-1e452b4f1fd4"
      },
      "execution_count": 11,
      "outputs": [
        {
          "output_type": "stream",
          "name": "stdout",
          "text": [
            "root\n",
            " |-- seller_id: integer (nullable = true)\n",
            " |-- product_id: integer (nullable = true)\n",
            " |-- buyer_id: integer (nullable = true)\n",
            " |-- sale_date: string (nullable = true)\n",
            " |-- quantity: integer (nullable = true)\n",
            " |-- price: integer (nullable = true)\n",
            "\n"
          ]
        }
      ]
    },
    {
      "cell_type": "code",
      "source": [
        "# Join both df\n",
        "result_df = product_df.join(sales_df, on='product_id', how='inner')\n",
        "result_df.show()"
      ],
      "metadata": {
        "colab": {
          "base_uri": "https://localhost:8080/"
        },
        "id": "9vcI8sf6GRij",
        "outputId": "cf4df1f7-4663-4a49-f34b-41238868305f"
      },
      "execution_count": 12,
      "outputs": [
        {
          "output_type": "stream",
          "name": "stdout",
          "text": [
            "+----------+------------+----------+---------+--------+----------+--------+-----+\n",
            "|product_id|product_name|unit_price|seller_id|buyer_id| sale_date|quantity|price|\n",
            "+----------+------------+----------+---------+--------+----------+--------+-----+\n",
            "|         1|          S8|      1000|        1|       1|2019-01-21|       2| 2000|\n",
            "|         2|          G4|       800|        1|       2|2019-02-17|       1|  800|\n",
            "|         2|          G4|       800|        2|       3|2019-06-02|       1|  800|\n",
            "|         3|      iPhone|      1400|        3|       4|2019-05-13|       2| 2800|\n",
            "+----------+------------+----------+---------+--------+----------+--------+-----+\n",
            "\n"
          ]
        }
      ]
    },
    {
      "cell_type": "code",
      "source": [
        "# filter out data for s8\n",
        "s8_df = result_df.filter(col('product_name') == 'S8').select('buyer_id')\n",
        "s8_df.show()"
      ],
      "metadata": {
        "colab": {
          "base_uri": "https://localhost:8080/"
        },
        "id": "WoiYlLlaIJLt",
        "outputId": "a91332a6-3378-427a-84d5-4cbce1845370"
      },
      "execution_count": 13,
      "outputs": [
        {
          "output_type": "stream",
          "name": "stdout",
          "text": [
            "+--------+\n",
            "|buyer_id|\n",
            "+--------+\n",
            "|       1|\n",
            "+--------+\n",
            "\n"
          ]
        }
      ]
    },
    {
      "cell_type": "code",
      "source": [
        "# filter out data for iphone\n",
        "iphone_df = result_df.filter(col('product_name') == 'iPhone').select('buyer_id')\n",
        "iphone_df.show()"
      ],
      "metadata": {
        "colab": {
          "base_uri": "https://localhost:8080/"
        },
        "id": "MgbChzYfIaJO",
        "outputId": "64d879db-6ba3-4fce-e1ba-0fcfa7ad65b1"
      },
      "execution_count": 14,
      "outputs": [
        {
          "output_type": "stream",
          "name": "stdout",
          "text": [
            "+--------+\n",
            "|buyer_id|\n",
            "+--------+\n",
            "|       4|\n",
            "+--------+\n",
            "\n"
          ]
        }
      ]
    },
    {
      "cell_type": "code",
      "source": [
        "# join df using left_anti\n",
        "s8_buyer = s8_df.subtract(iphone_df).select('buyer_id')\n",
        "s8_buyer.show()"
      ],
      "metadata": {
        "colab": {
          "base_uri": "https://localhost:8080/"
        },
        "id": "D-He3bYlI0_E",
        "outputId": "59107dc6-85cc-4a68-8dd1-1ad71267fb46"
      },
      "execution_count": 15,
      "outputs": [
        {
          "output_type": "stream",
          "name": "stdout",
          "text": [
            "+--------+\n",
            "|buyer_id|\n",
            "+--------+\n",
            "|       1|\n",
            "+--------+\n",
            "\n"
          ]
        }
      ]
    }
  ]
}