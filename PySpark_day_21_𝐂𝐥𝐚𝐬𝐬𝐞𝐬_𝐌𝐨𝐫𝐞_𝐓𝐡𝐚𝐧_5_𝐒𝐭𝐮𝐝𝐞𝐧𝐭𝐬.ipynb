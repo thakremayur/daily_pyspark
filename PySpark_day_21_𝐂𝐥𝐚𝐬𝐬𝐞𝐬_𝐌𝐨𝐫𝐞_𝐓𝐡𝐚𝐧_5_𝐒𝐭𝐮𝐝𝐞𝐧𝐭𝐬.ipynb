{
  "nbformat": 4,
  "nbformat_minor": 0,
  "metadata": {
    "colab": {
      "provenance": []
    },
    "kernelspec": {
      "name": "python3",
      "display_name": "Python 3"
    },
    "language_info": {
      "name": "python"
    }
  },
  "cells": [
    {
      "cell_type": "code",
      "execution_count": 1,
      "metadata": {
        "colab": {
          "base_uri": "https://localhost:8080/"
        },
        "id": "AZLvLFUXXvoZ",
        "outputId": "6061b305-0d66-4cca-b8cd-fafb52a619db"
      },
      "outputs": [
        {
          "output_type": "stream",
          "name": "stdout",
          "text": [
            "Collecting pyspark\n",
            "  Downloading pyspark-3.5.3.tar.gz (317.3 MB)\n",
            "\u001b[2K     \u001b[90m━━━━━━━━━━━━━━━━━━━━━━━━━━━━━━━━━━━━━━━━\u001b[0m \u001b[32m317.3/317.3 MB\u001b[0m \u001b[31m3.1 MB/s\u001b[0m eta \u001b[36m0:00:00\u001b[0m\n",
            "\u001b[?25h  Preparing metadata (setup.py) ... \u001b[?25l\u001b[?25hdone\n",
            "Requirement already satisfied: py4j==0.10.9.7 in /usr/local/lib/python3.10/dist-packages (from pyspark) (0.10.9.7)\n",
            "Building wheels for collected packages: pyspark\n",
            "  Building wheel for pyspark (setup.py) ... \u001b[?25l\u001b[?25hdone\n",
            "  Created wheel for pyspark: filename=pyspark-3.5.3-py2.py3-none-any.whl size=317840625 sha256=30be48a005a028b1bf6f3ef581a3d7cf087c2a247b988b64acc7e4ebefdf18be\n",
            "  Stored in directory: /root/.cache/pip/wheels/1b/3a/92/28b93e2fbfdbb07509ca4d6f50c5e407f48dce4ddbda69a4ab\n",
            "Successfully built pyspark\n",
            "Installing collected packages: pyspark\n",
            "Successfully installed pyspark-3.5.3\n"
          ]
        }
      ],
      "source": [
        "# ps-35\n",
        "%pip install pyspark"
      ]
    },
    {
      "cell_type": "markdown",
      "source": [
        "🌟 𝐏𝐘𝐒𝐏𝐀𝐑𝐊 𝐏𝐫𝐚𝐜𝐭𝐢𝐜𝐞/𝐈𝐧𝐭𝐞𝐫𝐯𝐢𝐞𝐰 𝐏𝐫𝐨𝐛𝐥𝐞𝐦 📊\n",
        "========================================\n",
        "𝐂𝐥𝐚𝐬𝐬𝐞𝐬 𝐌𝐨𝐫𝐞 𝐓𝐡𝐚𝐧 5 𝐒𝐭𝐮𝐝𝐞𝐧𝐭𝐬\n",
        " 𝐖𝐫𝐢𝐭𝐞 𝐚 𝐩𝐲𝐬𝐩𝐚𝐫𝐤 𝐜𝐨𝐝𝐞 𝐭𝐨 𝐟𝐢𝐧𝐝 𝐚𝐥𝐥 𝐭𝐡𝐞 𝐜𝐥𝐚𝐬𝐬𝐞𝐬 𝐭𝐡𝐚𝐭 𝐡𝐚𝐯𝐞 𝐚𝐭 𝐥𝐞𝐚𝐬𝐭 𝐟𝐢𝐯𝐞 𝐬𝐭𝐮𝐝𝐞𝐧𝐭𝐬.𝐑𝐞𝐭𝐮𝐫𝐧 𝐭𝐡𝐞 𝐫𝐞𝐬𝐮𝐥𝐭 𝐭𝐚𝐛𝐥𝐞 𝐢𝐧 𝐚𝐧𝐲 𝐨𝐫𝐝𝐞𝐫.\n",
        "\n",
        "\n",
        "𝐒𝐜𝐡𝐞𝐦𝐚 𝐀𝐧𝐝 𝐃𝐚𝐭𝐚:\n",
        "================\n",
        "# Define the schema for the DataFrame\n",
        "schema = StructType([\n",
        " StructField(\"StudentID\", StringType(), True),\n",
        " StructField(\"ClassName\", StringType(), True)\n",
        "])\n",
        "# Data to be inserted into the DataFrame\n",
        "data = [\n",
        " ('A', 'Math'),\n",
        " ('B', 'English'),\n",
        " ('C', 'Math'),\n",
        " ('D', 'Biology'),\n",
        " ('E', 'Math'),\n",
        " ('F', 'Computer'),\n",
        " ('G', 'Math'),\n",
        " ('H', 'Math'),\n",
        " ('I', 'Math')\n",
        "]"
      ],
      "metadata": {
        "id": "W74qttobYdQ0"
      }
    },
    {
      "cell_type": "code",
      "source": [
        "# import all necessary module\n",
        "from pyspark.sql import *\n",
        "from pyspark.sql.types import *\n",
        "from pyspark.sql.functions import *"
      ],
      "metadata": {
        "id": "pWeyX-tyX1gI"
      },
      "execution_count": 2,
      "outputs": []
    },
    {
      "cell_type": "code",
      "source": [
        "# create spark session\n",
        "spark = SparkSession.builder.master('local').appName('pyspark-day-21').getOrCreate()\n",
        "spark"
      ],
      "metadata": {
        "colab": {
          "base_uri": "https://localhost:8080/",
          "height": 221
        },
        "id": "5tLUSmsjX4Yv",
        "outputId": "9560ee93-76e5-4ec8-aaaa-9b139a954250"
      },
      "execution_count": 3,
      "outputs": [
        {
          "output_type": "execute_result",
          "data": {
            "text/plain": [
              "<pyspark.sql.session.SparkSession at 0x7ac1b6ba8d90>"
            ],
            "text/html": [
              "\n",
              "            <div>\n",
              "                <p><b>SparkSession - in-memory</b></p>\n",
              "                \n",
              "        <div>\n",
              "            <p><b>SparkContext</b></p>\n",
              "\n",
              "            <p><a href=\"http://8082574bee28:4040\">Spark UI</a></p>\n",
              "\n",
              "            <dl>\n",
              "              <dt>Version</dt>\n",
              "                <dd><code>v3.5.3</code></dd>\n",
              "              <dt>Master</dt>\n",
              "                <dd><code>local</code></dd>\n",
              "              <dt>AppName</dt>\n",
              "                <dd><code>pyspark-day-21</code></dd>\n",
              "            </dl>\n",
              "        </div>\n",
              "        \n",
              "            </div>\n",
              "        "
            ]
          },
          "metadata": {},
          "execution_count": 3
        }
      ]
    },
    {
      "cell_type": "code",
      "source": [
        "# Define the schema for the DataFrame\n",
        "schema = StructType([\n",
        " StructField(\"StudentID\", StringType(), True),\n",
        " StructField(\"ClassName\", StringType(), True)\n",
        "])\n",
        "# Data to be inserted into the DataFrame\n",
        "data = [\n",
        " ('A', 'Math'),\n",
        " ('B', 'English'),\n",
        " ('C', 'Math'),\n",
        " ('D', 'Biology'),\n",
        " ('E', 'Math'),\n",
        " ('F', 'Computer'),\n",
        " ('G', 'Math'),\n",
        " ('H', 'Math'),\n",
        " ('I', 'Math')\n",
        "]"
      ],
      "metadata": {
        "id": "Ze01IQrnX9o-"
      },
      "execution_count": 4,
      "outputs": []
    },
    {
      "cell_type": "code",
      "source": [
        "# create df\n",
        "df = spark.createDataFrame(schema = schema, data = data)\n",
        "df.show()"
      ],
      "metadata": {
        "colab": {
          "base_uri": "https://localhost:8080/"
        },
        "id": "KMxaK5EyYoJA",
        "outputId": "be00fac5-8f53-4304-c12a-aeac576fa3ae"
      },
      "execution_count": 5,
      "outputs": [
        {
          "output_type": "stream",
          "name": "stdout",
          "text": [
            "+---------+---------+\n",
            "|StudentID|ClassName|\n",
            "+---------+---------+\n",
            "|        A|     Math|\n",
            "|        B|  English|\n",
            "|        C|     Math|\n",
            "|        D|  Biology|\n",
            "|        E|     Math|\n",
            "|        F| Computer|\n",
            "|        G|     Math|\n",
            "|        H|     Math|\n",
            "|        I|     Math|\n",
            "+---------+---------+\n",
            "\n"
          ]
        }
      ]
    },
    {
      "cell_type": "code",
      "source": [
        "df.groupBy('ClassName').agg(count('ClassName').alias('cnt')).filter(col('cnt') >= 5).show()"
      ],
      "metadata": {
        "colab": {
          "base_uri": "https://localhost:8080/"
        },
        "id": "Ak9PaDIdY2XG",
        "outputId": "732c2146-8efb-493d-cbd9-9bc3acfdc7f4"
      },
      "execution_count": 6,
      "outputs": [
        {
          "output_type": "stream",
          "name": "stdout",
          "text": [
            "+---------+---+\n",
            "|ClassName|cnt|\n",
            "+---------+---+\n",
            "|     Math|  6|\n",
            "+---------+---+\n",
            "\n"
          ]
        }
      ]
    }
  ]
}