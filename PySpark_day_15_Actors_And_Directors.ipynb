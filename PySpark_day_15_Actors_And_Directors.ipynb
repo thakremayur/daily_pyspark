{
  "nbformat": 4,
  "nbformat_minor": 0,
  "metadata": {
    "colab": {
      "provenance": []
    },
    "kernelspec": {
      "name": "python3",
      "display_name": "Python 3"
    },
    "language_info": {
      "name": "python"
    }
  },
  "cells": [
    {
      "cell_type": "code",
      "execution_count": 1,
      "metadata": {
        "colab": {
          "base_uri": "https://localhost:8080/"
        },
        "id": "ztjr7AP2DoWo",
        "outputId": "6add5d9e-ed11-4ba7-a208-d3ef2ee51c54"
      },
      "outputs": [
        {
          "output_type": "stream",
          "name": "stdout",
          "text": [
            "Collecting pyspark\n",
            "  Downloading pyspark-3.5.3.tar.gz (317.3 MB)\n",
            "\u001b[2K     \u001b[90m━━━━━━━━━━━━━━━━━━━━━━━━━━━━━━━━━━━━━━━━\u001b[0m \u001b[32m317.3/317.3 MB\u001b[0m \u001b[31m5.2 MB/s\u001b[0m eta \u001b[36m0:00:00\u001b[0m\n",
            "\u001b[?25h  Preparing metadata (setup.py) ... \u001b[?25l\u001b[?25hdone\n",
            "Requirement already satisfied: py4j==0.10.9.7 in /usr/local/lib/python3.10/dist-packages (from pyspark) (0.10.9.7)\n",
            "Building wheels for collected packages: pyspark\n",
            "  Building wheel for pyspark (setup.py) ... \u001b[?25l\u001b[?25hdone\n",
            "  Created wheel for pyspark: filename=pyspark-3.5.3-py2.py3-none-any.whl size=317840625 sha256=51fdf50ef1d9d1b6ad99bc8fefdb1faa4cfb31260b6299d2e32b448df9e41f85\n",
            "  Stored in directory: /root/.cache/pip/wheels/1b/3a/92/28b93e2fbfdbb07509ca4d6f50c5e407f48dce4ddbda69a4ab\n",
            "Successfully built pyspark\n",
            "Installing collected packages: pyspark\n",
            "Successfully installed pyspark-3.5.3\n"
          ]
        }
      ],
      "source": [
        "# ps-41\n",
        "%pip install pyspark"
      ]
    },
    {
      "cell_type": "markdown",
      "source": [
        "🌟 𝐏𝐘𝐒𝐏𝐀𝐑𝐊 𝐏𝐫𝐚𝐜𝐭𝐢𝐜𝐞/𝐈𝐧𝐭𝐞𝐫𝐯𝐢𝐞𝐰 𝐏𝐫𝐨𝐛𝐥𝐞𝐦 📊\n",
        "========================================\n",
        "Actors And Directors Who Cooperated At Least Three Times Problem\n",
        "Write a pyspark code to report, that provides the pairs (actor_id, director_id) where the actor have cooperated with the director at least 3 times.\n",
        "\n",
        "𝐒𝐜𝐡𝐞𝐦𝐚 𝐀𝐧𝐝 𝐃𝐚𝐭𝐚:\n",
        "================\n",
        " # Define the schema for the DataFrame\n",
        "schema = StructType([\n",
        " StructField(\"actor_id\", IntegerType(), True),\n",
        " StructField(\"director_id\", IntegerType(), True),\n",
        " StructField(\"timestamp\", IntegerType(), True)\n",
        "])\n",
        "\n",
        "# Create the data rows\n",
        "data = [\n",
        " (1, 1, 0),\n",
        " (1, 1, 1),\n",
        " (1, 1, 2),\n",
        " (1, 2, 3),\n",
        " (1, 2, 4),\n",
        " (2, 1, 5),\n",
        " (2, 1, 6)\n",
        "]"
      ],
      "metadata": {
        "id": "104aeTxWJC5S"
      }
    },
    {
      "cell_type": "code",
      "source": [
        "# import all necessary module\n",
        "from pyspark.sql import *\n",
        "from pyspark.sql.types import *\n",
        "from pyspark.sql.functions import *"
      ],
      "metadata": {
        "id": "XVjbqOj2NSZM"
      },
      "execution_count": 2,
      "outputs": []
    },
    {
      "cell_type": "code",
      "source": [
        "# create spark session\n",
        "spark = SparkSession.builder.master('local').appName('pyspark-day-15').getOrCreate()\n",
        "spark"
      ],
      "metadata": {
        "colab": {
          "base_uri": "https://localhost:8080/",
          "height": 221
        },
        "id": "KutS_z6cNTKy",
        "outputId": "ab1fe01b-aecc-42a6-d6c3-4c568d42028e"
      },
      "execution_count": 3,
      "outputs": [
        {
          "output_type": "execute_result",
          "data": {
            "text/plain": [
              "<pyspark.sql.session.SparkSession at 0x7ec8c81917e0>"
            ],
            "text/html": [
              "\n",
              "            <div>\n",
              "                <p><b>SparkSession - in-memory</b></p>\n",
              "                \n",
              "        <div>\n",
              "            <p><b>SparkContext</b></p>\n",
              "\n",
              "            <p><a href=\"http://6b5bd20dbe83:4040\">Spark UI</a></p>\n",
              "\n",
              "            <dl>\n",
              "              <dt>Version</dt>\n",
              "                <dd><code>v3.5.3</code></dd>\n",
              "              <dt>Master</dt>\n",
              "                <dd><code>local</code></dd>\n",
              "              <dt>AppName</dt>\n",
              "                <dd><code>pyspark-day-15</code></dd>\n",
              "            </dl>\n",
              "        </div>\n",
              "        \n",
              "            </div>\n",
              "        "
            ]
          },
          "metadata": {},
          "execution_count": 3
        }
      ]
    },
    {
      "cell_type": "code",
      "source": [
        " # Define the schema for the DataFrame\n",
        "schema = StructType([\n",
        " StructField(\"actor_id\", IntegerType(), True),\n",
        " StructField(\"director_id\", IntegerType(), True),\n",
        " StructField(\"timestamp\", IntegerType(), True)\n",
        "])\n",
        "\n",
        "# Create the data rows\n",
        "data = [\n",
        " (1, 1, 0),\n",
        " (1, 1, 1),\n",
        " (1, 1, 2),\n",
        " (1, 2, 3),\n",
        " (1, 2, 4),\n",
        " (2, 1, 5),\n",
        " (2, 1, 6)\n",
        "]"
      ],
      "metadata": {
        "id": "zMIzkY3PNYpV"
      },
      "execution_count": 4,
      "outputs": []
    },
    {
      "cell_type": "code",
      "source": [
        "# create df\n",
        "df = spark.createDataFrame(schema = schema, data = data)\n",
        "df.show()"
      ],
      "metadata": {
        "colab": {
          "base_uri": "https://localhost:8080/"
        },
        "id": "kg-TLhtKNemg",
        "outputId": "cb6fe2f8-f802-4087-f57e-35e1fae254ce"
      },
      "execution_count": 5,
      "outputs": [
        {
          "output_type": "stream",
          "name": "stdout",
          "text": [
            "+--------+-----------+---------+\n",
            "|actor_id|director_id|timestamp|\n",
            "+--------+-----------+---------+\n",
            "|       1|          1|        0|\n",
            "|       1|          1|        1|\n",
            "|       1|          1|        2|\n",
            "|       1|          2|        3|\n",
            "|       1|          2|        4|\n",
            "|       2|          1|        5|\n",
            "|       2|          1|        6|\n",
            "+--------+-----------+---------+\n",
            "\n"
          ]
        }
      ]
    },
    {
      "cell_type": "code",
      "source": [
        "df.printSchema()"
      ],
      "metadata": {
        "colab": {
          "base_uri": "https://localhost:8080/"
        },
        "id": "698kWsq9NoMQ",
        "outputId": "f62dbe4e-aaa5-4507-b95f-4d9b3fd3096d"
      },
      "execution_count": 6,
      "outputs": [
        {
          "output_type": "stream",
          "name": "stdout",
          "text": [
            "root\n",
            " |-- actor_id: integer (nullable = true)\n",
            " |-- director_id: integer (nullable = true)\n",
            " |-- timestamp: integer (nullable = true)\n",
            "\n"
          ]
        }
      ]
    },
    {
      "cell_type": "code",
      "source": [
        "result_df = df.groupBy('actor_id','director_id').agg(count('*').alias('cnt'))\n",
        "result_df.show()"
      ],
      "metadata": {
        "colab": {
          "base_uri": "https://localhost:8080/"
        },
        "id": "0DU9z_qDNrzU",
        "outputId": "43322804-7660-4221-8f99-c62d1a8904df"
      },
      "execution_count": 11,
      "outputs": [
        {
          "output_type": "stream",
          "name": "stdout",
          "text": [
            "+--------+-----------+---+\n",
            "|actor_id|director_id|cnt|\n",
            "+--------+-----------+---+\n",
            "|       1|          2|  2|\n",
            "|       1|          1|  3|\n",
            "|       2|          1|  2|\n",
            "+--------+-----------+---+\n",
            "\n"
          ]
        }
      ]
    },
    {
      "cell_type": "code",
      "source": [
        "result_df.filter(col('cnt')>=3).select('actor_id','director_id').show()"
      ],
      "metadata": {
        "colab": {
          "base_uri": "https://localhost:8080/"
        },
        "id": "FJQQFutHOaEf",
        "outputId": "611b0a46-1699-45a5-d0da-e816d2c29021"
      },
      "execution_count": 12,
      "outputs": [
        {
          "output_type": "stream",
          "name": "stdout",
          "text": [
            "+--------+-----------+\n",
            "|actor_id|director_id|\n",
            "+--------+-----------+\n",
            "|       1|          1|\n",
            "+--------+-----------+\n",
            "\n"
          ]
        }
      ]
    }
  ]
}