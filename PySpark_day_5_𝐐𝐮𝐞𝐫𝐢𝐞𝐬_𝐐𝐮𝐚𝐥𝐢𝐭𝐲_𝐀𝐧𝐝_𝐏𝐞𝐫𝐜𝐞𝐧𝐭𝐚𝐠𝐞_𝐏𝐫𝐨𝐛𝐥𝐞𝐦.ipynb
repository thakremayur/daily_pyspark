{
  "nbformat": 4,
  "nbformat_minor": 0,
  "metadata": {
    "colab": {
      "provenance": []
    },
    "kernelspec": {
      "name": "python3",
      "display_name": "Python 3"
    },
    "language_info": {
      "name": "python"
    }
  },
  "cells": [
    {
      "cell_type": "code",
      "execution_count": 1,
      "metadata": {
        "colab": {
          "base_uri": "https://localhost:8080/"
        },
        "id": "2XeM6LbQPfjd",
        "outputId": "9d2a97e8-b398-4d1f-f16f-5b783b7bda27"
      },
      "outputs": [
        {
          "output_type": "stream",
          "name": "stdout",
          "text": [
            "Collecting pyspark\n",
            "  Downloading pyspark-3.5.2.tar.gz (317.3 MB)\n",
            "\u001b[2K     \u001b[90m━━━━━━━━━━━━━━━━━━━━━━━━━━━━━━━━━━━━━━━━\u001b[0m \u001b[32m317.3/317.3 MB\u001b[0m \u001b[31m4.0 MB/s\u001b[0m eta \u001b[36m0:00:00\u001b[0m\n",
            "\u001b[?25h  Preparing metadata (setup.py) ... \u001b[?25l\u001b[?25hdone\n",
            "Requirement already satisfied: py4j==0.10.9.7 in /usr/local/lib/python3.10/dist-packages (from pyspark) (0.10.9.7)\n",
            "Building wheels for collected packages: pyspark\n",
            "  Building wheel for pyspark (setup.py) ... \u001b[?25l\u001b[?25hdone\n",
            "  Created wheel for pyspark: filename=pyspark-3.5.2-py2.py3-none-any.whl size=317812365 sha256=af797630af42c3baa9a0b6d52cb4f2de0b3048681ae794a2f1f023018fbf6eeb\n",
            "  Stored in directory: /root/.cache/pip/wheels/34/34/bd/03944534c44b677cd5859f248090daa9fb27b3c8f8e5f49574\n",
            "Successfully built pyspark\n",
            "Installing collected packages: pyspark\n",
            "Successfully installed pyspark-3.5.2\n"
          ]
        }
      ],
      "source": [
        "# ps52\n",
        "%pip install pyspark"
      ]
    },
    {
      "cell_type": "markdown",
      "source": [
        "🌟 𝐏𝐘𝐒𝐏𝐀𝐑𝐊 𝐏𝐫𝐚𝐜𝐭𝐢𝐜𝐞/𝐈𝐧𝐭𝐞𝐫𝐯𝐢𝐞𝐰 𝐏𝐫𝐨𝐛𝐥𝐞𝐦 📊\n",
        "========================================\n",
        "𝐐𝐮𝐞𝐫𝐢𝐞𝐬 𝐐𝐮𝐚𝐥𝐢𝐭𝐲 𝐀𝐧𝐝 𝐏𝐞𝐫𝐜𝐞𝐧𝐭𝐚𝐠𝐞 𝐏𝐫𝐨𝐛𝐥𝐞𝐦\n",
        "\n",
        "We define query quality as: The average of the ratio between query rating and its position.\n",
        "We also define poor query percentage as: The percentage of all queries with rating less than 3.\n",
        "Write an pyspark code to find each query_name, the quality and poor_query_percentage.\n",
        "\n",
        "\n",
        "𝐒𝐜𝐡𝐞𝐦𝐚 𝐀𝐧𝐝 𝐃𝐚𝐭𝐚:\n",
        "================\n",
        " # Define the schema for the DataFrame\n",
        "schema = StructType([\n",
        " StructField(\"query_name\", StringType(), True),\n",
        " StructField(\"result\", StringType(), True),\n",
        " StructField(\"position\", IntegerType(), True),\n",
        " StructField(\"rating\", IntegerType(), True)\n",
        "])\n",
        "# Create the data\n",
        "data = [\n",
        " (\"Dog\", \"Golden Retriever\", 1, 5),\n",
        " (\"Dog\", \"German Shepherd\", 2, 5),\n",
        " (\"Dog\", \"Mule\", 200, 1),\n",
        " (\"Cat\", \"Shirazi\", 5, 2),\n",
        " (\"Cat\", \"Siamese\", 3, 3),\n",
        " (\"Cat\", \"Sphynx\", 7, 4)\n",
        "]"
      ],
      "metadata": {
        "id": "-DqBTtXrTnwn"
      }
    },
    {
      "cell_type": "code",
      "source": [
        "# import all necessary module\n",
        "from pyspark.sql import *\n",
        "from pyspark.sql.types import *\n",
        "from pyspark.sql.functions import *"
      ],
      "metadata": {
        "id": "p2zttpD8TwSl"
      },
      "execution_count": 2,
      "outputs": []
    },
    {
      "cell_type": "code",
      "source": [
        "# create spark session\n",
        "spark = SparkSession.builder.master('local').appName('pyspark-day-5').getOrCreate()"
      ],
      "metadata": {
        "id": "4UvzZqmIULfR"
      },
      "execution_count": 3,
      "outputs": []
    },
    {
      "cell_type": "code",
      "source": [
        "spark"
      ],
      "metadata": {
        "colab": {
          "base_uri": "https://localhost:8080/",
          "height": 221
        },
        "id": "KY0y3J-lUlec",
        "outputId": "8473b31d-114f-4920-9f83-6e28254cffa6"
      },
      "execution_count": 4,
      "outputs": [
        {
          "output_type": "execute_result",
          "data": {
            "text/plain": [
              "<pyspark.sql.session.SparkSession at 0x7d1638665fc0>"
            ],
            "text/html": [
              "\n",
              "            <div>\n",
              "                <p><b>SparkSession - in-memory</b></p>\n",
              "                \n",
              "        <div>\n",
              "            <p><b>SparkContext</b></p>\n",
              "\n",
              "            <p><a href=\"http://12a2d431e0f7:4040\">Spark UI</a></p>\n",
              "\n",
              "            <dl>\n",
              "              <dt>Version</dt>\n",
              "                <dd><code>v3.5.2</code></dd>\n",
              "              <dt>Master</dt>\n",
              "                <dd><code>local</code></dd>\n",
              "              <dt>AppName</dt>\n",
              "                <dd><code>pyspark-day-5</code></dd>\n",
              "            </dl>\n",
              "        </div>\n",
              "        \n",
              "            </div>\n",
              "        "
            ]
          },
          "metadata": {},
          "execution_count": 4
        }
      ]
    },
    {
      "cell_type": "code",
      "source": [
        "# define schema and data for df\n",
        "schema = StructType([\n",
        " StructField(\"query_name\", StringType(), True),\n",
        " StructField(\"result\", StringType(), True),\n",
        " StructField(\"position\", IntegerType(), True),\n",
        " StructField(\"rating\", IntegerType(), True)\n",
        "])\n",
        "# Create the data\n",
        "data = [\n",
        " (\"Dog\", \"Golden Retriever\", 1, 5),\n",
        " (\"Dog\", \"German Shepherd\", 2, 5),\n",
        " (\"Dog\", \"Mule\", 200, 1),\n",
        " (\"Cat\", \"Shirazi\", 5, 2),\n",
        " (\"Cat\", \"Siamese\", 3, 3),\n",
        " (\"Cat\", \"Sphynx\", 7, 4)\n",
        "]"
      ],
      "metadata": {
        "id": "gwCsF2RuUoN5"
      },
      "execution_count": 5,
      "outputs": []
    },
    {
      "cell_type": "code",
      "source": [
        "# create df for above\n",
        "query = spark.createDataFrame(schema = schema, data = data)\n",
        "query.show()"
      ],
      "metadata": {
        "colab": {
          "base_uri": "https://localhost:8080/"
        },
        "id": "kriTUlk2U8OY",
        "outputId": "2bfa769b-d84e-498f-86e9-7eb2c658cc0d"
      },
      "execution_count": 7,
      "outputs": [
        {
          "output_type": "stream",
          "name": "stdout",
          "text": [
            "+----------+----------------+--------+------+\n",
            "|query_name|          result|position|rating|\n",
            "+----------+----------------+--------+------+\n",
            "|       Dog|Golden Retriever|       1|     5|\n",
            "|       Dog| German Shepherd|       2|     5|\n",
            "|       Dog|            Mule|     200|     1|\n",
            "|       Cat|         Shirazi|       5|     2|\n",
            "|       Cat|         Siamese|       3|     3|\n",
            "|       Cat|          Sphynx|       7|     4|\n",
            "+----------+----------------+--------+------+\n",
            "\n"
          ]
        }
      ]
    },
    {
      "cell_type": "code",
      "source": [
        "query.printSchema()"
      ],
      "metadata": {
        "colab": {
          "base_uri": "https://localhost:8080/"
        },
        "id": "4WdIo4U9ZGUB",
        "outputId": "de52aa4e-16c3-4ebd-f486-4f0c9d288e24"
      },
      "execution_count": 14,
      "outputs": [
        {
          "output_type": "stream",
          "name": "stdout",
          "text": [
            "root\n",
            " |-- query_name: string (nullable = true)\n",
            " |-- result: string (nullable = true)\n",
            " |-- position: integer (nullable = true)\n",
            " |-- rating: integer (nullable = true)\n",
            "\n"
          ]
        }
      ]
    },
    {
      "cell_type": "code",
      "source": [
        "# make quality col then take avg\n",
        "quality_df = query.withColumn('quality', col('rating')/col('position'))\n",
        "quality_df.show()"
      ],
      "metadata": {
        "colab": {
          "base_uri": "https://localhost:8080/"
        },
        "id": "03XbkTB8VNpX",
        "outputId": "1f345c0f-a609-405b-cb34-b8fc38bba22c"
      },
      "execution_count": 16,
      "outputs": [
        {
          "output_type": "stream",
          "name": "stdout",
          "text": [
            "+----------+----------------+--------+------+------------------+\n",
            "|query_name|          result|position|rating|           quality|\n",
            "+----------+----------------+--------+------+------------------+\n",
            "|       Dog|Golden Retriever|       1|     5|               5.0|\n",
            "|       Dog| German Shepherd|       2|     5|               2.5|\n",
            "|       Dog|            Mule|     200|     1|             0.005|\n",
            "|       Cat|         Shirazi|       5|     2|               0.4|\n",
            "|       Cat|         Siamese|       3|     3|               1.0|\n",
            "|       Cat|          Sphynx|       7|     4|0.5714285714285714|\n",
            "+----------+----------------+--------+------+------------------+\n",
            "\n"
          ]
        }
      ]
    },
    {
      "cell_type": "code",
      "source": [
        "# take avg\n",
        "avg_quality_df = quality_df.groupBy('query_name').agg(avg('quality').alias('quality'))\n",
        "avg_quality_df.show()"
      ],
      "metadata": {
        "colab": {
          "base_uri": "https://localhost:8080/"
        },
        "id": "Nmje4-l-Z2pm",
        "outputId": "7c9aaa8b-59b3-437a-85f6-38aa08d7db8f"
      },
      "execution_count": 17,
      "outputs": [
        {
          "output_type": "stream",
          "name": "stdout",
          "text": [
            "+----------+------------------+\n",
            "|query_name|           quality|\n",
            "+----------+------------------+\n",
            "|       Cat|0.6571428571428571|\n",
            "|       Dog|2.5016666666666665|\n",
            "+----------+------------------+\n",
            "\n"
          ]
        }
      ]
    },
    {
      "cell_type": "code",
      "source": [
        "# similarly make poor_query\n",
        "poor_df = query.withColumn('poor_query',when(col('rating') < 3, 1).otherwise(0))\n",
        "poor_df.show()"
      ],
      "metadata": {
        "colab": {
          "base_uri": "https://localhost:8080/"
        },
        "id": "7RXAwlB2a9jG",
        "outputId": "7d61432a-fc8c-414e-ee36-4dbd6032a1c9"
      },
      "execution_count": 18,
      "outputs": [
        {
          "output_type": "stream",
          "name": "stdout",
          "text": [
            "+----------+----------------+--------+------+----------+\n",
            "|query_name|          result|position|rating|poor_query|\n",
            "+----------+----------------+--------+------+----------+\n",
            "|       Dog|Golden Retriever|       1|     5|         0|\n",
            "|       Dog| German Shepherd|       2|     5|         0|\n",
            "|       Dog|            Mule|     200|     1|         1|\n",
            "|       Cat|         Shirazi|       5|     2|         1|\n",
            "|       Cat|         Siamese|       3|     3|         0|\n",
            "|       Cat|          Sphynx|       7|     4|         0|\n",
            "+----------+----------------+--------+------+----------+\n",
            "\n"
          ]
        }
      ]
    },
    {
      "cell_type": "code",
      "source": [
        "# cal percentage\n",
        "poor_query_percentage = poor_df.groupBy('query_name').agg((sum('poor_query')/count('*')*100).alias('poor_query_percentage'))\n",
        "poor_query_percentage.show()"
      ],
      "metadata": {
        "colab": {
          "base_uri": "https://localhost:8080/"
        },
        "id": "QXrcTV-FVK8W",
        "outputId": "2217cf9f-e0e8-4c92-d6e8-221814b05958"
      },
      "execution_count": 23,
      "outputs": [
        {
          "output_type": "stream",
          "name": "stdout",
          "text": [
            "+----------+---------------------+\n",
            "|query_name|poor_query_percentage|\n",
            "+----------+---------------------+\n",
            "|       Cat|    33.33333333333333|\n",
            "|       Dog|    33.33333333333333|\n",
            "+----------+---------------------+\n",
            "\n"
          ]
        }
      ]
    },
    {
      "cell_type": "code",
      "source": [
        "avg_quality_df.join(poor_query_percentage, on='query_name', how='inner').show()"
      ],
      "metadata": {
        "colab": {
          "base_uri": "https://localhost:8080/"
        },
        "id": "OeCg5TEXdBgw",
        "outputId": "fa455034-ec30-465e-d9c1-c5cce6476f12"
      },
      "execution_count": 24,
      "outputs": [
        {
          "output_type": "stream",
          "name": "stdout",
          "text": [
            "+----------+------------------+---------------------+\n",
            "|query_name|           quality|poor_query_percentage|\n",
            "+----------+------------------+---------------------+\n",
            "|       Cat|0.6571428571428571|    33.33333333333333|\n",
            "|       Dog|2.5016666666666665|    33.33333333333333|\n",
            "+----------+------------------+---------------------+\n",
            "\n"
          ]
        }
      ]
    }
  ]
}