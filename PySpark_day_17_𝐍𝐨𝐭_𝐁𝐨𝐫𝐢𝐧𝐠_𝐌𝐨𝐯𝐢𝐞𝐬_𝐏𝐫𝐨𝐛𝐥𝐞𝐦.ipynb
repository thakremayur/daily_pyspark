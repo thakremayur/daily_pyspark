{
  "nbformat": 4,
  "nbformat_minor": 0,
  "metadata": {
    "colab": {
      "provenance": []
    },
    "kernelspec": {
      "name": "python3",
      "display_name": "Python 3"
    },
    "language_info": {
      "name": "python"
    }
  },
  "cells": [
    {
      "cell_type": "code",
      "execution_count": 1,
      "metadata": {
        "colab": {
          "base_uri": "https://localhost:8080/"
        },
        "id": "B8rtrs_5clQ8",
        "outputId": "376e2464-a0dc-4248-de6c-e76c74dc77df"
      },
      "outputs": [
        {
          "output_type": "stream",
          "name": "stdout",
          "text": [
            "Collecting pyspark\n",
            "  Downloading pyspark-3.5.3.tar.gz (317.3 MB)\n",
            "\u001b[2K     \u001b[90m━━━━━━━━━━━━━━━━━━━━━━━━━━━━━━━━━━━━━━━━\u001b[0m \u001b[32m317.3/317.3 MB\u001b[0m \u001b[31m356.3 kB/s\u001b[0m eta \u001b[36m0:00:00\u001b[0m\n",
            "\u001b[?25h  Preparing metadata (setup.py) ... \u001b[?25l\u001b[?25hdone\n",
            "Requirement already satisfied: py4j==0.10.9.7 in /usr/local/lib/python3.10/dist-packages (from pyspark) (0.10.9.7)\n",
            "Building wheels for collected packages: pyspark\n",
            "  Building wheel for pyspark (setup.py) ... \u001b[?25l\u001b[?25hdone\n",
            "  Created wheel for pyspark: filename=pyspark-3.5.3-py2.py3-none-any.whl size=317840625 sha256=cefa8f589b33bfbbf40c61a6bd3d9b2a286517fabe1d4c495f7b4909eeb54e24\n",
            "  Stored in directory: /root/.cache/pip/wheels/1b/3a/92/28b93e2fbfdbb07509ca4d6f50c5e407f48dce4ddbda69a4ab\n",
            "Successfully built pyspark\n",
            "Installing collected packages: pyspark\n",
            "Successfully installed pyspark-3.5.3\n"
          ]
        }
      ],
      "source": [
        "# ps-39\n",
        "%pip install pyspark"
      ]
    },
    {
      "cell_type": "markdown",
      "source": [
        "  🌟 𝐏𝐘𝐒𝐏𝐀𝐑𝐊 𝐏𝐫𝐚𝐜𝐭𝐢𝐜𝐞/𝐈𝐧𝐭𝐞𝐫𝐯𝐢𝐞𝐰 𝐏𝐫𝐨𝐛𝐥𝐞𝐦 📊\n",
        "========================================\n",
        "𝐍𝐨𝐭 𝐁𝐨𝐫𝐢𝐧𝐠 𝐌𝐨𝐯𝐢𝐞𝐬 𝐏𝐫𝐨𝐛𝐥𝐞𝐦\n",
        "\n",
        "X city opened a new cinema, many people would like to go to this cinema.\n",
        "The cinema also gives out a poster indicating the movies’ ratings and descriptions.\n",
        "Please write a Pyspark Code to output movies with an odd numbered ID and\n",
        "a description that is not ‘boring’. Order the result by rating.\n",
        "\n",
        "𝐒𝐜𝐡𝐞𝐦𝐚 𝐀𝐧𝐝 𝐃𝐚𝐭𝐚:\n",
        "================\n",
        " # Define the schema for the DataFrame\n",
        "schema = StructType([\n",
        " StructField(\"id\", IntegerType(), True),\n",
        " StructField(\"movie\", StringType(), True),\n",
        " StructField(\"description\", StringType(), True),\n",
        " StructField(\"rating\", FloatType(), True)\n",
        "])\n",
        "\n",
        "# Your data\n",
        "data = [\n",
        " (1, \"War\", \"great 3D\", 8.9),\n",
        " (2, \"Science\", \"fiction\", 8.5),\n",
        " (3, \"Irish\", \"boring\", 6.2),\n",
        " (4, \"Ice song\", \"Fantasy\", 8.6),\n",
        " (5, \"House card\", \"Interesting\", 9.1)\n",
        "]"
      ],
      "metadata": {
        "id": "0W3tCnWvdKtf"
      }
    },
    {
      "cell_type": "code",
      "source": [
        "# import all necessary module\n",
        "from pyspark.sql import *\n",
        "from pyspark.sql.types import *\n",
        "from pyspark.sql.functions import *"
      ],
      "metadata": {
        "id": "KSBPtn86dAU6"
      },
      "execution_count": 2,
      "outputs": []
    },
    {
      "cell_type": "code",
      "source": [
        "# create spark session\n",
        "spark = SparkSession.builder.master('local').appName('pyspark-day-17').getOrCreate()\n",
        "spark"
      ],
      "metadata": {
        "id": "jYW1PGFDdBSW",
        "colab": {
          "base_uri": "https://localhost:8080/",
          "height": 221
        },
        "outputId": "9cdf51dc-c34b-4d48-9ced-11ab9e591fb8"
      },
      "execution_count": 3,
      "outputs": [
        {
          "output_type": "execute_result",
          "data": {
            "text/plain": [
              "<pyspark.sql.session.SparkSession at 0x78b8c0f99cf0>"
            ],
            "text/html": [
              "\n",
              "            <div>\n",
              "                <p><b>SparkSession - in-memory</b></p>\n",
              "                \n",
              "        <div>\n",
              "            <p><b>SparkContext</b></p>\n",
              "\n",
              "            <p><a href=\"http://36115aff91e4:4040\">Spark UI</a></p>\n",
              "\n",
              "            <dl>\n",
              "              <dt>Version</dt>\n",
              "                <dd><code>v3.5.3</code></dd>\n",
              "              <dt>Master</dt>\n",
              "                <dd><code>local</code></dd>\n",
              "              <dt>AppName</dt>\n",
              "                <dd><code>pyspark-day-16</code></dd>\n",
              "            </dl>\n",
              "        </div>\n",
              "        \n",
              "            </div>\n",
              "        "
            ]
          },
          "metadata": {},
          "execution_count": 3
        }
      ]
    },
    {
      "cell_type": "code",
      "source": [
        " # Define the schema for the DataFrame\n",
        "schema = StructType([\n",
        " StructField(\"id\", IntegerType(), True),\n",
        " StructField(\"movie\", StringType(), True),\n",
        " StructField(\"description\", StringType(), True),\n",
        " StructField(\"rating\", FloatType(), True)\n",
        "])\n",
        "\n",
        "# Your data\n",
        "data = [\n",
        " (1, \"War\", \"great 3D\", 8.9),\n",
        " (2, \"Science\", \"fiction\", 8.5),\n",
        " (3, \"Irish\", \"boring\", 6.2),\n",
        " (4, \"Ice song\", \"Fantasy\", 8.6),\n",
        " (5, \"House card\", \"Interesting\", 9.1)\n",
        "]"
      ],
      "metadata": {
        "id": "l8cS-Y9sdDtI"
      },
      "execution_count": 4,
      "outputs": []
    },
    {
      "cell_type": "code",
      "source": [
        "df = spark.createDataFrame(schema = schema, data = data)\n",
        "df.show()"
      ],
      "metadata": {
        "colab": {
          "base_uri": "https://localhost:8080/"
        },
        "id": "eL8_rk2hgtgm",
        "outputId": "eb534570-93bd-462e-d469-864b1babee19"
      },
      "execution_count": 5,
      "outputs": [
        {
          "output_type": "stream",
          "name": "stdout",
          "text": [
            "+---+----------+-----------+------+\n",
            "| id|     movie|description|rating|\n",
            "+---+----------+-----------+------+\n",
            "|  1|       War|   great 3D|   8.9|\n",
            "|  2|   Science|    fiction|   8.5|\n",
            "|  3|     Irish|     boring|   6.2|\n",
            "|  4|  Ice song|    Fantasy|   8.6|\n",
            "|  5|House card|Interesting|   9.1|\n",
            "+---+----------+-----------+------+\n",
            "\n"
          ]
        }
      ]
    },
    {
      "cell_type": "code",
      "source": [
        "result = df.filter((col('id')%2 == 1) & (col('description')!='boring'))\n",
        "result.show()"
      ],
      "metadata": {
        "colab": {
          "base_uri": "https://localhost:8080/"
        },
        "id": "SqpYzBavg3rE",
        "outputId": "f5fa8160-1470-43d8-9082-64a4a109a832"
      },
      "execution_count": 12,
      "outputs": [
        {
          "output_type": "stream",
          "name": "stdout",
          "text": [
            "+---+----------+-----------+------+\n",
            "| id|     movie|description|rating|\n",
            "+---+----------+-----------+------+\n",
            "|  1|       War|   great 3D|   8.9|\n",
            "|  5|House card|Interesting|   9.1|\n",
            "+---+----------+-----------+------+\n",
            "\n"
          ]
        }
      ]
    }
  ]
}