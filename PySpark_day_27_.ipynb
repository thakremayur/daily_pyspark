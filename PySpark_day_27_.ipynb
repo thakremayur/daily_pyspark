{
  "nbformat": 4,
  "nbformat_minor": 0,
  "metadata": {
    "colab": {
      "provenance": []
    },
    "kernelspec": {
      "name": "python3",
      "display_name": "Python 3"
    },
    "language_info": {
      "name": "python"
    }
  },
  "cells": [
    {
      "cell_type": "code",
      "execution_count": 1,
      "metadata": {
        "colab": {
          "base_uri": "https://localhost:8080/"
        },
        "id": "mLPb0kU9Y-3d",
        "outputId": "d5f47db0-6239-414d-e893-7572a1db7d87"
      },
      "outputs": [
        {
          "output_type": "stream",
          "name": "stdout",
          "text": [
            "Collecting pyspark\n",
            "  Downloading pyspark-3.5.3.tar.gz (317.3 MB)\n",
            "\u001b[2K     \u001b[90m━━━━━━━━━━━━━━━━━━━━━━━━━━━━━━━━━━━━━━━━\u001b[0m \u001b[32m317.3/317.3 MB\u001b[0m \u001b[31m4.3 MB/s\u001b[0m eta \u001b[36m0:00:00\u001b[0m\n",
            "\u001b[?25h  Preparing metadata (setup.py) ... \u001b[?25l\u001b[?25hdone\n",
            "Requirement already satisfied: py4j==0.10.9.7 in /usr/local/lib/python3.10/dist-packages (from pyspark) (0.10.9.7)\n",
            "Building wheels for collected packages: pyspark\n",
            "  Building wheel for pyspark (setup.py) ... \u001b[?25l\u001b[?25hdone\n",
            "  Created wheel for pyspark: filename=pyspark-3.5.3-py2.py3-none-any.whl size=317840625 sha256=a25015ef5d24c12b978ed4cc41c6478d218142c294b6330bd77fe63f9d754332\n",
            "  Stored in directory: /root/.cache/pip/wheels/1b/3a/92/28b93e2fbfdbb07509ca4d6f50c5e407f48dce4ddbda69a4ab\n",
            "Successfully built pyspark\n",
            "Installing collected packages: pyspark\n",
            "Successfully installed pyspark-3.5.3\n"
          ]
        }
      ],
      "source": [
        "# ps-28\n",
        "%pip install pyspark"
      ]
    },
    {
      "cell_type": "code",
      "source": [
        "# import all necessary module\n",
        "from pyspark.sql import *\n",
        "from pyspark.sql.types import *\n",
        "from pyspark.sql.functions import *"
      ],
      "metadata": {
        "id": "_I1aQ2t_ZA6B"
      },
      "execution_count": 2,
      "outputs": []
    },
    {
      "cell_type": "code",
      "source": [
        "# create spark session\n",
        "spark = SparkSession.builder.master('local').appName('pyspark-day-27').getOrCreate()\n",
        "spark"
      ],
      "metadata": {
        "colab": {
          "base_uri": "https://localhost:8080/",
          "height": 221
        },
        "id": "s_-CY5XDZC97",
        "outputId": "e059bdf5-658b-4a60-88d6-8ec8a2dee78f"
      },
      "execution_count": 3,
      "outputs": [
        {
          "output_type": "execute_result",
          "data": {
            "text/plain": [
              "<pyspark.sql.session.SparkSession at 0x7879a4299c30>"
            ],
            "text/html": [
              "\n",
              "            <div>\n",
              "                <p><b>SparkSession - in-memory</b></p>\n",
              "                \n",
              "        <div>\n",
              "            <p><b>SparkContext</b></p>\n",
              "\n",
              "            <p><a href=\"http://491dfe567499:4040\">Spark UI</a></p>\n",
              "\n",
              "            <dl>\n",
              "              <dt>Version</dt>\n",
              "                <dd><code>v3.5.3</code></dd>\n",
              "              <dt>Master</dt>\n",
              "                <dd><code>local</code></dd>\n",
              "              <dt>AppName</dt>\n",
              "                <dd><code>pyspark-day-27</code></dd>\n",
              "            </dl>\n",
              "        </div>\n",
              "        \n",
              "            </div>\n",
              "        "
            ]
          },
          "metadata": {},
          "execution_count": 3
        }
      ]
    },
    {
      "cell_type": "markdown",
      "source": [
        "1️⃣  Write down the query to fetch Project name assign to more than one Employee\n",
        "2️⃣  Get employee name, project name order by firstname from \"EmployeeDetail\" and\"ProjectDetail\" for those employee which have assigned project already.\n",
        "\n",
        "Schema And Data:\n",
        "================\n",
        "# Input Data:\n",
        "data = [\n",
        " [1, \"Vikas\", \"Ahlawat\", 600000.0, \"2013-02-15 11:16:28.290\", \"IT\", \"Male\"],\n",
        " [2, \"nikita\", \"Jain\", 530000.0, \"2014-01-09 17:31:07.793\", \"HR\", \"Female\"],\n",
        " [3, \"Ashish\", \"Kumar\", 1000000.0, \"2014-01-09 10:05:07.793\", \"IT\", \"Male\"],\n",
        " [4, \"Nikhil\", \"Sharma\", 480000.0, \"2014-01-09 09:00:07.793\", \"HR\", \"Male\"],\n",
        " [5, \"anish\", \"kadian\", 500000.0, \"2014-01-09 09:31:07.793\", \"Payroll\", \"Male\"],\n",
        "]\n",
        "\n",
        "# Create a schema for the DataFrame\n",
        "schema = StructType([\n",
        " StructField(\"EmployeeID\", IntegerType(), True),\n",
        " StructField(\"First_Name\", StringType(), True),\n",
        " StructField(\"Last_Name\", StringType(), True),\n",
        " StructField(\"Salary\", DoubleType(), True),\n",
        " StructField(\"Joining_Date\", StringType(), True),\n",
        " StructField(\"Department\", StringType(), True),\n",
        " StructField(\"Gender\", StringType(), True)\n",
        "])\n",
        "\n",
        "pro_schema = StructType([\n",
        "StructField(\"Project_DetailID\", IntegerType(), True),\n",
        "StructField(\"Employee_DetailID\", IntegerType(), True),\n",
        "StructField(\"Project_Name\", StringType(), True)\n",
        "])\n",
        "\n",
        "# Create the data as a list of tuples\n",
        "pro_data = [\n",
        "(1, 1, \"Task Track\"),\n",
        "(2, 1, \"CLP\"),\n",
        "(3, 1, \"Survey Management\"),\n",
        "(4, 2, \"HR Management\"),\n",
        "(5, 3, \"Task Track\"),\n",
        "(6, 3, \"GRS\"),\n",
        "(7, 3, \"DDS\"),\n",
        "(8, 4, \"HR Management\"),\n",
        "(9, 6, \"GL Management\")\n",
        "]"
      ],
      "metadata": {
        "id": "l-wtyH08ZMl8"
      }
    },
    {
      "cell_type": "code",
      "source": [
        "# Input Data:\n",
        "data = [\n",
        " [1, \"Vikas\", \"Ahlawat\", 600000.0, \"2013-02-15 11:16:28.290\", \"IT\", \"Male\"],\n",
        " [2, \"nikita\", \"Jain\", 530000.0, \"2014-01-09 17:31:07.793\", \"HR\", \"Female\"],\n",
        " [3, \"Ashish\", \"Kumar\", 1000000.0, \"2014-01-09 10:05:07.793\", \"IT\", \"Male\"],\n",
        " [4, \"Nikhil\", \"Sharma\", 480000.0, \"2014-01-09 09:00:07.793\", \"HR\", \"Male\"],\n",
        " [5, \"anish\", \"kadian\", 500000.0, \"2014-01-09 09:31:07.793\", \"Payroll\", \"Male\"],\n",
        "]\n",
        "\n",
        "# Create a schema for the DataFrame\n",
        "schema = StructType([\n",
        " StructField(\"EmployeeID\", IntegerType(), True),\n",
        " StructField(\"First_Name\", StringType(), True),\n",
        " StructField(\"Last_Name\", StringType(), True),\n",
        " StructField(\"Salary\", DoubleType(), True),\n",
        " StructField(\"Joining_Date\", StringType(), True),\n",
        " StructField(\"Department\", StringType(), True),\n",
        " StructField(\"Gender\", StringType(), True)\n",
        "])"
      ],
      "metadata": {
        "id": "yJCVgSY_ZJQI"
      },
      "execution_count": 4,
      "outputs": []
    },
    {
      "cell_type": "code",
      "source": [
        "emp_df = spark.createDataFrame(schema = schema, data = data)\n",
        "emp_df.show()"
      ],
      "metadata": {
        "colab": {
          "base_uri": "https://localhost:8080/"
        },
        "id": "nFRDG0VRZSt6",
        "outputId": "6b717323-4b82-442a-ce9a-e926be09ece3"
      },
      "execution_count": 5,
      "outputs": [
        {
          "output_type": "stream",
          "name": "stdout",
          "text": [
            "+----------+----------+---------+---------+--------------------+----------+------+\n",
            "|EmployeeID|First_Name|Last_Name|   Salary|        Joining_Date|Department|Gender|\n",
            "+----------+----------+---------+---------+--------------------+----------+------+\n",
            "|         1|     Vikas|  Ahlawat| 600000.0|2013-02-15 11:16:...|        IT|  Male|\n",
            "|         2|    nikita|     Jain| 530000.0|2014-01-09 17:31:...|        HR|Female|\n",
            "|         3|    Ashish|    Kumar|1000000.0|2014-01-09 10:05:...|        IT|  Male|\n",
            "|         4|    Nikhil|   Sharma| 480000.0|2014-01-09 09:00:...|        HR|  Male|\n",
            "|         5|     anish|   kadian| 500000.0|2014-01-09 09:31:...|   Payroll|  Male|\n",
            "+----------+----------+---------+---------+--------------------+----------+------+\n",
            "\n"
          ]
        }
      ]
    },
    {
      "cell_type": "code",
      "source": [
        "pro_schema = StructType([\n",
        "StructField(\"Project_DetailID\", IntegerType(), True),\n",
        "StructField(\"Employee_DetailID\", IntegerType(), True),\n",
        "StructField(\"Project_Name\", StringType(), True)\n",
        "])\n",
        "\n",
        "# Create the data as a list of tuples\n",
        "pro_data = [\n",
        "(1, 1, \"Task Track\"),\n",
        "(2, 1, \"CLP\"),\n",
        "(3, 1, \"Survey Management\"),\n",
        "(4, 2, \"HR Management\"),\n",
        "(5, 3, \"Task Track\"),\n",
        "(6, 3, \"GRS\"),\n",
        "(7, 3, \"DDS\"),\n",
        "(8, 4, \"HR Management\"),\n",
        "(9, 6, \"GL Management\")\n",
        "]"
      ],
      "metadata": {
        "id": "2jvPVGn1ZVkM"
      },
      "execution_count": 6,
      "outputs": []
    },
    {
      "cell_type": "code",
      "source": [
        "# create df for project\n",
        "pro_df = spark.createDataFrame(schema = pro_schema, data = pro_data)\n",
        "pro_df.show()"
      ],
      "metadata": {
        "colab": {
          "base_uri": "https://localhost:8080/"
        },
        "id": "Kz1RAsUCZYqy",
        "outputId": "a66d1bb3-0f31-4788-ff49-85e361fe2bda"
      },
      "execution_count": 7,
      "outputs": [
        {
          "output_type": "stream",
          "name": "stdout",
          "text": [
            "+----------------+-----------------+-----------------+\n",
            "|Project_DetailID|Employee_DetailID|     Project_Name|\n",
            "+----------------+-----------------+-----------------+\n",
            "|               1|                1|       Task Track|\n",
            "|               2|                1|              CLP|\n",
            "|               3|                1|Survey Management|\n",
            "|               4|                2|    HR Management|\n",
            "|               5|                3|       Task Track|\n",
            "|               6|                3|              GRS|\n",
            "|               7|                3|              DDS|\n",
            "|               8|                4|    HR Management|\n",
            "|               9|                6|    GL Management|\n",
            "+----------------+-----------------+-----------------+\n",
            "\n"
          ]
        }
      ]
    },
    {
      "cell_type": "code",
      "source": [
        "pro_df.groupBy('Project_Name').agg(count('*').alias('count_pro')).filter(col('count_pro') > 1).show()"
      ],
      "metadata": {
        "colab": {
          "base_uri": "https://localhost:8080/"
        },
        "id": "w2DFsPVeZbfH",
        "outputId": "df439d7e-fc48-4f75-cf1a-92b034cd8fb3"
      },
      "execution_count": 8,
      "outputs": [
        {
          "output_type": "stream",
          "name": "stdout",
          "text": [
            "+-------------+---------+\n",
            "| Project_Name|count_pro|\n",
            "+-------------+---------+\n",
            "|HR Management|        2|\n",
            "|   Task Track|        2|\n",
            "+-------------+---------+\n",
            "\n"
          ]
        }
      ]
    },
    {
      "cell_type": "code",
      "source": [
        "emp_df.join(pro_df, emp_df['EmployeeID'] == pro_df['Employee_DetailID'],'Inner')\\\n",
        "      .orderBy(lower(col('First_Name')))\\\n",
        "      .select('First_Name','Project_Name')\\\n",
        "      .show()"
      ],
      "metadata": {
        "colab": {
          "base_uri": "https://localhost:8080/"
        },
        "id": "UVtgXFdXaA_c",
        "outputId": "611c6632-e843-47e9-ebba-b087a3b553c4"
      },
      "execution_count": 10,
      "outputs": [
        {
          "output_type": "stream",
          "name": "stdout",
          "text": [
            "+----------+-----------------+\n",
            "|First_Name|     Project_Name|\n",
            "+----------+-----------------+\n",
            "|    Ashish|       Task Track|\n",
            "|    Ashish|              GRS|\n",
            "|    Ashish|              DDS|\n",
            "|    Nikhil|    HR Management|\n",
            "|    nikita|    HR Management|\n",
            "|     Vikas|       Task Track|\n",
            "|     Vikas|              CLP|\n",
            "|     Vikas|Survey Management|\n",
            "+----------+-----------------+\n",
            "\n"
          ]
        }
      ]
    }
  ]
}