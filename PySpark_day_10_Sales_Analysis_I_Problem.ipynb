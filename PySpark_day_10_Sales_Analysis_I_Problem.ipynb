{
  "nbformat": 4,
  "nbformat_minor": 0,
  "metadata": {
    "colab": {
      "provenance": []
    },
    "kernelspec": {
      "name": "python3",
      "display_name": "Python 3"
    },
    "language_info": {
      "name": "python"
    }
  },
  "cells": [
    {
      "cell_type": "code",
      "execution_count": 1,
      "metadata": {
        "colab": {
          "base_uri": "https://localhost:8080/"
        },
        "id": "vxuXBpcxwGIY",
        "outputId": "3e17e0ab-1e0a-4c6d-a6eb-a748e57cb7ed"
      },
      "outputs": [
        {
          "output_type": "stream",
          "name": "stdout",
          "text": [
            "Collecting pyspark\n",
            "  Downloading pyspark-3.5.2.tar.gz (317.3 MB)\n",
            "\u001b[2K     \u001b[90m━━━━━━━━━━━━━━━━━━━━━━━━━━━━━━━━━━━━━━━━\u001b[0m \u001b[32m317.3/317.3 MB\u001b[0m \u001b[31m3.8 MB/s\u001b[0m eta \u001b[36m0:00:00\u001b[0m\n",
            "\u001b[?25h  Preparing metadata (setup.py) ... \u001b[?25l\u001b[?25hdone\n",
            "Requirement already satisfied: py4j==0.10.9.7 in /usr/local/lib/python3.10/dist-packages (from pyspark) (0.10.9.7)\n",
            "Building wheels for collected packages: pyspark\n",
            "  Building wheel for pyspark (setup.py) ... \u001b[?25l\u001b[?25hdone\n",
            "  Created wheel for pyspark: filename=pyspark-3.5.2-py2.py3-none-any.whl size=317812365 sha256=50edc81612cc8215113c9f316b8b1a508f4e2a816cbd0d28d63f1c340c3da823\n",
            "  Stored in directory: /root/.cache/pip/wheels/34/34/bd/03944534c44b677cd5859f248090daa9fb27b3c8f8e5f49574\n",
            "Successfully built pyspark\n",
            "Installing collected packages: pyspark\n",
            "Successfully installed pyspark-3.5.2\n"
          ]
        }
      ],
      "source": [
        "# ps-46\n",
        "%pip install pyspark"
      ]
    },
    {
      "cell_type": "code",
      "source": [
        "# import necessary module\n",
        "from pyspark.sql import *\n",
        "from pyspark.sql.types import *\n",
        "from pyspark.sql.functions import *"
      ],
      "metadata": {
        "id": "_1T5fIZv3OoE"
      },
      "execution_count": 2,
      "outputs": []
    },
    {
      "cell_type": "code",
      "source": [
        "# create spark session\n",
        "spark = SparkSession.builder.master('local').appName('pyspark-day-10').getOrCreate()\n",
        "spark"
      ],
      "metadata": {
        "colab": {
          "base_uri": "https://localhost:8080/",
          "height": 221
        },
        "id": "kuICKwf43aSY",
        "outputId": "68d5ef55-3762-4926-b12d-ea97fb0a66e7"
      },
      "execution_count": 10,
      "outputs": [
        {
          "output_type": "execute_result",
          "data": {
            "text/plain": [
              "<pyspark.sql.session.SparkSession at 0x7da0cda994b0>"
            ],
            "text/html": [
              "\n",
              "            <div>\n",
              "                <p><b>SparkSession - in-memory</b></p>\n",
              "                \n",
              "        <div>\n",
              "            <p><b>SparkContext</b></p>\n",
              "\n",
              "            <p><a href=\"http://9b9ca2349241:4040\">Spark UI</a></p>\n",
              "\n",
              "            <dl>\n",
              "              <dt>Version</dt>\n",
              "                <dd><code>v3.5.2</code></dd>\n",
              "              <dt>Master</dt>\n",
              "                <dd><code>local</code></dd>\n",
              "              <dt>AppName</dt>\n",
              "                <dd><code>pyspark-day-9</code></dd>\n",
              "            </dl>\n",
              "        </div>\n",
              "        \n",
              "            </div>\n",
              "        "
            ]
          },
          "metadata": {},
          "execution_count": 10
        }
      ]
    },
    {
      "cell_type": "code",
      "source": [
        " # Define the schema for Product table\n",
        "product_schema = StructType([\n",
        " StructField(\"product_id\", IntegerType(), True),\n",
        " StructField(\"product_name\", StringType(), True),\n",
        " StructField(\"unit_price\", IntegerType(), True)\n",
        "])\n",
        "# Data for Product table\n",
        "product_data = [(1, \"S8\", 1000),\n",
        " (2, \"G4\", 800),\n",
        " (3, \"iPhone\", 1400)]"
      ],
      "metadata": {
        "id": "NI7awfY83c15"
      },
      "execution_count": 11,
      "outputs": []
    },
    {
      "cell_type": "code",
      "source": [
        "# Define the schema for Sales table\n",
        "sales_schema = StructType([\n",
        " StructField(\"seller_id\", IntegerType(), True),\n",
        " StructField(\"product_id\", IntegerType(), True),\n",
        " StructField(\"buyer_id\", IntegerType(), True),\n",
        " StructField(\"sale_date\", StringType(), True),\n",
        " StructField(\"quantity\", IntegerType(), True),\n",
        " StructField(\"price\", IntegerType(), True)\n",
        "])\n",
        "# Data for Sales table\n",
        "sales_data = [(1, 1, 1, \"2019-01-21\", 2, 2000),\n",
        " (1, 2, 2, \"2019-02-17\", 1, 800),\n",
        " (2, 2, 3, \"2019-06-02\", 1, 800),\n",
        " (3, 3, 4, \"2019-05-13\", 2, 2800)]"
      ],
      "metadata": {
        "id": "8ufMTriG3fsw"
      },
      "execution_count": 5,
      "outputs": []
    },
    {
      "cell_type": "code",
      "source": [
        "# create df for product\n",
        "product_df = spark.createDataFrame(schema = product_schema, data = product_data)\n",
        "product_df.show()"
      ],
      "metadata": {
        "colab": {
          "base_uri": "https://localhost:8080/"
        },
        "id": "GJp55HNR3ncD",
        "outputId": "08f9045d-bfd8-4742-b72b-15a8357855e2"
      },
      "execution_count": 12,
      "outputs": [
        {
          "output_type": "stream",
          "name": "stdout",
          "text": [
            "+----------+------------+----------+\n",
            "|product_id|product_name|unit_price|\n",
            "+----------+------------+----------+\n",
            "|         1|          S8|      1000|\n",
            "|         2|          G4|       800|\n",
            "|         3|      iPhone|      1400|\n",
            "+----------+------------+----------+\n",
            "\n"
          ]
        }
      ]
    },
    {
      "cell_type": "code",
      "source": [
        "# create df for sales\n",
        "sales_df = spark.createDataFrame(schema = sales_schema, data = sales_data)\n",
        "sales_df.show()"
      ],
      "metadata": {
        "colab": {
          "base_uri": "https://localhost:8080/"
        },
        "id": "hmb51X2X3p4B",
        "outputId": "c1177824-7d39-4980-85a4-ae28909d3204"
      },
      "execution_count": 13,
      "outputs": [
        {
          "output_type": "stream",
          "name": "stdout",
          "text": [
            "+---------+----------+--------+----------+--------+-----+\n",
            "|seller_id|product_id|buyer_id| sale_date|quantity|price|\n",
            "+---------+----------+--------+----------+--------+-----+\n",
            "|        1|         1|       1|2019-01-21|       2| 2000|\n",
            "|        1|         2|       2|2019-02-17|       1|  800|\n",
            "|        2|         2|       3|2019-06-02|       1|  800|\n",
            "|        3|         3|       4|2019-05-13|       2| 2800|\n",
            "+---------+----------+--------+----------+--------+-----+\n",
            "\n"
          ]
        }
      ]
    },
    {
      "cell_type": "code",
      "source": [
        "product_df.printSchema()"
      ],
      "metadata": {
        "colab": {
          "base_uri": "https://localhost:8080/"
        },
        "id": "ELWMUzvE3sn2",
        "outputId": "e774c3e8-c561-4fa0-9226-a45d8de24600"
      },
      "execution_count": 14,
      "outputs": [
        {
          "output_type": "stream",
          "name": "stdout",
          "text": [
            "root\n",
            " |-- product_id: integer (nullable = true)\n",
            " |-- product_name: string (nullable = true)\n",
            " |-- unit_price: integer (nullable = true)\n",
            "\n"
          ]
        }
      ]
    },
    {
      "cell_type": "code",
      "source": [
        "sales_df.printSchema()"
      ],
      "metadata": {
        "colab": {
          "base_uri": "https://localhost:8080/"
        },
        "id": "7osQcFkl3vdM",
        "outputId": "84744704-daae-4d6a-bbde-44c166e47b13"
      },
      "execution_count": 15,
      "outputs": [
        {
          "output_type": "stream",
          "name": "stdout",
          "text": [
            "root\n",
            " |-- seller_id: integer (nullable = true)\n",
            " |-- product_id: integer (nullable = true)\n",
            " |-- buyer_id: integer (nullable = true)\n",
            " |-- sale_date: string (nullable = true)\n",
            " |-- quantity: integer (nullable = true)\n",
            " |-- price: integer (nullable = true)\n",
            "\n"
          ]
        }
      ]
    },
    {
      "cell_type": "code",
      "source": [
        "# take best seller_id by calculating sum of price and then arrange them in desc order\n",
        "result_df = sales_df.groupBy('seller_id').agg(sum('price').alias('total_price')).orderBy(col('total_price').desc())\n",
        "result_df.show()"
      ],
      "metadata": {
        "colab": {
          "base_uri": "https://localhost:8080/"
        },
        "id": "Dz4if9Xd3yAz",
        "outputId": "bedaec5c-140a-4c6e-c1f6-34cd743771e9"
      },
      "execution_count": 19,
      "outputs": [
        {
          "output_type": "stream",
          "name": "stdout",
          "text": [
            "+---------+-----------+\n",
            "|seller_id|total_price|\n",
            "+---------+-----------+\n",
            "|        1|       2800|\n",
            "|        3|       2800|\n",
            "|        2|        800|\n",
            "+---------+-----------+\n",
            "\n"
          ]
        }
      ]
    },
    {
      "cell_type": "code",
      "source": [
        "# take only first row\n",
        "result_df = result_df.select('total_price').limit(1)\n",
        "result_df.show()"
      ],
      "metadata": {
        "colab": {
          "base_uri": "https://localhost:8080/"
        },
        "id": "4tnCunvN4lgm",
        "outputId": "7a16171d-ed12-4d7e-9812-1b169ce1a6fc"
      },
      "execution_count": 27,
      "outputs": [
        {
          "output_type": "stream",
          "name": "stdout",
          "text": [
            "+-----------+\n",
            "|total_price|\n",
            "+-----------+\n",
            "|       2800|\n",
            "+-----------+\n",
            "\n"
          ]
        }
      ]
    },
    {
      "cell_type": "code",
      "source": [
        "# take numeric value of which is 2800\n",
        "total_sales = result_df.first()['total_price']"
      ],
      "metadata": {
        "id": "Hv4L_0Mw6576"
      },
      "execution_count": 30,
      "outputs": []
    },
    {
      "cell_type": "code",
      "source": [
        "# we will compare numeric value which other sellerid total price\n",
        "sales_df.groupBy('seller_id').agg(sum('price').alias('total_price')).filter(col('total_price') == total_sales).show()"
      ],
      "metadata": {
        "colab": {
          "base_uri": "https://localhost:8080/"
        },
        "id": "ipt--Vji45HI",
        "outputId": "e7a94b1e-65c1-4239-f82c-3bdc416ce1c8"
      },
      "execution_count": 31,
      "outputs": [
        {
          "output_type": "stream",
          "name": "stdout",
          "text": [
            "+---------+-----------+\n",
            "|seller_id|total_price|\n",
            "+---------+-----------+\n",
            "|        1|       2800|\n",
            "|        3|       2800|\n",
            "+---------+-----------+\n",
            "\n"
          ]
        }
      ]
    },
    {
      "cell_type": "code",
      "source": [
        "# alternate method for above is to use window function"
      ],
      "metadata": {
        "id": "BwwUbfi98UuB"
      },
      "execution_count": null,
      "outputs": []
    }
  ]
}