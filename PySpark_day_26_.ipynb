{
  "nbformat": 4,
  "nbformat_minor": 0,
  "metadata": {
    "colab": {
      "provenance": []
    },
    "kernelspec": {
      "name": "python3",
      "display_name": "Python 3"
    },
    "language_info": {
      "name": "python"
    }
  },
  "cells": [
    {
      "cell_type": "code",
      "execution_count": 3,
      "metadata": {
        "colab": {
          "base_uri": "https://localhost:8080/"
        },
        "id": "sEFZX4QA0lmg",
        "outputId": "2b07740f-4bf0-48fd-aa13-fbd0fa8e8f86"
      },
      "outputs": [
        {
          "metadata": {
            "tags": null
          },
          "name": "stdout",
          "output_type": "stream",
          "text": [
            "Requirement already satisfied: pyspark in /usr/local/lib/python3.10/dist-packages (3.5.3)\n",
            "Requirement already satisfied: py4j==0.10.9.7 in /usr/local/lib/python3.10/dist-packages (from pyspark) (0.10.9.7)\n"
          ]
        }
      ],
      "source": [
        "# ps-29\n",
        "%pip install pyspark"
      ]
    },
    {
      "cell_type": "code",
      "source": [
        "# import all necessary module\n",
        "from pyspark.sql import *\n",
        "from pyspark.sql.types import *\n",
        "from pyspark.sql.functions import *"
      ],
      "metadata": {
        "id": "3OKovZY109vF"
      },
      "execution_count": 4,
      "outputs": []
    },
    {
      "cell_type": "code",
      "source": [
        "# create spark session\n",
        "spark = SparkSession.builder.master('local').appName('pyspark-day-26').getOrCreate()\n",
        "spark"
      ],
      "metadata": {
        "colab": {
          "base_uri": "https://localhost:8080/",
          "height": 221
        },
        "id": "QEu8N6Zw0-Ug",
        "outputId": "a3ae093e-e2f9-468b-f1ef-29380123aa30"
      },
      "execution_count": 5,
      "outputs": [
        {
          "output_type": "execute_result",
          "data": {
            "text/plain": [
              "<pyspark.sql.session.SparkSession at 0x7b36ddf21540>"
            ],
            "text/html": [
              "\n",
              "            <div>\n",
              "                <p><b>SparkSession - in-memory</b></p>\n",
              "                \n",
              "        <div>\n",
              "            <p><b>SparkContext</b></p>\n",
              "\n",
              "            <p><a href=\"http://f93ef2765d61:4040\">Spark UI</a></p>\n",
              "\n",
              "            <dl>\n",
              "              <dt>Version</dt>\n",
              "                <dd><code>v3.5.3</code></dd>\n",
              "              <dt>Master</dt>\n",
              "                <dd><code>local</code></dd>\n",
              "              <dt>AppName</dt>\n",
              "                <dd><code>pyspark-day-26</code></dd>\n",
              "            </dl>\n",
              "        </div>\n",
              "        \n",
              "            </div>\n",
              "        "
            ]
          },
          "metadata": {},
          "execution_count": 5
        }
      ]
    },
    {
      "cell_type": "markdown",
      "source": [
        "1️⃣  Get employee name, project name order by firstname from \"EmployeeDetail\" and \"ProjectDetail\" for all employee even they have not assigned project.\n",
        "2️⃣  Get employee name, project name order by firstname from \"EmployeeDetail\" and \"ProjectDetail\" for all employee if project is not assigned then display \"-No Project Assigned\".\n",
        "\n",
        "Schema And Data:\n",
        "================\n",
        "# Input Data:\n",
        "data = [\n",
        " [1, \"Vikas\", \"Ahlawat\", 600000.0, \"2013-02-15 11:16:28.290\", \"IT\", \"Male\"],\n",
        " [2, \"nikita\", \"Jain\", 530000.0, \"2014-01-09 17:31:07.793\", \"HR\", \"Female\"],\n",
        " [3, \"Ashish\", \"Kumar\", 1000000.0, \"2014-01-09 10:05:07.793\", \"IT\", \"Male\"],\n",
        " [4, \"Nikhil\", \"Sharma\", 480000.0, \"2014-01-09 09:00:07.793\", \"HR\", \"Male\"],\n",
        " [5, \"anish\", \"kadian\", 500000.0, \"2014-01-09 09:31:07.793\", \"Payroll\", \"Male\"],\n",
        "]\n",
        "\n",
        "# Create a schema for the DataFrame\n",
        "schema = StructType([\n",
        " StructField(\"EmployeeID\", IntegerType(), True),\n",
        " StructField(\"First_Name\", StringType(), True),\n",
        " StructField(\"Last_Name\", StringType(), True),\n",
        " StructField(\"Salary\", DoubleType(), True),\n",
        " StructField(\"Joining_Date\", StringType(), True),\n",
        " StructField(\"Department\", StringType(), True),\n",
        " StructField(\"Gender\", StringType(), True)\n",
        "])\n",
        "\n",
        "pro_schema = StructType([\n",
        "StructField(\"Project_DetailID\", IntegerType(), True),\n",
        "StructField(\"Employee_DetailID\", IntegerType(), True),\n",
        "StructField(\"Project_Name\", StringType(), True)\n",
        "])\n",
        "\n",
        "# Create the data as a list of tuples\n",
        "pro_data = [\n",
        "(1, 1, \"Task Track\"),\n",
        "(2, 1, \"CLP\"),\n",
        "(3, 1, \"Survey Management\"),\n",
        "(4, 2, \"HR Management\"),\n",
        "(5, 3, \"Task Track\"),\n",
        "(6, 3, \"GRS\"),\n",
        "(7, 3, \"DDS\"),\n",
        "(8, 4, \"HR Management\"),\n",
        "(9, 6, \"GL Management\")\n",
        "]"
      ],
      "metadata": {
        "id": "9tQQPfsBS7iH"
      }
    },
    {
      "cell_type": "code",
      "source": [
        "# Input Data:\n",
        "data = [\n",
        " [1, \"Vikas\", \"Ahlawat\", 600000.0, \"2013-02-15 11:16:28.290\", \"IT\", \"Male\"],\n",
        " [2, \"nikita\", \"Jain\", 530000.0, \"2014-01-09 17:31:07.793\", \"HR\", \"Female\"],\n",
        " [3, \"Ashish\", \"Kumar\", 1000000.0, \"2014-01-09 10:05:07.793\", \"IT\", \"Male\"],\n",
        " [4, \"Nikhil\", \"Sharma\", 480000.0, \"2014-01-09 09:00:07.793\", \"HR\", \"Male\"],\n",
        " [5, \"anish\", \"kadian\", 500000.0, \"2014-01-09 09:31:07.793\", \"Payroll\", \"Male\"],\n",
        "]\n",
        "\n",
        "# Create a schema for the DataFrame\n",
        "schema = StructType([\n",
        " StructField(\"EmployeeID\", IntegerType(), True),\n",
        " StructField(\"First_Name\", StringType(), True),\n",
        " StructField(\"Last_Name\", StringType(), True),\n",
        " StructField(\"Salary\", DoubleType(), True),\n",
        " StructField(\"Joining_Date\", StringType(), True),\n",
        " StructField(\"Department\", StringType(), True),\n",
        " StructField(\"Gender\", StringType(), True)\n",
        "])"
      ],
      "metadata": {
        "id": "H7-MZotX1CFc"
      },
      "execution_count": 6,
      "outputs": []
    },
    {
      "cell_type": "code",
      "source": [
        "emp_df = spark.createDataFrame(schema = schema, data = data)\n",
        "emp_df.show()"
      ],
      "metadata": {
        "colab": {
          "base_uri": "https://localhost:8080/"
        },
        "id": "75AEQ0-fTN-7",
        "outputId": "12ddfb41-5a15-49cd-9123-b636c7086940"
      },
      "execution_count": 7,
      "outputs": [
        {
          "output_type": "stream",
          "name": "stdout",
          "text": [
            "+----------+----------+---------+---------+--------------------+----------+------+\n",
            "|EmployeeID|First_Name|Last_Name|   Salary|        Joining_Date|Department|Gender|\n",
            "+----------+----------+---------+---------+--------------------+----------+------+\n",
            "|         1|     Vikas|  Ahlawat| 600000.0|2013-02-15 11:16:...|        IT|  Male|\n",
            "|         2|    nikita|     Jain| 530000.0|2014-01-09 17:31:...|        HR|Female|\n",
            "|         3|    Ashish|    Kumar|1000000.0|2014-01-09 10:05:...|        IT|  Male|\n",
            "|         4|    Nikhil|   Sharma| 480000.0|2014-01-09 09:00:...|        HR|  Male|\n",
            "|         5|     anish|   kadian| 500000.0|2014-01-09 09:31:...|   Payroll|  Male|\n",
            "+----------+----------+---------+---------+--------------------+----------+------+\n",
            "\n"
          ]
        }
      ]
    },
    {
      "cell_type": "code",
      "source": [
        "pro_schema = StructType([\n",
        "StructField(\"Project_DetailID\", IntegerType(), True),\n",
        "StructField(\"Employee_DetailID\", IntegerType(), True),\n",
        "StructField(\"Project_Name\", StringType(), True)\n",
        "])\n",
        "\n",
        "# Create the data as a list of tuples\n",
        "pro_data = [\n",
        "(1, 1, \"Task Track\"),\n",
        "(2, 1, \"CLP\"),\n",
        "(3, 1, \"Survey Management\"),\n",
        "(4, 2, \"HR Management\"),\n",
        "(5, 3, \"Task Track\"),\n",
        "(6, 3, \"GRS\"),\n",
        "(7, 3, \"DDS\"),\n",
        "(8, 4, \"HR Management\"),\n",
        "(9, 6, \"GL Management\")\n",
        "]"
      ],
      "metadata": {
        "id": "ab67iZHyTOcg"
      },
      "execution_count": 8,
      "outputs": []
    },
    {
      "cell_type": "code",
      "source": [
        "# create df for project\n",
        "pro_df = spark.createDataFrame(schema = pro_schema, data = pro_data)\n",
        "pro_df.show()"
      ],
      "metadata": {
        "colab": {
          "base_uri": "https://localhost:8080/"
        },
        "id": "ECWgGxIrTRaH",
        "outputId": "6c68fbe8-e092-4f30-e0fb-1ad7701ea1eb"
      },
      "execution_count": 9,
      "outputs": [
        {
          "output_type": "stream",
          "name": "stdout",
          "text": [
            "+----------------+-----------------+-----------------+\n",
            "|Project_DetailID|Employee_DetailID|     Project_Name|\n",
            "+----------------+-----------------+-----------------+\n",
            "|               1|                1|       Task Track|\n",
            "|               2|                1|              CLP|\n",
            "|               3|                1|Survey Management|\n",
            "|               4|                2|    HR Management|\n",
            "|               5|                3|       Task Track|\n",
            "|               6|                3|              GRS|\n",
            "|               7|                3|              DDS|\n",
            "|               8|                4|    HR Management|\n",
            "|               9|                6|    GL Management|\n",
            "+----------------+-----------------+-----------------+\n",
            "\n"
          ]
        }
      ]
    },
    {
      "cell_type": "code",
      "source": [
        "emp_df.join(pro_df, emp_df['EmployeeID'] == pro_df['Employee_DetailID'],'left')\\\n",
        "      .select('First_Name','Project_Name')\\\n",
        "      .orderBy(lower(col('First_Name')))\\\n",
        "      .show()"
      ],
      "metadata": {
        "colab": {
          "base_uri": "https://localhost:8080/"
        },
        "id": "CbL2aWxsTT8h",
        "outputId": "79ecbf5c-665a-47f1-a6ee-0dd1c278eb13"
      },
      "execution_count": 10,
      "outputs": [
        {
          "output_type": "stream",
          "name": "stdout",
          "text": [
            "+----------+-----------------+\n",
            "|First_Name|     Project_Name|\n",
            "+----------+-----------------+\n",
            "|     anish|             NULL|\n",
            "|    Ashish|              DDS|\n",
            "|    Ashish|              GRS|\n",
            "|    Ashish|       Task Track|\n",
            "|    Nikhil|    HR Management|\n",
            "|    nikita|    HR Management|\n",
            "|     Vikas|Survey Management|\n",
            "|     Vikas|              CLP|\n",
            "|     Vikas|       Task Track|\n",
            "+----------+-----------------+\n",
            "\n"
          ]
        }
      ]
    },
    {
      "cell_type": "code",
      "source": [
        "left_df = emp_df.join(pro_df, emp_df['EmployeeID'] == pro_df['Employee_DetailID'],'left')\\\n",
        "      .select('EmployeeID','First_Name','Last_Name','Project_Name')\\\n",
        "      .orderBy(lower(col('First_Name')))\n",
        "\n",
        "left_df.withColumn('Project_Name',coalesce(col('Project_Name'), lit('- No Project'))).show()"
      ],
      "metadata": {
        "colab": {
          "base_uri": "https://localhost:8080/"
        },
        "id": "j6ZBDNl4T-QL",
        "outputId": "824d3b4d-d188-423d-ab81-a6aab45bc3b4"
      },
      "execution_count": 11,
      "outputs": [
        {
          "output_type": "stream",
          "name": "stdout",
          "text": [
            "+----------+----------+---------+-----------------+\n",
            "|EmployeeID|First_Name|Last_Name|     Project_Name|\n",
            "+----------+----------+---------+-----------------+\n",
            "|         5|     anish|   kadian|     - No Project|\n",
            "|         3|    Ashish|    Kumar|              DDS|\n",
            "|         3|    Ashish|    Kumar|              GRS|\n",
            "|         3|    Ashish|    Kumar|       Task Track|\n",
            "|         4|    Nikhil|   Sharma|    HR Management|\n",
            "|         2|    nikita|     Jain|    HR Management|\n",
            "|         1|     Vikas|  Ahlawat|Survey Management|\n",
            "|         1|     Vikas|  Ahlawat|              CLP|\n",
            "|         1|     Vikas|  Ahlawat|       Task Track|\n",
            "+----------+----------+---------+-----------------+\n",
            "\n"
          ]
        }
      ]
    }
  ]
}