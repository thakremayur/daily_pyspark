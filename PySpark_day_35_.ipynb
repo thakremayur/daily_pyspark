{
  "nbformat": 4,
  "nbformat_minor": 0,
  "metadata": {
    "colab": {
      "provenance": []
    },
    "kernelspec": {
      "name": "python3",
      "display_name": "Python 3"
    },
    "language_info": {
      "name": "python"
    }
  },
  "cells": [
    {
      "cell_type": "code",
      "execution_count": 1,
      "metadata": {
        "colab": {
          "base_uri": "https://localhost:8080/"
        },
        "id": "x-foeAR_QJg6",
        "outputId": "16ee5f8b-5081-48ee-bbad-83f62bd4d34a"
      },
      "outputs": [
        {
          "output_type": "stream",
          "name": "stdout",
          "text": [
            "Collecting pyspark\n",
            "  Downloading pyspark-3.5.3.tar.gz (317.3 MB)\n",
            "\u001b[2K     \u001b[90m━━━━━━━━━━━━━━━━━━━━━━━━━━━━━━━━━━━━━━━━\u001b[0m \u001b[32m317.3/317.3 MB\u001b[0m \u001b[31m4.5 MB/s\u001b[0m eta \u001b[36m0:00:00\u001b[0m\n",
            "\u001b[?25h  Preparing metadata (setup.py) ... \u001b[?25l\u001b[?25hdone\n",
            "Requirement already satisfied: py4j==0.10.9.7 in /usr/local/lib/python3.10/dist-packages (from pyspark) (0.10.9.7)\n",
            "Building wheels for collected packages: pyspark\n",
            "  Building wheel for pyspark (setup.py) ... \u001b[?25l\u001b[?25hdone\n",
            "  Created wheel for pyspark: filename=pyspark-3.5.3-py2.py3-none-any.whl size=317840625 sha256=118eedbd15f7c4c336d03a6f6ce64d8331e2f99c4968d632cb47f09992ff8245\n",
            "  Stored in directory: /root/.cache/pip/wheels/1b/3a/92/28b93e2fbfdbb07509ca4d6f50c5e407f48dce4ddbda69a4ab\n",
            "Successfully built pyspark\n",
            "Installing collected packages: pyspark\n",
            "Successfully installed pyspark-3.5.3\n"
          ]
        }
      ],
      "source": [
        "# ps-20\n",
        "%pip install pyspark"
      ]
    },
    {
      "cell_type": "code",
      "source": [
        "# import all necessary module\n",
        "from pyspark.sql import *\n",
        "from pyspark.sql.types import *\n",
        "from pyspark.sql.functions import *"
      ],
      "metadata": {
        "id": "XsonYafdQRLB"
      },
      "execution_count": 2,
      "outputs": []
    },
    {
      "cell_type": "code",
      "source": [
        "# create spark session\n",
        "spark = SparkSession.builder.master('local').appName('pyspark-day-34').getOrCreate()\n",
        "spark"
      ],
      "metadata": {
        "colab": {
          "base_uri": "https://localhost:8080/",
          "height": 219
        },
        "id": "JaJkQwSVQR3k",
        "outputId": "c97c57ff-bf8a-40e8-e7cc-f3e055b4080d"
      },
      "execution_count": 3,
      "outputs": [
        {
          "output_type": "execute_result",
          "data": {
            "text/plain": [
              "<pyspark.sql.session.SparkSession at 0x7d043daa46d0>"
            ],
            "text/html": [
              "\n",
              "            <div>\n",
              "                <p><b>SparkSession - in-memory</b></p>\n",
              "                \n",
              "        <div>\n",
              "            <p><b>SparkContext</b></p>\n",
              "\n",
              "            <p><a href=\"http://46b798af9816:4040\">Spark UI</a></p>\n",
              "\n",
              "            <dl>\n",
              "              <dt>Version</dt>\n",
              "                <dd><code>v3.5.3</code></dd>\n",
              "              <dt>Master</dt>\n",
              "                <dd><code>local</code></dd>\n",
              "              <dt>AppName</dt>\n",
              "                <dd><code>pyspark-day-34</code></dd>\n",
              "            </dl>\n",
              "        </div>\n",
              "        \n",
              "            </div>\n",
              "        "
            ]
          },
          "metadata": {},
          "execution_count": 3
        }
      ]
    },
    {
      "cell_type": "markdown",
      "source": [
        "𝐘𝐨𝐮𝐫 𝐦𝐢𝐬𝐬𝐢𝐨𝐧, 𝐬𝐡𝐨𝐮𝐥𝐝 𝐲𝐨𝐮 𝐜𝐡𝐨𝐨𝐬𝐞 𝐭𝐨 𝐚𝐜𝐜𝐞𝐩𝐭 𝐢𝐭, 𝐢𝐬 𝐭𝐨 𝐬𝐡𝐨𝐰𝐜𝐚𝐬𝐞 𝐲𝐨𝐮𝐫 𝐏𝐘𝐒𝐏𝐀𝐑𝐊 𝐩𝐫𝐨𝐰𝐞𝐬𝐬 𝐰𝐢𝐭𝐡 𝐭𝐡𝐞 𝐟𝐨𝐥𝐥𝐨𝐰𝐢𝐧𝐠 𝐭𝐚𝐬𝐤𝐬:\n",
        "\n",
        "1️⃣ Get the lowest \"Salary\" from EmployeeDetail table.\n",
        "2️⃣ Show \"JoiningDate\" in \"dd mmm yyyy\" format, ex- \"15 Feb 2013\"\n",
        "3️⃣ Show \"JoiningDate\" in \"yyyy/mm/dd\" format, ex- \"2013/02/15\"\n",
        "\n",
        " ================================\n",
        "𝐒𝐜𝐡𝐞𝐦𝐚 𝐀𝐧𝐝 𝐃𝐚𝐭𝐚:\n",
        "================================\n",
        "\n",
        "data = [\n",
        " [1, \"Vikas\", \"Ahlawat\", 600000.0, \"2013-02-15 11:16:28.290\", \"IT\", \"Male\"],\n",
        " [2, \"nikita\", \"Jain\", 530000.0, \"2014-01-09 17:31:07.793\", \"HR\", \"Female\"],\n",
        " [3, \"Ashish\", \"Kumar\", 1000000.0, \"2014-01-09 10:05:07.793\", \"IT\", \"Male\"],\n",
        " [4, \"Nikhil\", \"Sharma\", 480000.0, \"2014-01-09 09:00:07.793\", \"HR\", \"Male\"],\n",
        " [5, \"anish\", \"kadian\", 500000.0, \"2014-01-09 09:31:07.793\", \"Payroll\", \"Male\"],\n",
        "]\n",
        "\n",
        "schema = StructType([\n",
        " StructField(\"EmployeeID\", IntegerType(), True),\n",
        " StructField(\"First_Name\", StringType(), True),\n",
        " StructField(\"Last_Name\", StringType(), True),\n",
        " StructField(\"Salary\", DoubleType(), True),\n",
        " StructField(\"Joining_Date\", StringType(), True),\n",
        " StructField(\"Department\", StringType(), True),\n",
        " StructField(\"Gender\", StringType(), True)\n",
        "])"
      ],
      "metadata": {
        "id": "8U5v4UgFQUpH"
      }
    },
    {
      "cell_type": "code",
      "source": [
        "data = [\n",
        " [1, \"Vikas\", \"Ahlawat\", 600000.0, \"2013-02-15 11:16:28.290\", \"IT\", \"Male\"],\n",
        " [2, \"nikita\", \"Jain\", 530000.0, \"2014-01-09 17:31:07.793\", \"HR\", \"Female\"],\n",
        " [3, \"Ashish\", \"Kumar\", 1000000.0, \"2014-01-09 10:05:07.793\", \"IT\", \"Male\"],\n",
        " [4, \"Nikhil\", \"Sharma\", 480000.0, \"2014-01-09 09:00:07.793\", \"HR\", \"Male\"],\n",
        " [5, \"anish\", \"kadian\", 500000.0, \"2014-01-09 09:31:07.793\", \"Payroll\", \"Male\"],\n",
        "]\n",
        "\n",
        "schema = StructType([\n",
        " StructField(\"EmployeeID\", IntegerType(), True),\n",
        " StructField(\"First_Name\", StringType(), True),\n",
        " StructField(\"Last_Name\", StringType(), True),\n",
        " StructField(\"Salary\", DoubleType(), True),\n",
        " StructField(\"Joining_Date\", StringType(), True),\n",
        " StructField(\"Department\", StringType(), True),\n",
        " StructField(\"Gender\", StringType(), True)\n",
        "])"
      ],
      "metadata": {
        "id": "SHG8XGppQUAA"
      },
      "execution_count": 4,
      "outputs": []
    },
    {
      "cell_type": "code",
      "source": [
        "df = spark.createDataFrame(data = data, schema = schema)\n",
        "df.show()"
      ],
      "metadata": {
        "colab": {
          "base_uri": "https://localhost:8080/"
        },
        "id": "w-r_nb3LQuXU",
        "outputId": "06408d34-2bcf-4b23-8e34-29f194b5d434"
      },
      "execution_count": 5,
      "outputs": [
        {
          "output_type": "stream",
          "name": "stdout",
          "text": [
            "+----------+----------+---------+---------+--------------------+----------+------+\n",
            "|EmployeeID|First_Name|Last_Name|   Salary|        Joining_Date|Department|Gender|\n",
            "+----------+----------+---------+---------+--------------------+----------+------+\n",
            "|         1|     Vikas|  Ahlawat| 600000.0|2013-02-15 11:16:...|        IT|  Male|\n",
            "|         2|    nikita|     Jain| 530000.0|2014-01-09 17:31:...|        HR|Female|\n",
            "|         3|    Ashish|    Kumar|1000000.0|2014-01-09 10:05:...|        IT|  Male|\n",
            "|         4|    Nikhil|   Sharma| 480000.0|2014-01-09 09:00:...|        HR|  Male|\n",
            "|         5|     anish|   kadian| 500000.0|2014-01-09 09:31:...|   Payroll|  Male|\n",
            "+----------+----------+---------+---------+--------------------+----------+------+\n",
            "\n"
          ]
        }
      ]
    },
    {
      "cell_type": "code",
      "source": [
        "df.agg(min('Salary')).show()"
      ],
      "metadata": {
        "colab": {
          "base_uri": "https://localhost:8080/"
        },
        "id": "goUk4WYCQwUL",
        "outputId": "dcacd51e-5416-472b-9bf6-340c1980a809"
      },
      "execution_count": 6,
      "outputs": [
        {
          "output_type": "stream",
          "name": "stdout",
          "text": [
            "+-----------+\n",
            "|min(Salary)|\n",
            "+-----------+\n",
            "|   480000.0|\n",
            "+-----------+\n",
            "\n"
          ]
        }
      ]
    },
    {
      "cell_type": "code",
      "source": [
        "formatted_df = df.withColumn('JoiningDate',date_format(to_timestamp(col('Joining_Date')),'dd MM yyyy'))\n",
        "formatted_df.show()"
      ],
      "metadata": {
        "colab": {
          "base_uri": "https://localhost:8080/"
        },
        "id": "n-WLcGTORt3d",
        "outputId": "84c764e8-89fe-4a3c-c746-6297f3bd0bf7"
      },
      "execution_count": 7,
      "outputs": [
        {
          "output_type": "stream",
          "name": "stdout",
          "text": [
            "+----------+----------+---------+---------+--------------------+----------+------+-----------+\n",
            "|EmployeeID|First_Name|Last_Name|   Salary|        Joining_Date|Department|Gender|JoiningDate|\n",
            "+----------+----------+---------+---------+--------------------+----------+------+-----------+\n",
            "|         1|     Vikas|  Ahlawat| 600000.0|2013-02-15 11:16:...|        IT|  Male| 15 02 2013|\n",
            "|         2|    nikita|     Jain| 530000.0|2014-01-09 17:31:...|        HR|Female| 09 01 2014|\n",
            "|         3|    Ashish|    Kumar|1000000.0|2014-01-09 10:05:...|        IT|  Male| 09 01 2014|\n",
            "|         4|    Nikhil|   Sharma| 480000.0|2014-01-09 09:00:...|        HR|  Male| 09 01 2014|\n",
            "|         5|     anish|   kadian| 500000.0|2014-01-09 09:31:...|   Payroll|  Male| 09 01 2014|\n",
            "+----------+----------+---------+---------+--------------------+----------+------+-----------+\n",
            "\n"
          ]
        }
      ]
    },
    {
      "cell_type": "code",
      "source": [
        "formatted_df = df.withColumn('JoiningDate',date_format(to_timestamp(col('Joining_Date')),'yyyy/MM/dd'))\n",
        "formatted_df.show()"
      ],
      "metadata": {
        "colab": {
          "base_uri": "https://localhost:8080/"
        },
        "id": "D-4dpEwxSFnN",
        "outputId": "9d6eed98-70d6-4d31-a37d-9e515e565448"
      },
      "execution_count": 10,
      "outputs": [
        {
          "output_type": "stream",
          "name": "stdout",
          "text": [
            "+----------+----------+---------+---------+--------------------+----------+------+-----------+\n",
            "|EmployeeID|First_Name|Last_Name|   Salary|        Joining_Date|Department|Gender|JoiningDate|\n",
            "+----------+----------+---------+---------+--------------------+----------+------+-----------+\n",
            "|         1|     Vikas|  Ahlawat| 600000.0|2013-02-15 11:16:...|        IT|  Male| 2013/02/15|\n",
            "|         2|    nikita|     Jain| 530000.0|2014-01-09 17:31:...|        HR|Female| 2014/01/09|\n",
            "|         3|    Ashish|    Kumar|1000000.0|2014-01-09 10:05:...|        IT|  Male| 2014/01/09|\n",
            "|         4|    Nikhil|   Sharma| 480000.0|2014-01-09 09:00:...|        HR|  Male| 2014/01/09|\n",
            "|         5|     anish|   kadian| 500000.0|2014-01-09 09:31:...|   Payroll|  Male| 2014/01/09|\n",
            "+----------+----------+---------+---------+--------------------+----------+------+-----------+\n",
            "\n"
          ]
        }
      ]
    }
  ]
}