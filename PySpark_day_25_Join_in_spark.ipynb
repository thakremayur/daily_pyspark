{
  "nbformat": 4,
  "nbformat_minor": 0,
  "metadata": {
    "colab": {
      "provenance": []
    },
    "kernelspec": {
      "name": "python3",
      "display_name": "Python 3"
    },
    "language_info": {
      "name": "python"
    }
  },
  "cells": [
    {
      "cell_type": "code",
      "execution_count": 1,
      "metadata": {
        "colab": {
          "base_uri": "https://localhost:8080/"
        },
        "id": "TlFV7nSxPur0",
        "outputId": "833d7a68-3b5d-4151-86b3-e1c81f00c8b2"
      },
      "outputs": [
        {
          "output_type": "stream",
          "name": "stdout",
          "text": [
            "Collecting pyspark\n",
            "  Downloading pyspark-3.5.3.tar.gz (317.3 MB)\n",
            "\u001b[2K     \u001b[90m━━━━━━━━━━━━━━━━━━━━━━━━━━━━━━━━━━━━━━━━\u001b[0m \u001b[32m317.3/317.3 MB\u001b[0m \u001b[31m3.6 MB/s\u001b[0m eta \u001b[36m0:00:00\u001b[0m\n",
            "\u001b[?25h  Preparing metadata (setup.py) ... \u001b[?25l\u001b[?25hdone\n",
            "Requirement already satisfied: py4j==0.10.9.7 in /usr/local/lib/python3.10/dist-packages (from pyspark) (0.10.9.7)\n",
            "Building wheels for collected packages: pyspark\n",
            "  Building wheel for pyspark (setup.py) ... \u001b[?25l\u001b[?25hdone\n",
            "  Created wheel for pyspark: filename=pyspark-3.5.3-py2.py3-none-any.whl size=317840625 sha256=25be045629422c7f209ba5012d27db965fd5ec479a0b2ed66afe79aa554568cc\n",
            "  Stored in directory: /root/.cache/pip/wheels/1b/3a/92/28b93e2fbfdbb07509ca4d6f50c5e407f48dce4ddbda69a4ab\n",
            "Successfully built pyspark\n",
            "Installing collected packages: pyspark\n",
            "Successfully installed pyspark-3.5.3\n"
          ]
        }
      ],
      "source": [
        "# ps-32\n",
        "%pip install pyspark"
      ]
    },
    {
      "cell_type": "code",
      "source": [
        "# import all necessary module\n",
        "from pyspark.sql import *\n",
        "from pyspark.sql.types import *\n",
        "from pyspark.sql.functions import *"
      ],
      "metadata": {
        "id": "5OEpJwVfPyWF"
      },
      "execution_count": 2,
      "outputs": []
    },
    {
      "cell_type": "code",
      "source": [
        "# create spark session\n",
        "spark = SparkSession.builder.master('local').appName('pyspark-day-25').getOrCreate()\n",
        "spark"
      ],
      "metadata": {
        "colab": {
          "base_uri": "https://localhost:8080/",
          "height": 221
        },
        "id": "y2S6O62pP0vJ",
        "outputId": "5bb2a56e-0d13-448d-dcb3-92848bd8341d"
      },
      "execution_count": 3,
      "outputs": [
        {
          "output_type": "execute_result",
          "data": {
            "text/plain": [
              "<pyspark.sql.session.SparkSession at 0x7c582a799ab0>"
            ],
            "text/html": [
              "\n",
              "            <div>\n",
              "                <p><b>SparkSession - in-memory</b></p>\n",
              "                \n",
              "        <div>\n",
              "            <p><b>SparkContext</b></p>\n",
              "\n",
              "            <p><a href=\"http://5f63c77c88a9:4040\">Spark UI</a></p>\n",
              "\n",
              "            <dl>\n",
              "              <dt>Version</dt>\n",
              "                <dd><code>v3.5.3</code></dd>\n",
              "              <dt>Master</dt>\n",
              "                <dd><code>local</code></dd>\n",
              "              <dt>AppName</dt>\n",
              "                <dd><code>pyspark-day-25</code></dd>\n",
              "            </dl>\n",
              "        </div>\n",
              "        \n",
              "            </div>\n",
              "        "
            ]
          },
          "metadata": {},
          "execution_count": 3
        }
      ]
    },
    {
      "cell_type": "markdown",
      "source": [
        "🌟 𝐏𝐘𝐒𝐏𝐀𝐑𝐊 𝐏𝐫𝐚𝐜𝐭𝐢𝐜𝐞/𝐈𝐧𝐭𝐞𝐫𝐯𝐢𝐞𝐰 𝐏𝐫𝐨𝐛𝐥𝐞𝐦 📊\n",
        "========================================\n",
        "\n",
        "1️⃣ Write a pyspark code to find out the employeename who has not assigned any project, and display \"-No Project Assigned\"( tables :- [EmployeeDetail],[ProjectDetail]).\n",
        "2️⃣  Write a pyspark code to find out the project name which is not assigned to any employee( tables :- [EmployeeDetail],[ProjectDetail]).\n",
        "\n",
        "𝐒𝐜𝐡𝐞𝐦𝐚 𝐀𝐧𝐝 𝐃𝐚𝐭𝐚:\n",
        "================\n",
        "# Input Data:\n",
        "data = [\n",
        " [1, \"Vikas\", \"Ahlawat\", 600000.0, \"2013-02-15 11:16:28.290\", \"IT\", \"Male\"],\n",
        " [2, \"nikita\", \"Jain\", 530000.0, \"2014-01-09 17:31:07.793\", \"HR\", \"Female\"],\n",
        " [3, \"Ashish\", \"Kumar\", 1000000.0, \"2014-01-09 10:05:07.793\", \"IT\", \"Male\"],\n",
        " [4, \"Nikhil\", \"Sharma\", 480000.0, \"2014-01-09 09:00:07.793\", \"HR\", \"Male\"],\n",
        " [5, \"anish\", \"kadian\", 500000.0, \"2014-01-09 09:31:07.793\", \"Payroll\", \"Male\"],\n",
        "]\n",
        "\n",
        "# Create a schema for the DataFrame\n",
        "schema = StructType([\n",
        " StructField(\"EmployeeID\", IntegerType(), True),\n",
        " StructField(\"First_Name\", StringType(), True),\n",
        " StructField(\"Last_Name\", StringType(), True),\n",
        " StructField(\"Salary\", DoubleType(), True),\n",
        " StructField(\"Joining_Date\", StringType(), True),\n",
        " StructField(\"Department\", StringType(), True),\n",
        " StructField(\"Gender\", StringType(), True)\n",
        "])\n",
        "\n",
        "pro_schema = StructType([\n",
        "StructField(\"Project_DetailID\", IntegerType(), True),\n",
        "StructField(\"Employee_DetailID\", IntegerType(), True),\n",
        "StructField(\"Project_Name\", StringType(), True)\n",
        "])\n",
        "\n",
        "# Create the data as a list of tuples\n",
        "pro_data = [\n",
        "(1, 1, \"Task Track\"),\n",
        "(2, 1, \"CLP\"),\n",
        "(3, 1, \"Survey Management\"),\n",
        "(4, 2, \"HR Management\"),\n",
        "(5, 3, \"Task Track\"),\n",
        "(6, 3, \"GRS\"),\n",
        "(7, 3, \"DDS\"),\n",
        "(8, 4, \"HR Management\"),\n",
        "(9, 6, \"GL Management\")\n",
        "]"
      ],
      "metadata": {
        "id": "WSSS7PfDQrLO"
      }
    },
    {
      "cell_type": "code",
      "source": [
        "# Input Data:\n",
        "data = [\n",
        " [1, \"Vikas\", \"Ahlawat\", 600000.0, \"2013-02-15 11:16:28.290\", \"IT\", \"Male\"],\n",
        " [2, \"nikita\", \"Jain\", 530000.0, \"2014-01-09 17:31:07.793\", \"HR\", \"Female\"],\n",
        " [3, \"Ashish\", \"Kumar\", 1000000.0, \"2014-01-09 10:05:07.793\", \"IT\", \"Male\"],\n",
        " [4, \"Nikhil\", \"Sharma\", 480000.0, \"2014-01-09 09:00:07.793\", \"HR\", \"Male\"],\n",
        " [5, \"anish\", \"kadian\", 500000.0, \"2014-01-09 09:31:07.793\", \"Payroll\", \"Male\"],\n",
        "]\n",
        "\n",
        "# Create a schema for the DataFrame\n",
        "schema = StructType([\n",
        " StructField(\"EmployeeID\", IntegerType(), True),\n",
        " StructField(\"First_Name\", StringType(), True),\n",
        " StructField(\"Last_Name\", StringType(), True),\n",
        " StructField(\"Salary\", DoubleType(), True),\n",
        " StructField(\"Joining_Date\", StringType(), True),\n",
        " StructField(\"Department\", StringType(), True),\n",
        " StructField(\"Gender\", StringType(), True)\n",
        "])"
      ],
      "metadata": {
        "id": "kXrjehzRP6H4"
      },
      "execution_count": 4,
      "outputs": []
    },
    {
      "cell_type": "code",
      "source": [
        "emp_df = spark.createDataFrame(schema = schema, data = data)\n",
        "emp_df.show()"
      ],
      "metadata": {
        "colab": {
          "base_uri": "https://localhost:8080/"
        },
        "id": "ASzEBjecQwhc",
        "outputId": "435563a6-7fb3-4de7-a910-39dd6801853b"
      },
      "execution_count": 5,
      "outputs": [
        {
          "output_type": "stream",
          "name": "stdout",
          "text": [
            "+----------+----------+---------+---------+--------------------+----------+------+\n",
            "|EmployeeID|First_Name|Last_Name|   Salary|        Joining_Date|Department|Gender|\n",
            "+----------+----------+---------+---------+--------------------+----------+------+\n",
            "|         1|     Vikas|  Ahlawat| 600000.0|2013-02-15 11:16:...|        IT|  Male|\n",
            "|         2|    nikita|     Jain| 530000.0|2014-01-09 17:31:...|        HR|Female|\n",
            "|         3|    Ashish|    Kumar|1000000.0|2014-01-09 10:05:...|        IT|  Male|\n",
            "|         4|    Nikhil|   Sharma| 480000.0|2014-01-09 09:00:...|        HR|  Male|\n",
            "|         5|     anish|   kadian| 500000.0|2014-01-09 09:31:...|   Payroll|  Male|\n",
            "+----------+----------+---------+---------+--------------------+----------+------+\n",
            "\n"
          ]
        }
      ]
    },
    {
      "cell_type": "code",
      "source": [
        "pro_schema = StructType([\n",
        "StructField(\"Project_DetailID\", IntegerType(), True),\n",
        "StructField(\"Employee_DetailID\", IntegerType(), True),\n",
        "StructField(\"Project_Name\", StringType(), True)\n",
        "])\n",
        "\n",
        "# Create the data as a list of tuples\n",
        "pro_data = [\n",
        "(1, 1, \"Task Track\"),\n",
        "(2, 1, \"CLP\"),\n",
        "(3, 1, \"Survey Management\"),\n",
        "(4, 2, \"HR Management\"),\n",
        "(5, 3, \"Task Track\"),\n",
        "(6, 3, \"GRS\"),\n",
        "(7, 3, \"DDS\"),\n",
        "(8, 4, \"HR Management\"),\n",
        "(9, 6, \"GL Management\")\n",
        "]"
      ],
      "metadata": {
        "id": "95SCGQhLQ5lg"
      },
      "execution_count": 6,
      "outputs": []
    },
    {
      "cell_type": "code",
      "source": [
        "# create df for project\n",
        "pro_df = spark.createDataFrame(schema = pro_schema, data = pro_data)\n",
        "pro_df.show()"
      ],
      "metadata": {
        "colab": {
          "base_uri": "https://localhost:8080/"
        },
        "id": "PYtNXhqtRDL7",
        "outputId": "8dc2f154-c780-4edd-e985-473278eebfde"
      },
      "execution_count": 7,
      "outputs": [
        {
          "output_type": "stream",
          "name": "stdout",
          "text": [
            "+----------------+-----------------+-----------------+\n",
            "|Project_DetailID|Employee_DetailID|     Project_Name|\n",
            "+----------------+-----------------+-----------------+\n",
            "|               1|                1|       Task Track|\n",
            "|               2|                1|              CLP|\n",
            "|               3|                1|Survey Management|\n",
            "|               4|                2|    HR Management|\n",
            "|               5|                3|       Task Track|\n",
            "|               6|                3|              GRS|\n",
            "|               7|                3|              DDS|\n",
            "|               8|                4|    HR Management|\n",
            "|               9|                6|    GL Management|\n",
            "+----------------+-----------------+-----------------+\n",
            "\n"
          ]
        }
      ]
    },
    {
      "cell_type": "code",
      "source": [
        "# join both df, filter based on null project\n",
        "emp_df.join(pro_df,emp_df['EmployeeID']==pro_df['Employee_DetailID'],how='left')\\\n",
        "      .filter(col('Project_Name').isNull())\\\n",
        "      .select('First_Name',coalesce( col('Project_Name'), lit('-No Project Assigned') ).alias('Project_Name')).show()"
      ],
      "metadata": {
        "colab": {
          "base_uri": "https://localhost:8080/"
        },
        "id": "tyftWiTWRMLz",
        "outputId": "01ae9b88-eaea-4c1b-e43e-40296b8d12b4"
      },
      "execution_count": 10,
      "outputs": [
        {
          "output_type": "stream",
          "name": "stdout",
          "text": [
            "+----------+--------------------+\n",
            "|First_Name|        Project_Name|\n",
            "+----------+--------------------+\n",
            "|     anish|-No Project Assigned|\n",
            "+----------+--------------------+\n",
            "\n"
          ]
        }
      ]
    },
    {
      "cell_type": "code",
      "source": [
        "result_df = emp_df.join(pro_df,emp_df['EmployeeID']==pro_df['Employee_DetailID'],how='right')\\\n",
        "      .select('EmployeeID','Project_Name')\n",
        "result_df.filter(col('EmployeeID').isNull()).select('Project_Name').show()"
      ],
      "metadata": {
        "colab": {
          "base_uri": "https://localhost:8080/"
        },
        "id": "neq_IsqzRz3V",
        "outputId": "4655ce51-2177-4b9d-eb34-7b26c8995404"
      },
      "execution_count": 13,
      "outputs": [
        {
          "output_type": "stream",
          "name": "stdout",
          "text": [
            "+-------------+\n",
            "| Project_Name|\n",
            "+-------------+\n",
            "|GL Management|\n",
            "+-------------+\n",
            "\n"
          ]
        }
      ]
    }
  ]
}