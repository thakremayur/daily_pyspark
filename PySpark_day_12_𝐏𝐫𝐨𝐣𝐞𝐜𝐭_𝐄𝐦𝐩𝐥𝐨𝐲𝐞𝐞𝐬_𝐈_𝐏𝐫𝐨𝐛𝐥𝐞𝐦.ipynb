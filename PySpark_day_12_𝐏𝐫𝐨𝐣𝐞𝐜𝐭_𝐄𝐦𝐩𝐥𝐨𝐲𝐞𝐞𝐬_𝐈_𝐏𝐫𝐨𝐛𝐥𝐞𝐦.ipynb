{
  "nbformat": 4,
  "nbformat_minor": 0,
  "metadata": {
    "colab": {
      "provenance": []
    },
    "kernelspec": {
      "name": "python3",
      "display_name": "Python 3"
    },
    "language_info": {
      "name": "python"
    }
  },
  "cells": [
    {
      "cell_type": "code",
      "execution_count": 1,
      "metadata": {
        "colab": {
          "base_uri": "https://localhost:8080/"
        },
        "id": "LBYOaVRv958s",
        "outputId": "2ef677e0-d705-45b0-b66b-f6a890fbd47f"
      },
      "outputs": [
        {
          "output_type": "stream",
          "name": "stdout",
          "text": [
            "Collecting pyspark\n",
            "  Downloading pyspark-3.5.2.tar.gz (317.3 MB)\n",
            "\u001b[2K     \u001b[90m━━━━━━━━━━━━━━━━━━━━━━━━━━━━━━━━━━━━━━━━\u001b[0m \u001b[32m317.3/317.3 MB\u001b[0m \u001b[31m4.8 MB/s\u001b[0m eta \u001b[36m0:00:00\u001b[0m\n",
            "\u001b[?25h  Preparing metadata (setup.py) ... \u001b[?25l\u001b[?25hdone\n",
            "Requirement already satisfied: py4j==0.10.9.7 in /usr/local/lib/python3.10/dist-packages (from pyspark) (0.10.9.7)\n",
            "Building wheels for collected packages: pyspark\n",
            "  Building wheel for pyspark (setup.py) ... \u001b[?25l\u001b[?25hdone\n",
            "  Created wheel for pyspark: filename=pyspark-3.5.2-py2.py3-none-any.whl size=317812365 sha256=a05118d4ec75834f60012cb139af09d9781a44336be4f2b0e939bb144c78c45d\n",
            "  Stored in directory: /root/.cache/pip/wheels/34/34/bd/03944534c44b677cd5859f248090daa9fb27b3c8f8e5f49574\n",
            "Successfully built pyspark\n",
            "Installing collected packages: pyspark\n",
            "Successfully installed pyspark-3.5.2\n"
          ]
        }
      ],
      "source": [
        "# ps-44\n",
        "%pip install pyspark"
      ]
    },
    {
      "cell_type": "markdown",
      "source": [
        "🌟 𝐏𝐘𝐒𝐏𝐀𝐑𝐊 𝐏𝐫𝐚𝐜𝐭𝐢𝐜𝐞/𝐈𝐧𝐭𝐞𝐫𝐯𝐢𝐞𝐰 𝐏𝐫𝐨𝐛𝐥𝐞𝐦 📊\n",
        "========================================\n",
        "\n",
        "𝐏𝐫𝐨𝐣𝐞𝐜𝐭 𝐄𝐦𝐩𝐥𝐨𝐲𝐞𝐞𝐬 𝐈 𝐏𝐫𝐨𝐛𝐥𝐞𝐦\n",
        "\n",
        "Write an Pyspark code that reports the average experience years of all the employees for each project, rounded to 2 digits.\n",
        "\n",
        "𝑺𝒄𝒉𝒆𝒎𝒂 𝑨𝒏𝒅 𝑫𝒂𝒕𝒂:\n",
        "================\n",
        " # Define the schema for the Project table\n",
        "project_schema = StructType([\n",
        " StructField(\"project_id\", IntegerType(), True),\n",
        " StructField(\"employee_id\", IntegerType(), True)\n",
        "])\n",
        "\n",
        "# Define the data for the Project table\n",
        "project_data = [(1, 1), (1, 2), (1, 3), (2, 1), (2, 4)]\n",
        "\n",
        "# Define the schema for the Employee table\n",
        "employee_schema = StructType([\n",
        " StructField(\"employee_id\", IntegerType(), True),\n",
        " StructField(\"name\", StringType(), True),\n",
        " StructField(\"experience_years\", IntegerType(), True)\n",
        "])\n",
        "\n",
        "# Define the data for the Employee table\n",
        "employee_data = [(1, \"Khaled\", 3), (2, \"Ali\", 2), (3, \"John\", 1), (4, \"Doe\", 2)]"
      ],
      "metadata": {
        "id": "0z47mxD5-gFb"
      }
    },
    {
      "cell_type": "code",
      "source": [
        "# import all necessary module\n",
        "from pyspark.sql import *\n",
        "from pyspark.sql.types import *\n",
        "from pyspark.sql.functions import *"
      ],
      "metadata": {
        "id": "UU0HHo1M98Mz"
      },
      "execution_count": 2,
      "outputs": []
    },
    {
      "cell_type": "code",
      "source": [
        "# create spark session\n",
        "spark = SparkSession.builder.master('local').appName('pyspark-day-11').getOrCreate()\n",
        "spark"
      ],
      "metadata": {
        "colab": {
          "base_uri": "https://localhost:8080/",
          "height": 221
        },
        "id": "od_dBPx1-o8G",
        "outputId": "3482d003-95b9-47b1-a4ab-c341e6b34d4f"
      },
      "execution_count": 3,
      "outputs": [
        {
          "output_type": "execute_result",
          "data": {
            "text/plain": [
              "<pyspark.sql.session.SparkSession at 0x7d5a52b8d1b0>"
            ],
            "text/html": [
              "\n",
              "            <div>\n",
              "                <p><b>SparkSession - in-memory</b></p>\n",
              "                \n",
              "        <div>\n",
              "            <p><b>SparkContext</b></p>\n",
              "\n",
              "            <p><a href=\"http://319a53ac3f1e:4040\">Spark UI</a></p>\n",
              "\n",
              "            <dl>\n",
              "              <dt>Version</dt>\n",
              "                <dd><code>v3.5.2</code></dd>\n",
              "              <dt>Master</dt>\n",
              "                <dd><code>local</code></dd>\n",
              "              <dt>AppName</dt>\n",
              "                <dd><code>pyspark-day-11</code></dd>\n",
              "            </dl>\n",
              "        </div>\n",
              "        \n",
              "            </div>\n",
              "        "
            ]
          },
          "metadata": {},
          "execution_count": 3
        }
      ]
    },
    {
      "cell_type": "code",
      "source": [
        " # Define the Project table\n",
        "project_data = [\n",
        " (1, 1),\n",
        " (1, 2),\n",
        " (1, 3),\n",
        " (2, 1),\n",
        " (2, 4),\n",
        "]\n",
        "project_columns = [\"project_id\", \"employee_id\"]"
      ],
      "metadata": {
        "id": "uI75EODJ-rn8"
      },
      "execution_count": 4,
      "outputs": []
    },
    {
      "cell_type": "code",
      "source": [
        "employee_data = [\n",
        " (1, \"Khaled\", 3),\n",
        " (2, \"Ali\", 2),\n",
        " (3, \"John\", 1),\n",
        " (4, \"Doe\", 2),\n",
        "]\n",
        "employee_columns = [\"employee_id\", \"name\", \"experience_years\"]"
      ],
      "metadata": {
        "id": "aRlcdMaP-vPT"
      },
      "execution_count": 5,
      "outputs": []
    },
    {
      "cell_type": "code",
      "source": [
        "# create project df\n",
        "project_df = spark.createDataFrame(schema = project_columns, data = project_data)\n",
        "project_df.show()"
      ],
      "metadata": {
        "colab": {
          "base_uri": "https://localhost:8080/"
        },
        "id": "_UOeJSV2-xi2",
        "outputId": "9c71bca5-5da9-45bc-e8cc-4f0af62d9cd0"
      },
      "execution_count": 6,
      "outputs": [
        {
          "output_type": "stream",
          "name": "stdout",
          "text": [
            "+----------+-----------+\n",
            "|project_id|employee_id|\n",
            "+----------+-----------+\n",
            "|         1|          1|\n",
            "|         1|          2|\n",
            "|         1|          3|\n",
            "|         2|          1|\n",
            "|         2|          4|\n",
            "+----------+-----------+\n",
            "\n"
          ]
        }
      ]
    },
    {
      "cell_type": "code",
      "source": [
        "project_df.printSchema()"
      ],
      "metadata": {
        "colab": {
          "base_uri": "https://localhost:8080/"
        },
        "id": "mqCotLET-7ug",
        "outputId": "6bff836b-b53a-4413-bc1b-172f13cd2a81"
      },
      "execution_count": 7,
      "outputs": [
        {
          "output_type": "stream",
          "name": "stdout",
          "text": [
            "root\n",
            " |-- project_id: long (nullable = true)\n",
            " |-- employee_id: long (nullable = true)\n",
            "\n"
          ]
        }
      ]
    },
    {
      "cell_type": "code",
      "source": [
        "emp_df = spark.createDataFrame(schema = employee_columns, data = employee_data)\n",
        "emp_df.show()"
      ],
      "metadata": {
        "colab": {
          "base_uri": "https://localhost:8080/"
        },
        "id": "V_Xb-lIX--lJ",
        "outputId": "f6fe309f-8c43-4f5b-ab3e-534679c0ce87"
      },
      "execution_count": 8,
      "outputs": [
        {
          "output_type": "stream",
          "name": "stdout",
          "text": [
            "+-----------+------+----------------+\n",
            "|employee_id|  name|experience_years|\n",
            "+-----------+------+----------------+\n",
            "|          1|Khaled|               3|\n",
            "|          2|   Ali|               2|\n",
            "|          3|  John|               1|\n",
            "|          4|   Doe|               2|\n",
            "+-----------+------+----------------+\n",
            "\n"
          ]
        }
      ]
    },
    {
      "cell_type": "code",
      "source": [
        "emp_df.printSchema()"
      ],
      "metadata": {
        "colab": {
          "base_uri": "https://localhost:8080/"
        },
        "id": "n6XIqvOY_AlF",
        "outputId": "0a1bdc4b-8517-4f44-9095-3f902e0a59e0"
      },
      "execution_count": 9,
      "outputs": [
        {
          "output_type": "stream",
          "name": "stdout",
          "text": [
            "root\n",
            " |-- employee_id: long (nullable = true)\n",
            " |-- name: string (nullable = true)\n",
            " |-- experience_years: long (nullable = true)\n",
            "\n"
          ]
        }
      ]
    },
    {
      "cell_type": "code",
      "source": [
        "# join both df\n",
        "result_df = project_df.join(emp_df, on='employee_id', how='inner')\n",
        "result_df.show()"
      ],
      "metadata": {
        "colab": {
          "base_uri": "https://localhost:8080/"
        },
        "id": "-VC8375g_C79",
        "outputId": "7d380c91-f038-4b05-c285-b4996841c4f3"
      },
      "execution_count": 10,
      "outputs": [
        {
          "output_type": "stream",
          "name": "stdout",
          "text": [
            "+-----------+----------+------+----------------+\n",
            "|employee_id|project_id|  name|experience_years|\n",
            "+-----------+----------+------+----------------+\n",
            "|          1|         1|Khaled|               3|\n",
            "|          1|         2|Khaled|               3|\n",
            "|          2|         1|   Ali|               2|\n",
            "|          3|         1|  John|               1|\n",
            "|          4|         2|   Doe|               2|\n",
            "+-----------+----------+------+----------------+\n",
            "\n"
          ]
        }
      ]
    },
    {
      "cell_type": "code",
      "source": [
        "result_df.groupBy(col('project_id')).agg(round(avg(col('experience_years')),2).alias('average_years')).show()"
      ],
      "metadata": {
        "colab": {
          "base_uri": "https://localhost:8080/"
        },
        "id": "r5qjTZ6v_bbs",
        "outputId": "624b8c14-1762-40b9-accb-78097299ef13"
      },
      "execution_count": 15,
      "outputs": [
        {
          "output_type": "stream",
          "name": "stdout",
          "text": [
            "+----------+-------------+\n",
            "|project_id|average_years|\n",
            "+----------+-------------+\n",
            "|         1|          2.0|\n",
            "|         2|          2.5|\n",
            "+----------+-------------+\n",
            "\n"
          ]
        }
      ]
    }
  ]
}