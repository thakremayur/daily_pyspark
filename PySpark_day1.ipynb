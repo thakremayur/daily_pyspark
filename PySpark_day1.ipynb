{
  "nbformat": 4,
  "nbformat_minor": 0,
  "metadata": {
    "colab": {
      "provenance": []
    },
    "kernelspec": {
      "name": "python3",
      "display_name": "Python 3"
    },
    "language_info": {
      "name": "python"
    }
  },
  "cells": [
    {
      "cell_type": "code",
      "execution_count": 1,
      "metadata": {
        "colab": {
          "base_uri": "https://localhost:8080/"
        },
        "id": "hWENbIuSkT9H",
        "outputId": "5fe80912-1107-4be7-8008-7119336ee7d2",
        "collapsed": true
      },
      "outputs": [
        {
          "output_type": "stream",
          "name": "stdout",
          "text": [
            "Collecting pyspark\n",
            "  Downloading pyspark-3.5.2.tar.gz (317.3 MB)\n",
            "\u001b[2K     \u001b[90m━━━━━━━━━━━━━━━━━━━━━━━━━━━━━━━━━━━━━━━━\u001b[0m \u001b[32m317.3/317.3 MB\u001b[0m \u001b[31m1.4 MB/s\u001b[0m eta \u001b[36m0:00:00\u001b[0m\n",
            "\u001b[?25h  Preparing metadata (setup.py) ... \u001b[?25l\u001b[?25hdone\n",
            "Requirement already satisfied: py4j==0.10.9.7 in /usr/local/lib/python3.10/dist-packages (from pyspark) (0.10.9.7)\n",
            "Building wheels for collected packages: pyspark\n",
            "  Building wheel for pyspark (setup.py) ... \u001b[?25l\u001b[?25hdone\n",
            "  Created wheel for pyspark: filename=pyspark-3.5.2-py2.py3-none-any.whl size=317812365 sha256=a5a5d4c652b9fc430582f04a2b0fd0aafe66dc83471d409c79023775f396714c\n",
            "  Stored in directory: /root/.cache/pip/wheels/34/34/bd/03944534c44b677cd5859f248090daa9fb27b3c8f8e5f49574\n",
            "Successfully built pyspark\n",
            "Installing collected packages: pyspark\n",
            "Successfully installed pyspark-3.5.2\n"
          ]
        }
      ],
      "source": [
        "%pip install pyspark"
      ]
    },
    {
      "cell_type": "markdown",
      "source": [
        "𝐅𝐢𝐧𝐝 𝐓𝐡𝐞 𝐓𝐞𝐚𝐦 𝐒𝐢𝐳𝐞 𝐏𝐫𝐨𝐛𝐥𝐞𝐦\n",
        "𝐖𝐫𝐢𝐭𝐞 𝐚𝐧 𝐏𝐲𝐬𝐩𝐚𝐫𝐤 𝐜𝐨𝐝𝐞 𝐭𝐨 𝐟𝐢𝐧𝐝 𝐭𝐡𝐞 𝐭𝐞𝐚𝐦 𝐬𝐢𝐳𝐞 𝐨𝐟 𝐞𝐚𝐜𝐡 𝐨𝐟 𝐭𝐡𝐞 𝐞𝐦𝐩𝐥𝐨𝐲𝐞𝐞𝐬.\n",
        "𝐑𝐞𝐭𝐮𝐫𝐧 𝐫𝐞𝐬𝐮𝐥𝐭 𝐭𝐚𝐛𝐥𝐞 𝐢𝐧 𝐚𝐧𝐲 𝐨𝐫𝐝𝐞𝐫.\n",
        "\n",
        "\n",
        "𝐒𝐜𝐡𝐞𝐦𝐚 𝐀𝐧𝐝 𝐃𝐚𝐭𝐚:\n",
        "\n",
        "# Employee-Team data\n",
        "data = [\n",
        " (1, 8),\n",
        " (2, 8),\n",
        " (3, 8),\n",
        " (4, 7),\n",
        " (5, 9),\n",
        " (6, 9)\n",
        "]\n",
        "\n",
        "# Define schema using StructType\n",
        "schema = StructType([\n",
        " StructField(\"employee_id\", IntegerType(), True),\n",
        " StructField(\"team_id\", IntegerType(), True)\n",
        "])"
      ],
      "metadata": {
        "id": "yFjR9NS4sBeb"
      }
    },
    {
      "cell_type": "code",
      "source": [
        "# import sparksession\n",
        "from pyspark.sql import *\n",
        "from pyspark.sql.types import *\n",
        "from pyspark.sql.functions import *"
      ],
      "metadata": {
        "id": "49O1D5GdsYoz"
      },
      "execution_count": 2,
      "outputs": []
    },
    {
      "cell_type": "code",
      "source": [
        "# creating spark session\n",
        "spark = SparkSession.builder.config('spark.ui.port','0').master('local').appName('PySpark-day1').getOrCreate()"
      ],
      "metadata": {
        "id": "QDLwOiuvueAP"
      },
      "execution_count": 3,
      "outputs": []
    },
    {
      "cell_type": "code",
      "source": [
        "spark"
      ],
      "metadata": {
        "id": "CRnYs5MDsTJJ",
        "colab": {
          "base_uri": "https://localhost:8080/",
          "height": 221
        },
        "outputId": "02258480-20b0-4c60-ab97-e6e6d2ee6506"
      },
      "execution_count": 4,
      "outputs": [
        {
          "output_type": "execute_result",
          "data": {
            "text/plain": [
              "<pyspark.sql.session.SparkSession at 0x7ef186a6f430>"
            ],
            "text/html": [
              "\n",
              "            <div>\n",
              "                <p><b>SparkSession - in-memory</b></p>\n",
              "                \n",
              "        <div>\n",
              "            <p><b>SparkContext</b></p>\n",
              "\n",
              "            <p><a href=\"http://4158d86f380a:43941\">Spark UI</a></p>\n",
              "\n",
              "            <dl>\n",
              "              <dt>Version</dt>\n",
              "                <dd><code>v3.5.2</code></dd>\n",
              "              <dt>Master</dt>\n",
              "                <dd><code>local</code></dd>\n",
              "              <dt>AppName</dt>\n",
              "                <dd><code>PySpark-day1</code></dd>\n",
              "            </dl>\n",
              "        </div>\n",
              "        \n",
              "            </div>\n",
              "        "
            ]
          },
          "metadata": {},
          "execution_count": 4
        }
      ]
    },
    {
      "cell_type": "code",
      "source": [
        "# data\n",
        "data = [\n",
        " (1, 8),\n",
        " (2, 8),\n",
        " (3, 8),\n",
        " (4, 7),\n",
        " (5, 9),\n",
        " (6, 9)\n",
        "]\n",
        "\n",
        "# schema\n",
        "schema = StructType([\n",
        "    StructField('employee_id', IntegerType(), True),\n",
        "    StructField('team_id', IntegerType(), True)\n",
        "])\n"
      ],
      "metadata": {
        "id": "uSMn-dHmsFki"
      },
      "execution_count": 5,
      "outputs": []
    },
    {
      "cell_type": "code",
      "source": [
        "# create dataframe\n",
        "df = spark.createDataFrame(data, schema)\n",
        "\n",
        "df.show()"
      ],
      "metadata": {
        "id": "xnhXrv9Vph8v",
        "colab": {
          "base_uri": "https://localhost:8080/"
        },
        "outputId": "cb7a7696-a79b-4d0f-f3da-0a97a5580a34"
      },
      "execution_count": 6,
      "outputs": [
        {
          "output_type": "stream",
          "name": "stdout",
          "text": [
            "+-----------+-------+\n",
            "|employee_id|team_id|\n",
            "+-----------+-------+\n",
            "|          1|      8|\n",
            "|          2|      8|\n",
            "|          3|      8|\n",
            "|          4|      7|\n",
            "|          5|      9|\n",
            "|          6|      9|\n",
            "+-----------+-------+\n",
            "\n"
          ]
        }
      ]
    },
    {
      "cell_type": "code",
      "source": [
        "result_df = df.groupby('team_id').agg(count('team_id').alias('team_size'))\n",
        "result_df.show()"
      ],
      "metadata": {
        "colab": {
          "base_uri": "https://localhost:8080/"
        },
        "id": "JpvxtFmWLc7i",
        "outputId": "7e598756-b444-4941-a972-597d80f9f17f"
      },
      "execution_count": 7,
      "outputs": [
        {
          "output_type": "stream",
          "name": "stdout",
          "text": [
            "+-------+---------+\n",
            "|team_id|team_size|\n",
            "+-------+---------+\n",
            "|      9|        2|\n",
            "|      8|        3|\n",
            "|      7|        1|\n",
            "+-------+---------+\n",
            "\n"
          ]
        }
      ]
    },
    {
      "cell_type": "code",
      "source": [
        "final_df = df.join(result_df, on='team_id', how='left').select('employee_id', 'team_size').orderBy('employee_id')\n",
        "final_df.show()"
      ],
      "metadata": {
        "colab": {
          "base_uri": "https://localhost:8080/"
        },
        "id": "d1WiW-PqL7Sy",
        "outputId": "0990aab8-0e8f-4ca4-9263-c107dd5e1a85"
      },
      "execution_count": 8,
      "outputs": [
        {
          "output_type": "stream",
          "name": "stdout",
          "text": [
            "+-----------+---------+\n",
            "|employee_id|team_size|\n",
            "+-----------+---------+\n",
            "|          1|        3|\n",
            "|          2|        3|\n",
            "|          3|        3|\n",
            "|          4|        1|\n",
            "|          5|        2|\n",
            "|          6|        2|\n",
            "+-----------+---------+\n",
            "\n"
          ]
        }
      ]
    }
  ]
}