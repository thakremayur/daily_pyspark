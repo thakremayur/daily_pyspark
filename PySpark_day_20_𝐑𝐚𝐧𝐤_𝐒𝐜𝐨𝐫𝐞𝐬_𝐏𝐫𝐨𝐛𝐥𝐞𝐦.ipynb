{
  "nbformat": 4,
  "nbformat_minor": 0,
  "metadata": {
    "colab": {
      "provenance": []
    },
    "kernelspec": {
      "name": "python3",
      "display_name": "Python 3"
    },
    "language_info": {
      "name": "python"
    }
  },
  "cells": [
    {
      "cell_type": "code",
      "execution_count": 1,
      "metadata": {
        "colab": {
          "base_uri": "https://localhost:8080/"
        },
        "id": "4i72bHhPAQbG",
        "outputId": "4bc4ab85-b186-43aa-e992-b23d874fb6cb"
      },
      "outputs": [
        {
          "output_type": "stream",
          "name": "stdout",
          "text": [
            "Collecting pyspark\n",
            "  Downloading pyspark-3.5.3.tar.gz (317.3 MB)\n",
            "\u001b[2K     \u001b[90m━━━━━━━━━━━━━━━━━━━━━━━━━━━━━━━━━━━━━━━━\u001b[0m \u001b[32m317.3/317.3 MB\u001b[0m \u001b[31m1.4 MB/s\u001b[0m eta \u001b[36m0:00:00\u001b[0m\n",
            "\u001b[?25h  Preparing metadata (setup.py) ... \u001b[?25l\u001b[?25hdone\n",
            "Requirement already satisfied: py4j==0.10.9.7 in /usr/local/lib/python3.10/dist-packages (from pyspark) (0.10.9.7)\n",
            "Building wheels for collected packages: pyspark\n",
            "  Building wheel for pyspark (setup.py) ... \u001b[?25l\u001b[?25hdone\n",
            "  Created wheel for pyspark: filename=pyspark-3.5.3-py2.py3-none-any.whl size=317840625 sha256=9d5fc3ea968e7101fbe43bd83188537eb863ea4605b786fd07931a9deee9edae\n",
            "  Stored in directory: /root/.cache/pip/wheels/1b/3a/92/28b93e2fbfdbb07509ca4d6f50c5e407f48dce4ddbda69a4ab\n",
            "Successfully built pyspark\n",
            "Installing collected packages: pyspark\n",
            "Successfully installed pyspark-3.5.3\n"
          ]
        }
      ],
      "source": [
        "# ps-36\n",
        "%pip install pyspark"
      ]
    },
    {
      "cell_type": "markdown",
      "source": [
        "36_𝐑𝐚𝐧𝐤 𝐒𝐜𝐨𝐫𝐞𝐬 𝐏𝐫𝐨𝐛𝐥𝐞𝐦\n",
        "\n",
        " Write a pysspark code to rank scores. If there is a tie between two scores, both should have the same ranking.\n",
        " Note that after a tie, the next ranking number should be the next consecutive integer value.In other words,\n",
        "there should be no “holes” between ranks.\n",
        "\n",
        "𝐒𝐜𝐡𝐞𝐦𝐚 𝐀𝐧𝐝 𝐃𝐚𝐭𝐚:\n",
        "================\n",
        " # Define the schema for the DataFrame\n",
        "schema = StructType([\n",
        " StructField(\"Id\", IntegerType(), True),\n",
        " StructField(\"Score\", FloatType(), True)\n",
        "])\n",
        "\n",
        "# Data to be inserted into the DataFrame\n",
        "data = [\n",
        " (1, 3.50),\n",
        " (2, 3.65),\n",
        " (3, 4.00),\n",
        " (4, 3.85),\n",
        " (5, 4.00),\n",
        " (6, 3.65)]"
      ],
      "metadata": {
        "id": "8ZQahmA8BJjl"
      }
    },
    {
      "cell_type": "code",
      "source": [
        "# import all necessary module\n",
        "from pyspark.sql import *\n",
        "from pyspark.sql.types import *\n",
        "from pyspark.sql.functions import *"
      ],
      "metadata": {
        "id": "2IHcpPHtASEi"
      },
      "execution_count": 2,
      "outputs": []
    },
    {
      "cell_type": "code",
      "source": [
        "# create spark session\n",
        "spark = SparkSession.builder.master('local').appName('pyspark-day-19').getOrCreate()\n",
        "spark"
      ],
      "metadata": {
        "colab": {
          "base_uri": "https://localhost:8080/",
          "height": 221
        },
        "id": "54d9t4DaAX1x",
        "outputId": "7c46d40e-22b3-429c-c801-dd30987217c5"
      },
      "execution_count": 3,
      "outputs": [
        {
          "output_type": "execute_result",
          "data": {
            "text/plain": [
              "<pyspark.sql.session.SparkSession at 0x7c2c81f798d0>"
            ],
            "text/html": [
              "\n",
              "            <div>\n",
              "                <p><b>SparkSession - in-memory</b></p>\n",
              "                \n",
              "        <div>\n",
              "            <p><b>SparkContext</b></p>\n",
              "\n",
              "            <p><a href=\"http://6162148ea905:4040\">Spark UI</a></p>\n",
              "\n",
              "            <dl>\n",
              "              <dt>Version</dt>\n",
              "                <dd><code>v3.5.3</code></dd>\n",
              "              <dt>Master</dt>\n",
              "                <dd><code>local</code></dd>\n",
              "              <dt>AppName</dt>\n",
              "                <dd><code>pyspark-day-19</code></dd>\n",
              "            </dl>\n",
              "        </div>\n",
              "        \n",
              "            </div>\n",
              "        "
            ]
          },
          "metadata": {},
          "execution_count": 3
        }
      ]
    },
    {
      "cell_type": "code",
      "source": [
        " # Define the schema for the DataFrame\n",
        "schema = StructType([\n",
        " StructField(\"Id\", IntegerType(), True),\n",
        " StructField(\"Score\", FloatType(), True)\n",
        "])\n",
        "\n",
        "# Data to be inserted into the DataFrame\n",
        "data = [\n",
        " (1, 3.50),\n",
        " (2, 3.65),\n",
        " (3, 4.00),\n",
        " (4, 3.85),\n",
        " (5, 4.00),\n",
        " (6, 3.65)]"
      ],
      "metadata": {
        "id": "Oz6LxaHkAZyG"
      },
      "execution_count": 4,
      "outputs": []
    },
    {
      "cell_type": "code",
      "source": [
        "score = spark.createDataFrame(schema = schema, data = data)\n",
        "score.show()"
      ],
      "metadata": {
        "colab": {
          "base_uri": "https://localhost:8080/"
        },
        "id": "G_zNuiZNBXaf",
        "outputId": "3e622d1b-b129-4657-bf63-db8fef82e67e"
      },
      "execution_count": 5,
      "outputs": [
        {
          "output_type": "stream",
          "name": "stdout",
          "text": [
            "+---+-----+\n",
            "| Id|Score|\n",
            "+---+-----+\n",
            "|  1|  3.5|\n",
            "|  2| 3.65|\n",
            "|  3|  4.0|\n",
            "|  4| 3.85|\n",
            "|  5|  4.0|\n",
            "|  6| 3.65|\n",
            "+---+-----+\n",
            "\n"
          ]
        }
      ]
    },
    {
      "cell_type": "code",
      "source": [
        "# define window\n",
        "win_spec = Window.orderBy(col('score').desc())"
      ],
      "metadata": {
        "id": "WvXHZe9XBhip"
      },
      "execution_count": 9,
      "outputs": []
    },
    {
      "cell_type": "code",
      "source": [
        "# add column\n",
        "score = score.withColumn('rank', dense_rank().over(win_spec))\n",
        "score.show()"
      ],
      "metadata": {
        "colab": {
          "base_uri": "https://localhost:8080/"
        },
        "id": "2rRlR9l7Cbwt",
        "outputId": "9873e3ce-4d02-4411-c210-fe79e7b0ae99"
      },
      "execution_count": 11,
      "outputs": [
        {
          "output_type": "stream",
          "name": "stdout",
          "text": [
            "+---+-----+----+\n",
            "| Id|Score|rank|\n",
            "+---+-----+----+\n",
            "|  3|  4.0|   1|\n",
            "|  5|  4.0|   1|\n",
            "|  4| 3.85|   2|\n",
            "|  2| 3.65|   3|\n",
            "|  6| 3.65|   3|\n",
            "|  1|  3.5|   4|\n",
            "+---+-----+----+\n",
            "\n"
          ]
        }
      ]
    }
  ]
}