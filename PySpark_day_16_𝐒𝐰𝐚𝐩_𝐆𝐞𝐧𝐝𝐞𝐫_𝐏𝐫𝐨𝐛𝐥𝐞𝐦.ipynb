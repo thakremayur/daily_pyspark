{
  "nbformat": 4,
  "nbformat_minor": 0,
  "metadata": {
    "colab": {
      "provenance": []
    },
    "kernelspec": {
      "name": "python3",
      "display_name": "Python 3"
    },
    "language_info": {
      "name": "python"
    }
  },
  "cells": [
    {
      "cell_type": "code",
      "execution_count": 1,
      "metadata": {
        "colab": {
          "base_uri": "https://localhost:8080/"
        },
        "id": "-s5Up1aHneNs",
        "outputId": "c2d83d08-7dd2-4cbd-8ecc-d8b2820d9df8"
      },
      "outputs": [
        {
          "output_type": "stream",
          "name": "stdout",
          "text": [
            "Collecting pyspark\n",
            "  Downloading pyspark-3.5.3.tar.gz (317.3 MB)\n",
            "\u001b[2K     \u001b[90m━━━━━━━━━━━━━━━━━━━━━━━━━━━━━━━━━━━━━━━━\u001b[0m \u001b[32m317.3/317.3 MB\u001b[0m \u001b[31m3.9 MB/s\u001b[0m eta \u001b[36m0:00:00\u001b[0m\n",
            "\u001b[?25h  Preparing metadata (setup.py) ... \u001b[?25l\u001b[?25hdone\n",
            "Requirement already satisfied: py4j==0.10.9.7 in /usr/local/lib/python3.10/dist-packages (from pyspark) (0.10.9.7)\n",
            "Building wheels for collected packages: pyspark\n",
            "  Building wheel for pyspark (setup.py) ... \u001b[?25l\u001b[?25hdone\n",
            "  Created wheel for pyspark: filename=pyspark-3.5.3-py2.py3-none-any.whl size=317840625 sha256=5b7c9450197bd1804061fd1ac7cce26f86bd8f0ceaf78b155740ff77549945cd\n",
            "  Stored in directory: /root/.cache/pip/wheels/1b/3a/92/28b93e2fbfdbb07509ca4d6f50c5e407f48dce4ddbda69a4ab\n",
            "Successfully built pyspark\n",
            "Installing collected packages: pyspark\n",
            "Successfully installed pyspark-3.5.3\n"
          ]
        }
      ],
      "source": [
        "# ps-40\n",
        "%pip install pyspark"
      ]
    },
    {
      "cell_type": "markdown",
      "source": [
        "🌟 𝐏𝐘𝐒𝐏𝐀𝐑𝐊 𝐏𝐫𝐚𝐜𝐭𝐢𝐜𝐞/𝐈𝐧𝐭𝐞𝐫𝐯𝐢𝐞𝐰 𝐏𝐫𝐨𝐛𝐥𝐞𝐦 📊\n",
        "========================================\n",
        "𝐒𝐰𝐚𝐩 𝐆𝐞𝐧𝐝𝐞𝐫 𝐏𝐫𝐨𝐛𝐥𝐞𝐦\n",
        "\n",
        "Given a df salary, such as the one below, that has m=male and f=female values.\n",
        " Swap all f and m values (i.e., change all f values to m and vice versa)\n",
        "\n",
        "𝐒𝐜𝐡𝐞𝐦𝐚 𝐀𝐧𝐝 𝐃𝐚𝐭𝐚:\n",
        "================\n",
        " # Define the schema for the DataFrame\n",
        "schema = StructType([\n",
        " StructField(\"id\", IntegerType(), True),\n",
        " StructField(\"name\", StringType(), True),\n",
        " StructField(\"sex\", StringType(), True),\n",
        " StructField(\"salary\", IntegerType(), True),\n",
        "])\n",
        "\n",
        "# Define the data\n",
        "data = [\n",
        " (1, \"A\", \"m\", 2500),\n",
        " (2, \"B\", \"f\", 1500),\n",
        " (3, \"C\", \"m\", 5500),\n",
        " (4, \"D\", \"f\", 500),\n",
        "]"
      ],
      "metadata": {
        "id": "pgprhcXFoQ3o"
      }
    },
    {
      "cell_type": "code",
      "source": [
        "# import all necessary module\n",
        "from pyspark.sql import *\n",
        "from pyspark.sql.types import *\n",
        "from pyspark.sql.functions import *"
      ],
      "metadata": {
        "id": "K7DNOq1Dnw_S"
      },
      "execution_count": 16,
      "outputs": []
    },
    {
      "cell_type": "code",
      "source": [
        "# create spark session\n",
        "spark = SparkSession.builder.master('local').appName('pyspark-day-16').getOrCreate()\n",
        "spark"
      ],
      "metadata": {
        "colab": {
          "base_uri": "https://localhost:8080/",
          "height": 221
        },
        "id": "7NlkGPXnn7e6",
        "outputId": "132fa0bb-f6e6-4175-e3e6-a85cb55975dd"
      },
      "execution_count": 17,
      "outputs": [
        {
          "output_type": "execute_result",
          "data": {
            "text/plain": [
              "<pyspark.sql.session.SparkSession at 0x7cbd0da798a0>"
            ],
            "text/html": [
              "\n",
              "            <div>\n",
              "                <p><b>SparkSession - in-memory</b></p>\n",
              "                \n",
              "        <div>\n",
              "            <p><b>SparkContext</b></p>\n",
              "\n",
              "            <p><a href=\"http://ceabe690c857:4040\">Spark UI</a></p>\n",
              "\n",
              "            <dl>\n",
              "              <dt>Version</dt>\n",
              "                <dd><code>v3.5.3</code></dd>\n",
              "              <dt>Master</dt>\n",
              "                <dd><code>local</code></dd>\n",
              "              <dt>AppName</dt>\n",
              "                <dd><code>pyspark-day-15</code></dd>\n",
              "            </dl>\n",
              "        </div>\n",
              "        \n",
              "            </div>\n",
              "        "
            ]
          },
          "metadata": {},
          "execution_count": 17
        }
      ]
    },
    {
      "cell_type": "code",
      "source": [
        " # Define the schema for the DataFrame\n",
        "schema = StructType([\n",
        " StructField(\"id\", IntegerType(), True),\n",
        " StructField(\"name\", StringType(), True),\n",
        " StructField(\"sex\", StringType(), True),\n",
        " StructField(\"salary\", IntegerType(), True),\n",
        "])\n",
        "\n",
        "# Define the data\n",
        "data = [\n",
        " (1, \"A\", \"m\", 2500),\n",
        " (2, \"B\", \"f\", 1500),\n",
        " (3, \"C\", \"m\", 5500),\n",
        " (4, \"D\", \"f\", 500),\n",
        "]"
      ],
      "metadata": {
        "id": "By1vNrmzn-CN"
      },
      "execution_count": 4,
      "outputs": []
    },
    {
      "cell_type": "code",
      "source": [
        "# create df\n",
        "gender_df = spark.createDataFrame(schema = schema, data = data)\n",
        "gender_df.show()"
      ],
      "metadata": {
        "colab": {
          "base_uri": "https://localhost:8080/"
        },
        "id": "tsG0zYrnoYqZ",
        "outputId": "5f79a1ac-cbe9-4aa3-f8c1-83eb9f6e9350"
      },
      "execution_count": 5,
      "outputs": [
        {
          "output_type": "stream",
          "name": "stdout",
          "text": [
            "+---+----+---+------+\n",
            "| id|name|sex|salary|\n",
            "+---+----+---+------+\n",
            "|  1|   A|  m|  2500|\n",
            "|  2|   B|  f|  1500|\n",
            "|  3|   C|  m|  5500|\n",
            "|  4|   D|  f|   500|\n",
            "+---+----+---+------+\n",
            "\n"
          ]
        }
      ]
    },
    {
      "cell_type": "code",
      "source": [
        "gender_df.printSchema()"
      ],
      "metadata": {
        "colab": {
          "base_uri": "https://localhost:8080/"
        },
        "id": "gfXNbZjcojK2",
        "outputId": "f92c89ae-2fb6-492c-c910-2eb3acd0568f"
      },
      "execution_count": 6,
      "outputs": [
        {
          "output_type": "stream",
          "name": "stdout",
          "text": [
            "root\n",
            " |-- id: integer (nullable = true)\n",
            " |-- name: string (nullable = true)\n",
            " |-- sex: string (nullable = true)\n",
            " |-- salary: integer (nullable = true)\n",
            "\n"
          ]
        }
      ]
    },
    {
      "cell_type": "code",
      "source": [
        "gender_df.withColumn('sex', when(col('sex') == 'm', 'f').otherwise('m')).show()"
      ],
      "metadata": {
        "colab": {
          "base_uri": "https://localhost:8080/"
        },
        "id": "xtngJgX3orrJ",
        "outputId": "3915aac9-aac6-4fd6-a026-266c16cca361"
      },
      "execution_count": 14,
      "outputs": [
        {
          "output_type": "stream",
          "name": "stdout",
          "text": [
            "+---+----+---+------+\n",
            "| id|name|sex|salary|\n",
            "+---+----+---+------+\n",
            "|  1|   A|  f|  2500|\n",
            "|  2|   B|  m|  1500|\n",
            "|  3|   C|  f|  5500|\n",
            "|  4|   D|  m|   500|\n",
            "+---+----+---+------+\n",
            "\n"
          ]
        }
      ]
    }
  ]
}