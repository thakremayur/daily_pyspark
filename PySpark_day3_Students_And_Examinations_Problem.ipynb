{
  "nbformat": 4,
  "nbformat_minor": 0,
  "metadata": {
    "colab": {
      "provenance": []
    },
    "kernelspec": {
      "name": "python3",
      "display_name": "Python 3"
    },
    "language_info": {
      "name": "python"
    }
  },
  "cells": [
    {
      "cell_type": "code",
      "source": [
        "# install pyspark lib\n",
        "%pip install pyspark"
      ],
      "metadata": {
        "colab": {
          "base_uri": "https://localhost:8080/"
        },
        "id": "MkGKYM4XRu7X",
        "outputId": "f65477e9-ca12-4c4d-8cb7-336b7ca681db"
      },
      "execution_count": 2,
      "outputs": [
        {
          "output_type": "stream",
          "name": "stdout",
          "text": [
            "Collecting pyspark\n",
            "  Downloading pyspark-3.5.2.tar.gz (317.3 MB)\n",
            "\u001b[2K     \u001b[90m━━━━━━━━━━━━━━━━━━━━━━━━━━━━━━━━━━━━━━━━\u001b[0m \u001b[32m317.3/317.3 MB\u001b[0m \u001b[31m4.6 MB/s\u001b[0m eta \u001b[36m0:00:00\u001b[0m\n",
            "\u001b[?25h  Preparing metadata (setup.py) ... \u001b[?25l\u001b[?25hdone\n",
            "Requirement already satisfied: py4j==0.10.9.7 in /usr/local/lib/python3.10/dist-packages (from pyspark) (0.10.9.7)\n",
            "Building wheels for collected packages: pyspark\n",
            "  Building wheel for pyspark (setup.py) ... \u001b[?25l\u001b[?25hdone\n",
            "  Created wheel for pyspark: filename=pyspark-3.5.2-py2.py3-none-any.whl size=317812365 sha256=340bea9c65626655f4a0d24b53cc4a0de144bbd2b1f9ccc6a8055765cb8c884d\n",
            "  Stored in directory: /root/.cache/pip/wheels/34/34/bd/03944534c44b677cd5859f248090daa9fb27b3c8f8e5f49574\n",
            "Successfully built pyspark\n",
            "Installing collected packages: pyspark\n",
            "Successfully installed pyspark-3.5.2\n"
          ]
        }
      ]
    },
    {
      "cell_type": "markdown",
      "source": [
        "🌟 𝐏𝐘𝐒𝐏𝐀𝐑𝐊 𝐏𝐫𝐚𝐜𝐭𝐢𝐜𝐞/𝐈𝐧𝐭𝐞𝐫𝐯𝐢𝐞𝐰 𝐏𝐫𝐨𝐛𝐥𝐞𝐦 📊\n",
        "========================================\n",
        "Students And Examinations Problem\n",
        "\n",
        "Write an Pyspark code to find the number of times each student attended each exam.\n",
        "Order the result table by student_id and subject_name.\n",
        "\n",
        "𝐒𝐜𝐡𝐞𝐦𝐚 𝐀𝐧𝐝 𝐃𝐚𝐭𝐚:\n",
        "================\n",
        " # Define the schema for the Examinations table\n",
        "examinations_schema = StructType([\n",
        " StructField(\"student_id\", IntegerType(), True),\n",
        " StructField(\"subject_name\", StringType(), True)\n",
        "])\n",
        "\n",
        "# Data for the Examinations table\n",
        "examinations_data = [\n",
        " (1, \"Math\"),\n",
        " (1, \"Physics\"),\n",
        " (1, \"Programming\"),\n",
        " (2, \"Programming\"),\n",
        " (1, \"Physics\"),\n",
        " (1, \"Math\"),\n",
        " (13, \"Math\"),\n",
        " (13, \"Programming\"),\n",
        " (13, \"Physics\"),\n",
        " (2, \"Math\"),\n",
        " (1, \"Math\")\n",
        "]\n",
        "\n",
        "# Define the schema for the Students table\n",
        "students_schema = StructType([\n",
        " StructField(\"student_id\", IntegerType(), True),\n",
        " StructField(\"student_name\", StringType(), True)\n",
        "])\n",
        "\n",
        "# Data for the Students table\n",
        "students_data = [\n",
        " (1, \"Alice\"),\n",
        " (2, \"Bob\"),\n",
        " (13, \"John\"),\n",
        " (6, \"Alex\")\n",
        "]\n",
        "\n",
        "# Define the schema for the Subjects table\n",
        "subjects_schema = StructType([\n",
        " StructField(\"subject_name\", StringType(), True)\n",
        "])\n",
        "\n",
        "# Data for the Subjects table\n",
        "subjects_data = [\n",
        " (\"Math\",),\n",
        " (\"Physics\",),\n",
        " (\"Programming\",)\n",
        "]"
      ],
      "metadata": {
        "id": "IAbEtVZRT984"
      }
    },
    {
      "cell_type": "code",
      "source": [
        "# import all necessary module\n",
        "from pyspark.sql import *\n",
        "from pyspark.sql.types import *\n",
        "from pyspark.sql.functions import *"
      ],
      "metadata": {
        "id": "zHoQZoimSjTv"
      },
      "execution_count": 4,
      "outputs": []
    },
    {
      "cell_type": "code",
      "execution_count": 5,
      "metadata": {
        "id": "CJPFxmizQ0Q-"
      },
      "outputs": [],
      "source": [
        "# Initialize spark session\n",
        "spark = SparkSession.builder.master('local').appName('PySpark-day3').getOrCreate()"
      ]
    },
    {
      "cell_type": "code",
      "source": [
        "spark"
      ],
      "metadata": {
        "colab": {
          "base_uri": "https://localhost:8080/",
          "height": 221
        },
        "id": "WKw5629VSLzH",
        "outputId": "9d068031-70c6-457d-cd59-ff51dccbdc8f"
      },
      "execution_count": 6,
      "outputs": [
        {
          "output_type": "execute_result",
          "data": {
            "text/plain": [
              "<pyspark.sql.session.SparkSession at 0x7d8f9b32e500>"
            ],
            "text/html": [
              "\n",
              "            <div>\n",
              "                <p><b>SparkSession - in-memory</b></p>\n",
              "                \n",
              "        <div>\n",
              "            <p><b>SparkContext</b></p>\n",
              "\n",
              "            <p><a href=\"http://10848712ed24:4040\">Spark UI</a></p>\n",
              "\n",
              "            <dl>\n",
              "              <dt>Version</dt>\n",
              "                <dd><code>v3.5.2</code></dd>\n",
              "              <dt>Master</dt>\n",
              "                <dd><code>local</code></dd>\n",
              "              <dt>AppName</dt>\n",
              "                <dd><code>PySpark-day3</code></dd>\n",
              "            </dl>\n",
              "        </div>\n",
              "        \n",
              "            </div>\n",
              "        "
            ]
          },
          "metadata": {},
          "execution_count": 6
        }
      ]
    },
    {
      "cell_type": "code",
      "source": [
        "# define schema and data for examination table\n",
        "examinations_schema = StructType([\n",
        " StructField(\"student_id\", IntegerType(), True),\n",
        " StructField(\"subject_name\", StringType(), True)\n",
        "])\n",
        "\n",
        "examinations_data = [\n",
        " (1, \"Math\"),\n",
        " (1, \"Physics\"),\n",
        " (1, \"Programming\"),\n",
        " (2, \"Programming\"),\n",
        " (1, \"Physics\"),\n",
        " (1, \"Math\"),\n",
        " (13, \"Math\"),\n",
        " (13, \"Programming\"),\n",
        " (13, \"Physics\"),\n",
        " (2, \"Math\"),\n",
        " (1, \"Math\")\n",
        "]"
      ],
      "metadata": {
        "id": "lh1pj-UnTBvP"
      },
      "execution_count": 10,
      "outputs": []
    },
    {
      "cell_type": "code",
      "source": [
        "# define schema and data for student\n",
        "students_schema = StructType([\n",
        " StructField(\"student_id\", IntegerType(), True),\n",
        " StructField(\"student_name\", StringType(), True)\n",
        "])\n",
        "\n",
        "students_data = [\n",
        " (1, \"Alice\"),\n",
        " (2, \"Bob\"),\n",
        " (13, \"John\"),\n",
        " (6, \"Alex\")\n",
        "]"
      ],
      "metadata": {
        "id": "zZVeyWDDVI5F"
      },
      "execution_count": 7,
      "outputs": []
    },
    {
      "cell_type": "code",
      "source": [
        "# define schema and data for subject\n",
        "subjects_schema = StructType([\n",
        " StructField(\"subject_name\", StringType(), True)\n",
        "])\n",
        "\n",
        "subjects_data = [\n",
        " (\"Math\",),\n",
        " (\"Physics\",),\n",
        " (\"Programming\",)\n",
        "]"
      ],
      "metadata": {
        "id": "_q2UFHaeVWLi"
      },
      "execution_count": 8,
      "outputs": []
    },
    {
      "cell_type": "code",
      "source": [
        "# create df for examination\n",
        "exam = spark.createDataFrame(schema = examinations_schema, data = examinations_data)\n",
        "exam.show()"
      ],
      "metadata": {
        "colab": {
          "base_uri": "https://localhost:8080/"
        },
        "id": "VfXhowM-VhoI",
        "outputId": "a49d6e7d-1ddd-4e92-f8f2-f573aa0ac1ef"
      },
      "execution_count": 11,
      "outputs": [
        {
          "output_type": "stream",
          "name": "stdout",
          "text": [
            "+----------+------------+\n",
            "|student_id|subject_name|\n",
            "+----------+------------+\n",
            "|         1|        Math|\n",
            "|         1|     Physics|\n",
            "|         1| Programming|\n",
            "|         2| Programming|\n",
            "|         1|     Physics|\n",
            "|         1|        Math|\n",
            "|        13|        Math|\n",
            "|        13| Programming|\n",
            "|        13|     Physics|\n",
            "|         2|        Math|\n",
            "|         1|        Math|\n",
            "+----------+------------+\n",
            "\n"
          ]
        }
      ]
    },
    {
      "cell_type": "code",
      "source": [
        "# create df for student\n",
        "student = spark.createDataFrame(schema = students_schema, data = students_data)\n",
        "student.show()"
      ],
      "metadata": {
        "colab": {
          "base_uri": "https://localhost:8080/"
        },
        "id": "SRqeRiG6VzEC",
        "outputId": "072ca39f-f325-429c-8e9a-94a8b07538d7"
      },
      "execution_count": 12,
      "outputs": [
        {
          "output_type": "stream",
          "name": "stdout",
          "text": [
            "+----------+------------+\n",
            "|student_id|student_name|\n",
            "+----------+------------+\n",
            "|         1|       Alice|\n",
            "|         2|         Bob|\n",
            "|        13|        John|\n",
            "|         6|        Alex|\n",
            "+----------+------------+\n",
            "\n"
          ]
        }
      ]
    },
    {
      "cell_type": "code",
      "source": [
        "# create df for subject\n",
        "subject = spark.createDataFrame(schema = subjects_schema, data = subjects_data)\n",
        "subject.show()"
      ],
      "metadata": {
        "colab": {
          "base_uri": "https://localhost:8080/"
        },
        "id": "i1nUVLZQWC7T",
        "outputId": "08b61edf-37ec-4d96-bed6-cada34882bf3"
      },
      "execution_count": 14,
      "outputs": [
        {
          "output_type": "stream",
          "name": "stdout",
          "text": [
            "+------------+\n",
            "|subject_name|\n",
            "+------------+\n",
            "|        Math|\n",
            "|     Physics|\n",
            "| Programming|\n",
            "+------------+\n",
            "\n"
          ]
        }
      ]
    },
    {
      "cell_type": "code",
      "source": [
        "# cross join between subject and student to get all possible combination\n",
        "stu_sub_cross = student.join(subject, how='cross')\n",
        "# left join exam to above df on both column\n",
        "result = stu_sub_cross.join(exam, on=['student_id','subject_name'], how='left')\n",
        "result.show()"
      ],
      "metadata": {
        "colab": {
          "base_uri": "https://localhost:8080/"
        },
        "id": "d4_iHiy0WXH-",
        "outputId": "18f20d7c-d61c-4f8c-f02a-142ef96f803f"
      },
      "execution_count": 32,
      "outputs": [
        {
          "output_type": "stream",
          "name": "stdout",
          "text": [
            "+----------+------------+------------+\n",
            "|student_id|subject_name|student_name|\n",
            "+----------+------------+------------+\n",
            "|         6|        Math|        Alex|\n",
            "|         1| Programming|       Alice|\n",
            "|        13| Programming|        John|\n",
            "|         6| Programming|        Alex|\n",
            "|         2| Programming|         Bob|\n",
            "|        13|        Math|        John|\n",
            "|         2|        Math|         Bob|\n",
            "|         1|        Math|       Alice|\n",
            "|         1|        Math|       Alice|\n",
            "|         1|        Math|       Alice|\n",
            "|         1|     Physics|       Alice|\n",
            "|         1|     Physics|       Alice|\n",
            "|        13|     Physics|        John|\n",
            "|         6|     Physics|        Alex|\n",
            "|         2|     Physics|         Bob|\n",
            "+----------+------------+------------+\n",
            "\n"
          ]
        }
      ]
    },
    {
      "cell_type": "code",
      "source": [
        "# group by given 3 col\n",
        "final_result = result.groupBy(['student_id','subject_name','student_name'])\\\n",
        "                      .count()\\\n",
        "                      .withColumnRenamed('count','attended_exam')\\\n",
        "                      .select(['student_id','student_name','subject_name','attended_exam'])\\\n",
        "                      .orderBy(['student_id','subject_name'])\n",
        "final_result.show()"
      ],
      "metadata": {
        "colab": {
          "base_uri": "https://localhost:8080/"
        },
        "id": "PX8yNqIhcJKM",
        "outputId": "6afb4b01-d6b9-40ef-ade2-6af9c1a5647f"
      },
      "execution_count": 38,
      "outputs": [
        {
          "output_type": "stream",
          "name": "stdout",
          "text": [
            "+----------+------------+------------+-------------+\n",
            "|student_id|student_name|subject_name|attended_exam|\n",
            "+----------+------------+------------+-------------+\n",
            "|         1|       Alice|        Math|            3|\n",
            "|         1|       Alice|     Physics|            2|\n",
            "|         1|       Alice| Programming|            1|\n",
            "|         2|         Bob|        Math|            1|\n",
            "|         2|         Bob|     Physics|            1|\n",
            "|         2|         Bob| Programming|            1|\n",
            "|         6|        Alex|        Math|            1|\n",
            "|         6|        Alex|     Physics|            1|\n",
            "|         6|        Alex| Programming|            1|\n",
            "|        13|        John|        Math|            1|\n",
            "|        13|        John|     Physics|            1|\n",
            "|        13|        John| Programming|            1|\n",
            "+----------+------------+------------+-------------+\n",
            "\n"
          ]
        }
      ]
    }
  ]
}